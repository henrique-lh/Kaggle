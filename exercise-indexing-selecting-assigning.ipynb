{
 "cells": [
  {
   "cell_type": "markdown",
   "id": "4b11cb56",
   "metadata": {
    "papermill": {
     "duration": 0.010094,
     "end_time": "2022-05-28T13:27:04.770466",
     "exception": false,
     "start_time": "2022-05-28T13:27:04.760372",
     "status": "completed"
    },
    "tags": []
   },
   "source": [
    "**This notebook is an exercise in the [Pandas](https://www.kaggle.com/learn/pandas) course.  You can reference the tutorial at [this link](https://www.kaggle.com/residentmario/indexing-selecting-assigning).**\n",
    "\n",
    "---\n"
   ]
  },
  {
   "cell_type": "markdown",
   "id": "69db00d4",
   "metadata": {
    "papermill": {
     "duration": 0.008601,
     "end_time": "2022-05-28T13:27:04.788562",
     "exception": false,
     "start_time": "2022-05-28T13:27:04.779961",
     "status": "completed"
    },
    "tags": []
   },
   "source": [
    "# Introduction\n",
    "\n",
    "In this set of exercises we will work with the [Wine Reviews dataset](https://www.kaggle.com/zynicide/wine-reviews). "
   ]
  },
  {
   "cell_type": "markdown",
   "id": "997e480b",
   "metadata": {
    "papermill": {
     "duration": 0.008558,
     "end_time": "2022-05-28T13:27:04.806121",
     "exception": false,
     "start_time": "2022-05-28T13:27:04.797563",
     "status": "completed"
    },
    "tags": []
   },
   "source": [
    "Run the following cell to load your data and some utility functions (including code to check your answers)."
   ]
  },
  {
   "cell_type": "code",
   "execution_count": 1,
   "id": "18cb19c5",
   "metadata": {
    "execution": {
     "iopub.execute_input": "2022-05-28T13:27:04.826630Z",
     "iopub.status.busy": "2022-05-28T13:27:04.826015Z",
     "iopub.status.idle": "2022-05-28T13:27:07.613925Z",
     "shell.execute_reply": "2022-05-28T13:27:07.612763Z"
    },
    "papermill": {
     "duration": 2.802006,
     "end_time": "2022-05-28T13:27:07.617187",
     "exception": false,
     "start_time": "2022-05-28T13:27:04.815181",
     "status": "completed"
    },
    "tags": []
   },
   "outputs": [
    {
     "name": "stdout",
     "output_type": "stream",
     "text": [
      "Setup complete.\n"
     ]
    }
   ],
   "source": [
    "import pandas as pd\n",
    "\n",
    "reviews = pd.read_csv(\"../input/wine-reviews/winemag-data-130k-v2.csv\", index_col=0)\n",
    "pd.set_option(\"display.max_rows\", 5)\n",
    "\n",
    "from learntools.core import binder; binder.bind(globals())\n",
    "from learntools.pandas.indexing_selecting_and_assigning import *\n",
    "print(\"Setup complete.\")"
   ]
  },
  {
   "cell_type": "markdown",
   "id": "0252795d",
   "metadata": {
    "papermill": {
     "duration": 0.009366,
     "end_time": "2022-05-28T13:27:07.635955",
     "exception": false,
     "start_time": "2022-05-28T13:27:07.626589",
     "status": "completed"
    },
    "tags": []
   },
   "source": [
    "Look at an overview of your data by running the following line."
   ]
  },
  {
   "cell_type": "code",
   "execution_count": 2,
   "id": "88c9128f",
   "metadata": {
    "execution": {
     "iopub.execute_input": "2022-05-28T13:27:07.656386Z",
     "iopub.status.busy": "2022-05-28T13:27:07.655490Z",
     "iopub.status.idle": "2022-05-28T13:27:07.684117Z",
     "shell.execute_reply": "2022-05-28T13:27:07.683416Z"
    },
    "papermill": {
     "duration": 0.040833,
     "end_time": "2022-05-28T13:27:07.685982",
     "exception": false,
     "start_time": "2022-05-28T13:27:07.645149",
     "status": "completed"
    },
    "tags": []
   },
   "outputs": [
    {
     "data": {
      "text/html": [
       "<div>\n",
       "<style scoped>\n",
       "    .dataframe tbody tr th:only-of-type {\n",
       "        vertical-align: middle;\n",
       "    }\n",
       "\n",
       "    .dataframe tbody tr th {\n",
       "        vertical-align: top;\n",
       "    }\n",
       "\n",
       "    .dataframe thead th {\n",
       "        text-align: right;\n",
       "    }\n",
       "</style>\n",
       "<table border=\"1\" class=\"dataframe\">\n",
       "  <thead>\n",
       "    <tr style=\"text-align: right;\">\n",
       "      <th></th>\n",
       "      <th>country</th>\n",
       "      <th>description</th>\n",
       "      <th>designation</th>\n",
       "      <th>points</th>\n",
       "      <th>price</th>\n",
       "      <th>province</th>\n",
       "      <th>region_1</th>\n",
       "      <th>region_2</th>\n",
       "      <th>taster_name</th>\n",
       "      <th>taster_twitter_handle</th>\n",
       "      <th>title</th>\n",
       "      <th>variety</th>\n",
       "      <th>winery</th>\n",
       "    </tr>\n",
       "  </thead>\n",
       "  <tbody>\n",
       "    <tr>\n",
       "      <th>0</th>\n",
       "      <td>Italy</td>\n",
       "      <td>Aromas include tropical fruit, broom, brimston...</td>\n",
       "      <td>Vulkà Bianco</td>\n",
       "      <td>87</td>\n",
       "      <td>NaN</td>\n",
       "      <td>Sicily &amp; Sardinia</td>\n",
       "      <td>Etna</td>\n",
       "      <td>NaN</td>\n",
       "      <td>Kerin O’Keefe</td>\n",
       "      <td>@kerinokeefe</td>\n",
       "      <td>Nicosia 2013 Vulkà Bianco  (Etna)</td>\n",
       "      <td>White Blend</td>\n",
       "      <td>Nicosia</td>\n",
       "    </tr>\n",
       "    <tr>\n",
       "      <th>1</th>\n",
       "      <td>Portugal</td>\n",
       "      <td>This is ripe and fruity, a wine that is smooth...</td>\n",
       "      <td>Avidagos</td>\n",
       "      <td>87</td>\n",
       "      <td>15.0</td>\n",
       "      <td>Douro</td>\n",
       "      <td>NaN</td>\n",
       "      <td>NaN</td>\n",
       "      <td>Roger Voss</td>\n",
       "      <td>@vossroger</td>\n",
       "      <td>Quinta dos Avidagos 2011 Avidagos Red (Douro)</td>\n",
       "      <td>Portuguese Red</td>\n",
       "      <td>Quinta dos Avidagos</td>\n",
       "    </tr>\n",
       "    <tr>\n",
       "      <th>2</th>\n",
       "      <td>US</td>\n",
       "      <td>Tart and snappy, the flavors of lime flesh and...</td>\n",
       "      <td>NaN</td>\n",
       "      <td>87</td>\n",
       "      <td>14.0</td>\n",
       "      <td>Oregon</td>\n",
       "      <td>Willamette Valley</td>\n",
       "      <td>Willamette Valley</td>\n",
       "      <td>Paul Gregutt</td>\n",
       "      <td>@paulgwine</td>\n",
       "      <td>Rainstorm 2013 Pinot Gris (Willamette Valley)</td>\n",
       "      <td>Pinot Gris</td>\n",
       "      <td>Rainstorm</td>\n",
       "    </tr>\n",
       "    <tr>\n",
       "      <th>3</th>\n",
       "      <td>US</td>\n",
       "      <td>Pineapple rind, lemon pith and orange blossom ...</td>\n",
       "      <td>Reserve Late Harvest</td>\n",
       "      <td>87</td>\n",
       "      <td>13.0</td>\n",
       "      <td>Michigan</td>\n",
       "      <td>Lake Michigan Shore</td>\n",
       "      <td>NaN</td>\n",
       "      <td>Alexander Peartree</td>\n",
       "      <td>NaN</td>\n",
       "      <td>St. Julian 2013 Reserve Late Harvest Riesling ...</td>\n",
       "      <td>Riesling</td>\n",
       "      <td>St. Julian</td>\n",
       "    </tr>\n",
       "    <tr>\n",
       "      <th>4</th>\n",
       "      <td>US</td>\n",
       "      <td>Much like the regular bottling from 2012, this...</td>\n",
       "      <td>Vintner's Reserve Wild Child Block</td>\n",
       "      <td>87</td>\n",
       "      <td>65.0</td>\n",
       "      <td>Oregon</td>\n",
       "      <td>Willamette Valley</td>\n",
       "      <td>Willamette Valley</td>\n",
       "      <td>Paul Gregutt</td>\n",
       "      <td>@paulgwine</td>\n",
       "      <td>Sweet Cheeks 2012 Vintner's Reserve Wild Child...</td>\n",
       "      <td>Pinot Noir</td>\n",
       "      <td>Sweet Cheeks</td>\n",
       "    </tr>\n",
       "  </tbody>\n",
       "</table>\n",
       "</div>"
      ],
      "text/plain": [
       "    country                                        description  \\\n",
       "0     Italy  Aromas include tropical fruit, broom, brimston...   \n",
       "1  Portugal  This is ripe and fruity, a wine that is smooth...   \n",
       "2        US  Tart and snappy, the flavors of lime flesh and...   \n",
       "3        US  Pineapple rind, lemon pith and orange blossom ...   \n",
       "4        US  Much like the regular bottling from 2012, this...   \n",
       "\n",
       "                          designation  points  price           province  \\\n",
       "0                        Vulkà Bianco      87    NaN  Sicily & Sardinia   \n",
       "1                            Avidagos      87   15.0              Douro   \n",
       "2                                 NaN      87   14.0             Oregon   \n",
       "3                Reserve Late Harvest      87   13.0           Michigan   \n",
       "4  Vintner's Reserve Wild Child Block      87   65.0             Oregon   \n",
       "\n",
       "              region_1           region_2         taster_name  \\\n",
       "0                 Etna                NaN       Kerin O’Keefe   \n",
       "1                  NaN                NaN          Roger Voss   \n",
       "2    Willamette Valley  Willamette Valley        Paul Gregutt   \n",
       "3  Lake Michigan Shore                NaN  Alexander Peartree   \n",
       "4    Willamette Valley  Willamette Valley        Paul Gregutt   \n",
       "\n",
       "  taster_twitter_handle                                              title  \\\n",
       "0          @kerinokeefe                  Nicosia 2013 Vulkà Bianco  (Etna)   \n",
       "1            @vossroger      Quinta dos Avidagos 2011 Avidagos Red (Douro)   \n",
       "2           @paulgwine       Rainstorm 2013 Pinot Gris (Willamette Valley)   \n",
       "3                   NaN  St. Julian 2013 Reserve Late Harvest Riesling ...   \n",
       "4           @paulgwine   Sweet Cheeks 2012 Vintner's Reserve Wild Child...   \n",
       "\n",
       "          variety               winery  \n",
       "0     White Blend              Nicosia  \n",
       "1  Portuguese Red  Quinta dos Avidagos  \n",
       "2      Pinot Gris            Rainstorm  \n",
       "3        Riesling           St. Julian  \n",
       "4      Pinot Noir         Sweet Cheeks  "
      ]
     },
     "execution_count": 2,
     "metadata": {},
     "output_type": "execute_result"
    }
   ],
   "source": [
    "reviews.head()"
   ]
  },
  {
   "cell_type": "markdown",
   "id": "2d29e118",
   "metadata": {
    "papermill": {
     "duration": 0.008976,
     "end_time": "2022-05-28T13:27:07.704443",
     "exception": false,
     "start_time": "2022-05-28T13:27:07.695467",
     "status": "completed"
    },
    "tags": []
   },
   "source": [
    "# Exercises"
   ]
  },
  {
   "cell_type": "markdown",
   "id": "62565543",
   "metadata": {
    "papermill": {
     "duration": 0.008783,
     "end_time": "2022-05-28T13:27:07.722426",
     "exception": false,
     "start_time": "2022-05-28T13:27:07.713643",
     "status": "completed"
    },
    "tags": []
   },
   "source": [
    "## 1.\n",
    "\n",
    "Select the `description` column from `reviews` and assign the result to the variable `desc`."
   ]
  },
  {
   "cell_type": "code",
   "execution_count": 3,
   "id": "2feb19aa",
   "metadata": {
    "execution": {
     "iopub.execute_input": "2022-05-28T13:27:07.742393Z",
     "iopub.status.busy": "2022-05-28T13:27:07.741980Z",
     "iopub.status.idle": "2022-05-28T13:27:07.751329Z",
     "shell.execute_reply": "2022-05-28T13:27:07.750391Z"
    },
    "papermill": {
     "duration": 0.021715,
     "end_time": "2022-05-28T13:27:07.753217",
     "exception": false,
     "start_time": "2022-05-28T13:27:07.731502",
     "status": "completed"
    },
    "tags": []
   },
   "outputs": [
    {
     "data": {
      "application/javascript": [
       "parent.postMessage({\"jupyterEvent\": \"custom.exercise_interaction\", \"data\": {\"outcomeType\": 1, \"valueTowardsCompletion\": 0.1111111111111111, \"interactionType\": 1, \"questionType\": 1, \"questionId\": \"1_SelectDescCol\", \"learnToolsVersion\": \"0.3.4\", \"failureMessage\": \"\", \"exceptionClass\": \"\", \"trace\": \"\"}}, \"*\")"
      ],
      "text/plain": [
       "<IPython.core.display.Javascript object>"
      ]
     },
     "metadata": {},
     "output_type": "display_data"
    },
    {
     "data": {
      "text/markdown": [
       "<span style=\"color:#33cc33\">Correct</span>"
      ],
      "text/plain": [
       "Correct"
      ]
     },
     "metadata": {},
     "output_type": "display_data"
    }
   ],
   "source": [
    "# Your code here\n",
    "desc = reviews['description']\n",
    "\n",
    "# Check your answer\n",
    "q1.check()"
   ]
  },
  {
   "cell_type": "markdown",
   "id": "cbb9e3c4",
   "metadata": {
    "papermill": {
     "duration": 0.009112,
     "end_time": "2022-05-28T13:27:07.771687",
     "exception": false,
     "start_time": "2022-05-28T13:27:07.762575",
     "status": "completed"
    },
    "tags": []
   },
   "source": [
    "Follow-up question: what type of object is `desc`? If you're not sure, you can check by calling Python's `type` function: `type(desc)`."
   ]
  },
  {
   "cell_type": "code",
   "execution_count": 4,
   "id": "0debc902",
   "metadata": {
    "execution": {
     "iopub.execute_input": "2022-05-28T13:27:07.793022Z",
     "iopub.status.busy": "2022-05-28T13:27:07.792422Z",
     "iopub.status.idle": "2022-05-28T13:27:07.798204Z",
     "shell.execute_reply": "2022-05-28T13:27:07.797442Z"
    },
    "papermill": {
     "duration": 0.018477,
     "end_time": "2022-05-28T13:27:07.799958",
     "exception": false,
     "start_time": "2022-05-28T13:27:07.781481",
     "status": "completed"
    },
    "tags": []
   },
   "outputs": [
    {
     "data": {
      "text/plain": [
       "pandas.core.series.Series"
      ]
     },
     "execution_count": 4,
     "metadata": {},
     "output_type": "execute_result"
    }
   ],
   "source": [
    "type(desc)"
   ]
  },
  {
   "cell_type": "code",
   "execution_count": 5,
   "id": "6c910688",
   "metadata": {
    "execution": {
     "iopub.execute_input": "2022-05-28T13:27:07.821279Z",
     "iopub.status.busy": "2022-05-28T13:27:07.820667Z",
     "iopub.status.idle": "2022-05-28T13:27:07.824654Z",
     "shell.execute_reply": "2022-05-28T13:27:07.823771Z"
    },
    "papermill": {
     "duration": 0.017145,
     "end_time": "2022-05-28T13:27:07.826675",
     "exception": false,
     "start_time": "2022-05-28T13:27:07.809530",
     "status": "completed"
    },
    "tags": []
   },
   "outputs": [],
   "source": [
    "# q1.hint()\n",
    "# q1.solution()"
   ]
  },
  {
   "cell_type": "markdown",
   "id": "dff5f027",
   "metadata": {
    "papermill": {
     "duration": 0.009329,
     "end_time": "2022-05-28T13:27:07.845622",
     "exception": false,
     "start_time": "2022-05-28T13:27:07.836293",
     "status": "completed"
    },
    "tags": []
   },
   "source": [
    "## 2.\n",
    "\n",
    "Select the first value from the description column of `reviews`, assigning it to variable `first_description`."
   ]
  },
  {
   "cell_type": "code",
   "execution_count": 6,
   "id": "f39c6248",
   "metadata": {
    "execution": {
     "iopub.execute_input": "2022-05-28T13:27:07.866760Z",
     "iopub.status.busy": "2022-05-28T13:27:07.865744Z",
     "iopub.status.idle": "2022-05-28T13:27:07.882553Z",
     "shell.execute_reply": "2022-05-28T13:27:07.881921Z"
    },
    "papermill": {
     "duration": 0.029135,
     "end_time": "2022-05-28T13:27:07.884442",
     "exception": false,
     "start_time": "2022-05-28T13:27:07.855307",
     "status": "completed"
    },
    "tags": []
   },
   "outputs": [
    {
     "data": {
      "application/javascript": [
       "parent.postMessage({\"jupyterEvent\": \"custom.exercise_interaction\", \"data\": {\"outcomeType\": 1, \"valueTowardsCompletion\": 0.1111111111111111, \"interactionType\": 1, \"questionType\": 1, \"questionId\": \"2_FirstDesc\", \"learnToolsVersion\": \"0.3.4\", \"failureMessage\": \"\", \"exceptionClass\": \"\", \"trace\": \"\"}}, \"*\")"
      ],
      "text/plain": [
       "<IPython.core.display.Javascript object>"
      ]
     },
     "metadata": {},
     "output_type": "display_data"
    },
    {
     "data": {
      "text/markdown": [
       "<span style=\"color:#33cc33\">Correct:</span> \n",
       "\n",
       "\n",
       "```python\n",
       "first_description = reviews.description.iloc[0]\n",
       "```\n",
       "Note that while this is the preferred way to obtain the entry in the DataFrame, many other options will return a valid result, such as `reviews.description.loc[0]`, `reviews.description[0]`, and more!  \n"
      ],
      "text/plain": [
       "Correct: \n",
       "\n",
       "\n",
       "```python\n",
       "first_description = reviews.description.iloc[0]\n",
       "```\n",
       "Note that while this is the preferred way to obtain the entry in the DataFrame, many other options will return a valid result, such as `reviews.description.loc[0]`, `reviews.description[0]`, and more!  "
      ]
     },
     "metadata": {},
     "output_type": "display_data"
    },
    {
     "data": {
      "text/plain": [
       "\"Aromas include tropical fruit, broom, brimstone and dried herb. The palate isn't overly expressive, offering unripened apple, citrus and dried sage alongside brisk acidity.\""
      ]
     },
     "execution_count": 6,
     "metadata": {},
     "output_type": "execute_result"
    }
   ],
   "source": [
    "first_description = desc[0]\n",
    "\n",
    "# Check your answer\n",
    "q2.check()\n",
    "first_description"
   ]
  },
  {
   "cell_type": "code",
   "execution_count": 7,
   "id": "c2c0fc3f",
   "metadata": {
    "execution": {
     "iopub.execute_input": "2022-05-28T13:27:07.907037Z",
     "iopub.status.busy": "2022-05-28T13:27:07.906330Z",
     "iopub.status.idle": "2022-05-28T13:27:07.910428Z",
     "shell.execute_reply": "2022-05-28T13:27:07.909689Z"
    },
    "papermill": {
     "duration": 0.017619,
     "end_time": "2022-05-28T13:27:07.912368",
     "exception": false,
     "start_time": "2022-05-28T13:27:07.894749",
     "status": "completed"
    },
    "tags": []
   },
   "outputs": [],
   "source": [
    "#q2.hint()\n",
    "#q2.solution()"
   ]
  },
  {
   "cell_type": "markdown",
   "id": "ccb1b9cf",
   "metadata": {
    "papermill": {
     "duration": 0.009664,
     "end_time": "2022-05-28T13:27:07.932191",
     "exception": false,
     "start_time": "2022-05-28T13:27:07.922527",
     "status": "completed"
    },
    "tags": []
   },
   "source": [
    "## 3. \n",
    "\n",
    "Select the first row of data (the first record) from `reviews`, assigning it to the variable `first_row`."
   ]
  },
  {
   "cell_type": "code",
   "execution_count": 8,
   "id": "8528ca94",
   "metadata": {
    "execution": {
     "iopub.execute_input": "2022-05-28T13:27:07.954085Z",
     "iopub.status.busy": "2022-05-28T13:27:07.953385Z",
     "iopub.status.idle": "2022-05-28T13:27:07.966123Z",
     "shell.execute_reply": "2022-05-28T13:27:07.965392Z"
    },
    "papermill": {
     "duration": 0.025855,
     "end_time": "2022-05-28T13:27:07.967996",
     "exception": false,
     "start_time": "2022-05-28T13:27:07.942141",
     "status": "completed"
    },
    "tags": []
   },
   "outputs": [
    {
     "data": {
      "application/javascript": [
       "parent.postMessage({\"jupyterEvent\": \"custom.exercise_interaction\", \"data\": {\"outcomeType\": 1, \"valueTowardsCompletion\": 0.1111111111111111, \"interactionType\": 1, \"questionType\": 1, \"questionId\": \"3_FirstRow\", \"learnToolsVersion\": \"0.3.4\", \"failureMessage\": \"\", \"exceptionClass\": \"\", \"trace\": \"\"}}, \"*\")"
      ],
      "text/plain": [
       "<IPython.core.display.Javascript object>"
      ]
     },
     "metadata": {},
     "output_type": "display_data"
    },
    {
     "data": {
      "text/markdown": [
       "<span style=\"color:#33cc33\">Correct</span>"
      ],
      "text/plain": [
       "Correct"
      ]
     },
     "metadata": {},
     "output_type": "display_data"
    },
    {
     "data": {
      "text/plain": [
       "country                                                    Italy\n",
       "description    Aromas include tropical fruit, broom, brimston...\n",
       "                                     ...                        \n",
       "variety                                              White Blend\n",
       "winery                                                   Nicosia\n",
       "Name: 0, Length: 13, dtype: object"
      ]
     },
     "execution_count": 8,
     "metadata": {},
     "output_type": "execute_result"
    }
   ],
   "source": [
    "first_row = reviews.loc[0]\n",
    "\n",
    "# Check your answer\n",
    "q3.check()\n",
    "first_row"
   ]
  },
  {
   "cell_type": "code",
   "execution_count": 9,
   "id": "b68ee049",
   "metadata": {
    "execution": {
     "iopub.execute_input": "2022-05-28T13:27:07.991890Z",
     "iopub.status.busy": "2022-05-28T13:27:07.990848Z",
     "iopub.status.idle": "2022-05-28T13:27:07.998860Z",
     "shell.execute_reply": "2022-05-28T13:27:07.998030Z"
    },
    "papermill": {
     "duration": 0.021682,
     "end_time": "2022-05-28T13:27:08.000779",
     "exception": false,
     "start_time": "2022-05-28T13:27:07.979097",
     "status": "completed"
    },
    "tags": []
   },
   "outputs": [
    {
     "data": {
      "application/javascript": [
       "parent.postMessage({\"jupyterEvent\": \"custom.exercise_interaction\", \"data\": {\"interactionType\": 3, \"questionType\": 1, \"questionId\": \"3_FirstRow\", \"learnToolsVersion\": \"0.3.4\", \"valueTowardsCompletion\": 0.0, \"failureMessage\": \"\", \"exceptionClass\": \"\", \"trace\": \"\", \"outcomeType\": 4}}, \"*\")"
      ],
      "text/plain": [
       "<IPython.core.display.Javascript object>"
      ]
     },
     "metadata": {},
     "output_type": "display_data"
    },
    {
     "data": {
      "text/markdown": [
       "<span style=\"color:#33cc99\">Solution:</span> \n",
       "```python\n",
       "first_row = reviews.iloc[0]\n",
       "```"
      ],
      "text/plain": [
       "Solution: \n",
       "```python\n",
       "first_row = reviews.iloc[0]\n",
       "```"
      ]
     },
     "metadata": {},
     "output_type": "display_data"
    }
   ],
   "source": [
    "#q3.hint()\n",
    "q3.solution()"
   ]
  },
  {
   "cell_type": "markdown",
   "id": "6e60be95",
   "metadata": {
    "papermill": {
     "duration": 0.010548,
     "end_time": "2022-05-28T13:27:08.022205",
     "exception": false,
     "start_time": "2022-05-28T13:27:08.011657",
     "status": "completed"
    },
    "tags": []
   },
   "source": [
    "## 4.\n",
    "\n",
    "Select the first 10 values from the `description` column in `reviews`, assigning the result to variable `first_descriptions`.\n",
    "\n",
    "Hint: format your output as a pandas Series."
   ]
  },
  {
   "cell_type": "code",
   "execution_count": 10,
   "id": "a3401c14",
   "metadata": {
    "execution": {
     "iopub.execute_input": "2022-05-28T13:27:08.045639Z",
     "iopub.status.busy": "2022-05-28T13:27:08.044919Z",
     "iopub.status.idle": "2022-05-28T13:27:08.057382Z",
     "shell.execute_reply": "2022-05-28T13:27:08.056486Z"
    },
    "papermill": {
     "duration": 0.026315,
     "end_time": "2022-05-28T13:27:08.059249",
     "exception": false,
     "start_time": "2022-05-28T13:27:08.032934",
     "status": "completed"
    },
    "tags": []
   },
   "outputs": [
    {
     "data": {
      "application/javascript": [
       "parent.postMessage({\"jupyterEvent\": \"custom.exercise_interaction\", \"data\": {\"outcomeType\": 1, \"valueTowardsCompletion\": 0.1111111111111111, \"interactionType\": 1, \"questionType\": 1, \"questionId\": \"4_FirstDescs\", \"learnToolsVersion\": \"0.3.4\", \"failureMessage\": \"\", \"exceptionClass\": \"\", \"trace\": \"\"}}, \"*\")"
      ],
      "text/plain": [
       "<IPython.core.display.Javascript object>"
      ]
     },
     "metadata": {},
     "output_type": "display_data"
    },
    {
     "data": {
      "text/markdown": [
       "<span style=\"color:#33cc33\">Correct:</span> \n",
       "\n",
       "\n",
       "```python\n",
       "first_descriptions = reviews.description.iloc[:10]\n",
       "```\n",
       "Note that many other options will return a valid result, such as `desc.head(10)` and `reviews.loc[:9, \"description\"]`.    \n"
      ],
      "text/plain": [
       "Correct: \n",
       "\n",
       "\n",
       "```python\n",
       "first_descriptions = reviews.description.iloc[:10]\n",
       "```\n",
       "Note that many other options will return a valid result, such as `desc.head(10)` and `reviews.loc[:9, \"description\"]`.    "
      ]
     },
     "metadata": {},
     "output_type": "display_data"
    },
    {
     "data": {
      "text/plain": [
       "0    Aromas include tropical fruit, broom, brimston...\n",
       "1    This is ripe and fruity, a wine that is smooth...\n",
       "                           ...                        \n",
       "8    Savory dried thyme notes accent sunnier flavor...\n",
       "9    This has great depth of flavor with its fresh ...\n",
       "Name: description, Length: 10, dtype: object"
      ]
     },
     "execution_count": 10,
     "metadata": {},
     "output_type": "execute_result"
    }
   ],
   "source": [
    "first_descriptions = reviews.description.iloc[:10]\n",
    "\n",
    "# Check your answer\n",
    "q4.check()\n",
    "first_descriptions"
   ]
  },
  {
   "cell_type": "code",
   "execution_count": 11,
   "id": "6382449d",
   "metadata": {
    "execution": {
     "iopub.execute_input": "2022-05-28T13:27:08.083637Z",
     "iopub.status.busy": "2022-05-28T13:27:08.082926Z",
     "iopub.status.idle": "2022-05-28T13:27:08.086871Z",
     "shell.execute_reply": "2022-05-28T13:27:08.086275Z"
    },
    "papermill": {
     "duration": 0.018452,
     "end_time": "2022-05-28T13:27:08.088874",
     "exception": false,
     "start_time": "2022-05-28T13:27:08.070422",
     "status": "completed"
    },
    "tags": []
   },
   "outputs": [],
   "source": [
    "# q4.hint()\n",
    "# q4.solution()"
   ]
  },
  {
   "cell_type": "markdown",
   "id": "b4df1438",
   "metadata": {
    "papermill": {
     "duration": 0.010924,
     "end_time": "2022-05-28T13:27:08.111297",
     "exception": false,
     "start_time": "2022-05-28T13:27:08.100373",
     "status": "completed"
    },
    "tags": []
   },
   "source": [
    "## 5.\n",
    "\n",
    "Select the records with index labels `1`, `2`, `3`, `5`, and `8`, assigning the result to the variable `sample_reviews`.\n",
    "\n",
    "In other words, generate the following DataFrame:\n",
    "\n",
    "![](https://i.imgur.com/sHZvI1O.png)"
   ]
  },
  {
   "cell_type": "code",
   "execution_count": 12,
   "id": "bfde35c0",
   "metadata": {
    "execution": {
     "iopub.execute_input": "2022-05-28T13:27:08.136116Z",
     "iopub.status.busy": "2022-05-28T13:27:08.135133Z",
     "iopub.status.idle": "2022-05-28T13:27:08.158509Z",
     "shell.execute_reply": "2022-05-28T13:27:08.157612Z"
    },
    "papermill": {
     "duration": 0.038049,
     "end_time": "2022-05-28T13:27:08.160699",
     "exception": false,
     "start_time": "2022-05-28T13:27:08.122650",
     "status": "completed"
    },
    "tags": []
   },
   "outputs": [
    {
     "data": {
      "application/javascript": [
       "parent.postMessage({\"jupyterEvent\": \"custom.exercise_interaction\", \"data\": {\"outcomeType\": 1, \"valueTowardsCompletion\": 0.1111111111111111, \"interactionType\": 1, \"questionType\": 1, \"questionId\": \"5_SampleReviews\", \"learnToolsVersion\": \"0.3.4\", \"failureMessage\": \"\", \"exceptionClass\": \"\", \"trace\": \"\"}}, \"*\")"
      ],
      "text/plain": [
       "<IPython.core.display.Javascript object>"
      ]
     },
     "metadata": {},
     "output_type": "display_data"
    },
    {
     "data": {
      "text/markdown": [
       "<span style=\"color:#33cc33\">Correct</span>"
      ],
      "text/plain": [
       "Correct"
      ]
     },
     "metadata": {},
     "output_type": "display_data"
    },
    {
     "data": {
      "text/html": [
       "<div>\n",
       "<style scoped>\n",
       "    .dataframe tbody tr th:only-of-type {\n",
       "        vertical-align: middle;\n",
       "    }\n",
       "\n",
       "    .dataframe tbody tr th {\n",
       "        vertical-align: top;\n",
       "    }\n",
       "\n",
       "    .dataframe thead th {\n",
       "        text-align: right;\n",
       "    }\n",
       "</style>\n",
       "<table border=\"1\" class=\"dataframe\">\n",
       "  <thead>\n",
       "    <tr style=\"text-align: right;\">\n",
       "      <th></th>\n",
       "      <th>country</th>\n",
       "      <th>description</th>\n",
       "      <th>designation</th>\n",
       "      <th>points</th>\n",
       "      <th>price</th>\n",
       "      <th>province</th>\n",
       "      <th>region_1</th>\n",
       "      <th>region_2</th>\n",
       "      <th>taster_name</th>\n",
       "      <th>taster_twitter_handle</th>\n",
       "      <th>title</th>\n",
       "      <th>variety</th>\n",
       "      <th>winery</th>\n",
       "    </tr>\n",
       "  </thead>\n",
       "  <tbody>\n",
       "    <tr>\n",
       "      <th>1</th>\n",
       "      <td>Portugal</td>\n",
       "      <td>This is ripe and fruity, a wine that is smooth...</td>\n",
       "      <td>Avidagos</td>\n",
       "      <td>87</td>\n",
       "      <td>15.0</td>\n",
       "      <td>Douro</td>\n",
       "      <td>NaN</td>\n",
       "      <td>NaN</td>\n",
       "      <td>Roger Voss</td>\n",
       "      <td>@vossroger</td>\n",
       "      <td>Quinta dos Avidagos 2011 Avidagos Red (Douro)</td>\n",
       "      <td>Portuguese Red</td>\n",
       "      <td>Quinta dos Avidagos</td>\n",
       "    </tr>\n",
       "    <tr>\n",
       "      <th>2</th>\n",
       "      <td>US</td>\n",
       "      <td>Tart and snappy, the flavors of lime flesh and...</td>\n",
       "      <td>NaN</td>\n",
       "      <td>87</td>\n",
       "      <td>14.0</td>\n",
       "      <td>Oregon</td>\n",
       "      <td>Willamette Valley</td>\n",
       "      <td>Willamette Valley</td>\n",
       "      <td>Paul Gregutt</td>\n",
       "      <td>@paulgwine</td>\n",
       "      <td>Rainstorm 2013 Pinot Gris (Willamette Valley)</td>\n",
       "      <td>Pinot Gris</td>\n",
       "      <td>Rainstorm</td>\n",
       "    </tr>\n",
       "    <tr>\n",
       "      <th>3</th>\n",
       "      <td>US</td>\n",
       "      <td>Pineapple rind, lemon pith and orange blossom ...</td>\n",
       "      <td>Reserve Late Harvest</td>\n",
       "      <td>87</td>\n",
       "      <td>13.0</td>\n",
       "      <td>Michigan</td>\n",
       "      <td>Lake Michigan Shore</td>\n",
       "      <td>NaN</td>\n",
       "      <td>Alexander Peartree</td>\n",
       "      <td>NaN</td>\n",
       "      <td>St. Julian 2013 Reserve Late Harvest Riesling ...</td>\n",
       "      <td>Riesling</td>\n",
       "      <td>St. Julian</td>\n",
       "    </tr>\n",
       "    <tr>\n",
       "      <th>5</th>\n",
       "      <td>Spain</td>\n",
       "      <td>Blackberry and raspberry aromas show a typical...</td>\n",
       "      <td>Ars In Vitro</td>\n",
       "      <td>87</td>\n",
       "      <td>15.0</td>\n",
       "      <td>Northern Spain</td>\n",
       "      <td>Navarra</td>\n",
       "      <td>NaN</td>\n",
       "      <td>Michael Schachner</td>\n",
       "      <td>@wineschach</td>\n",
       "      <td>Tandem 2011 Ars In Vitro Tempranillo-Merlot (N...</td>\n",
       "      <td>Tempranillo-Merlot</td>\n",
       "      <td>Tandem</td>\n",
       "    </tr>\n",
       "    <tr>\n",
       "      <th>8</th>\n",
       "      <td>Germany</td>\n",
       "      <td>Savory dried thyme notes accent sunnier flavor...</td>\n",
       "      <td>Shine</td>\n",
       "      <td>87</td>\n",
       "      <td>12.0</td>\n",
       "      <td>Rheinhessen</td>\n",
       "      <td>NaN</td>\n",
       "      <td>NaN</td>\n",
       "      <td>Anna Lee C. Iijima</td>\n",
       "      <td>NaN</td>\n",
       "      <td>Heinz Eifel 2013 Shine Gewürztraminer (Rheinhe...</td>\n",
       "      <td>Gewürztraminer</td>\n",
       "      <td>Heinz Eifel</td>\n",
       "    </tr>\n",
       "  </tbody>\n",
       "</table>\n",
       "</div>"
      ],
      "text/plain": [
       "    country                                        description  \\\n",
       "1  Portugal  This is ripe and fruity, a wine that is smooth...   \n",
       "2        US  Tart and snappy, the flavors of lime flesh and...   \n",
       "3        US  Pineapple rind, lemon pith and orange blossom ...   \n",
       "5     Spain  Blackberry and raspberry aromas show a typical...   \n",
       "8   Germany  Savory dried thyme notes accent sunnier flavor...   \n",
       "\n",
       "            designation  points  price        province             region_1  \\\n",
       "1              Avidagos      87   15.0           Douro                  NaN   \n",
       "2                   NaN      87   14.0          Oregon    Willamette Valley   \n",
       "3  Reserve Late Harvest      87   13.0        Michigan  Lake Michigan Shore   \n",
       "5          Ars In Vitro      87   15.0  Northern Spain              Navarra   \n",
       "8                 Shine      87   12.0     Rheinhessen                  NaN   \n",
       "\n",
       "            region_2         taster_name taster_twitter_handle  \\\n",
       "1                NaN          Roger Voss            @vossroger   \n",
       "2  Willamette Valley        Paul Gregutt           @paulgwine    \n",
       "3                NaN  Alexander Peartree                   NaN   \n",
       "5                NaN   Michael Schachner           @wineschach   \n",
       "8                NaN  Anna Lee C. Iijima                   NaN   \n",
       "\n",
       "                                               title             variety  \\\n",
       "1      Quinta dos Avidagos 2011 Avidagos Red (Douro)      Portuguese Red   \n",
       "2      Rainstorm 2013 Pinot Gris (Willamette Valley)          Pinot Gris   \n",
       "3  St. Julian 2013 Reserve Late Harvest Riesling ...            Riesling   \n",
       "5  Tandem 2011 Ars In Vitro Tempranillo-Merlot (N...  Tempranillo-Merlot   \n",
       "8  Heinz Eifel 2013 Shine Gewürztraminer (Rheinhe...      Gewürztraminer   \n",
       "\n",
       "                winery  \n",
       "1  Quinta dos Avidagos  \n",
       "2            Rainstorm  \n",
       "3           St. Julian  \n",
       "5               Tandem  \n",
       "8          Heinz Eifel  "
      ]
     },
     "execution_count": 12,
     "metadata": {},
     "output_type": "execute_result"
    }
   ],
   "source": [
    "sample_reviews = reviews.iloc[[1, 2, 3, 5, 8], :]\n",
    "\n",
    "# Check your answer\n",
    "q5.check()\n",
    "sample_reviews"
   ]
  },
  {
   "cell_type": "code",
   "execution_count": 13,
   "id": "eae405b9",
   "metadata": {
    "execution": {
     "iopub.execute_input": "2022-05-28T13:27:08.186251Z",
     "iopub.status.busy": "2022-05-28T13:27:08.185846Z",
     "iopub.status.idle": "2022-05-28T13:27:08.193318Z",
     "shell.execute_reply": "2022-05-28T13:27:08.192421Z"
    },
    "papermill": {
     "duration": 0.022662,
     "end_time": "2022-05-28T13:27:08.195346",
     "exception": false,
     "start_time": "2022-05-28T13:27:08.172684",
     "status": "completed"
    },
    "tags": []
   },
   "outputs": [
    {
     "data": {
      "application/javascript": [
       "parent.postMessage({\"jupyterEvent\": \"custom.exercise_interaction\", \"data\": {\"interactionType\": 3, \"questionType\": 1, \"questionId\": \"5_SampleReviews\", \"learnToolsVersion\": \"0.3.4\", \"valueTowardsCompletion\": 0.0, \"failureMessage\": \"\", \"exceptionClass\": \"\", \"trace\": \"\", \"outcomeType\": 4}}, \"*\")"
      ],
      "text/plain": [
       "<IPython.core.display.Javascript object>"
      ]
     },
     "metadata": {},
     "output_type": "display_data"
    },
    {
     "data": {
      "text/markdown": [
       "<span style=\"color:#33cc99\">Solution:</span> \n",
       "```python\n",
       "indices = [1, 2, 3, 5, 8]\n",
       "sample_reviews = reviews.loc[indices]\n",
       "```"
      ],
      "text/plain": [
       "Solution: \n",
       "```python\n",
       "indices = [1, 2, 3, 5, 8]\n",
       "sample_reviews = reviews.loc[indices]\n",
       "```"
      ]
     },
     "metadata": {},
     "output_type": "display_data"
    }
   ],
   "source": [
    "#q5.hint()\n",
    "q5.solution()"
   ]
  },
  {
   "cell_type": "markdown",
   "id": "1990cac9",
   "metadata": {
    "papermill": {
     "duration": 0.011908,
     "end_time": "2022-05-28T13:27:08.219338",
     "exception": false,
     "start_time": "2022-05-28T13:27:08.207430",
     "status": "completed"
    },
    "tags": []
   },
   "source": [
    "## 6.\n",
    "\n",
    "Create a variable `df` containing the `country`, `province`, `region_1`, and `region_2` columns of the records with the index labels `0`, `1`, `10`, and `100`. In other words, generate the following DataFrame:\n",
    "\n",
    "![](https://i.imgur.com/FUCGiKP.png)"
   ]
  },
  {
   "cell_type": "code",
   "execution_count": 14,
   "id": "1310ba9a",
   "metadata": {
    "execution": {
     "iopub.execute_input": "2022-05-28T13:27:08.246070Z",
     "iopub.status.busy": "2022-05-28T13:27:08.245358Z",
     "iopub.status.idle": "2022-05-28T13:27:08.267340Z",
     "shell.execute_reply": "2022-05-28T13:27:08.266317Z"
    },
    "papermill": {
     "duration": 0.037409,
     "end_time": "2022-05-28T13:27:08.269160",
     "exception": false,
     "start_time": "2022-05-28T13:27:08.231751",
     "status": "completed"
    },
    "tags": []
   },
   "outputs": [
    {
     "data": {
      "application/javascript": [
       "parent.postMessage({\"jupyterEvent\": \"custom.exercise_interaction\", \"data\": {\"outcomeType\": 1, \"valueTowardsCompletion\": 0.1111111111111111, \"interactionType\": 1, \"questionType\": 1, \"questionId\": \"6_RowColSelect\", \"learnToolsVersion\": \"0.3.4\", \"failureMessage\": \"\", \"exceptionClass\": \"\", \"trace\": \"\"}}, \"*\")"
      ],
      "text/plain": [
       "<IPython.core.display.Javascript object>"
      ]
     },
     "metadata": {},
     "output_type": "display_data"
    },
    {
     "data": {
      "text/markdown": [
       "<span style=\"color:#33cc33\">Correct</span>"
      ],
      "text/plain": [
       "Correct"
      ]
     },
     "metadata": {},
     "output_type": "display_data"
    },
    {
     "data": {
      "text/html": [
       "<div>\n",
       "<style scoped>\n",
       "    .dataframe tbody tr th:only-of-type {\n",
       "        vertical-align: middle;\n",
       "    }\n",
       "\n",
       "    .dataframe tbody tr th {\n",
       "        vertical-align: top;\n",
       "    }\n",
       "\n",
       "    .dataframe thead th {\n",
       "        text-align: right;\n",
       "    }\n",
       "</style>\n",
       "<table border=\"1\" class=\"dataframe\">\n",
       "  <thead>\n",
       "    <tr style=\"text-align: right;\">\n",
       "      <th></th>\n",
       "      <th>country</th>\n",
       "      <th>province</th>\n",
       "      <th>region_1</th>\n",
       "      <th>region_2</th>\n",
       "    </tr>\n",
       "  </thead>\n",
       "  <tbody>\n",
       "    <tr>\n",
       "      <th>0</th>\n",
       "      <td>Italy</td>\n",
       "      <td>Sicily &amp; Sardinia</td>\n",
       "      <td>Etna</td>\n",
       "      <td>NaN</td>\n",
       "    </tr>\n",
       "    <tr>\n",
       "      <th>1</th>\n",
       "      <td>Portugal</td>\n",
       "      <td>Douro</td>\n",
       "      <td>NaN</td>\n",
       "      <td>NaN</td>\n",
       "    </tr>\n",
       "    <tr>\n",
       "      <th>10</th>\n",
       "      <td>US</td>\n",
       "      <td>California</td>\n",
       "      <td>Napa Valley</td>\n",
       "      <td>Napa</td>\n",
       "    </tr>\n",
       "    <tr>\n",
       "      <th>100</th>\n",
       "      <td>US</td>\n",
       "      <td>New York</td>\n",
       "      <td>Finger Lakes</td>\n",
       "      <td>Finger Lakes</td>\n",
       "    </tr>\n",
       "  </tbody>\n",
       "</table>\n",
       "</div>"
      ],
      "text/plain": [
       "      country           province      region_1      region_2\n",
       "0       Italy  Sicily & Sardinia          Etna           NaN\n",
       "1    Portugal              Douro           NaN           NaN\n",
       "10         US         California   Napa Valley          Napa\n",
       "100        US           New York  Finger Lakes  Finger Lakes"
      ]
     },
     "execution_count": 14,
     "metadata": {},
     "output_type": "execute_result"
    }
   ],
   "source": [
    "df = reviews.loc[[0, 1, 10, 100], ['country', 'province', 'region_1', 'region_2']]\n",
    "\n",
    "# Check your answer\n",
    "q6.check()\n",
    "df"
   ]
  },
  {
   "cell_type": "code",
   "execution_count": 15,
   "id": "705e6297",
   "metadata": {
    "execution": {
     "iopub.execute_input": "2022-05-28T13:27:08.296454Z",
     "iopub.status.busy": "2022-05-28T13:27:08.295483Z",
     "iopub.status.idle": "2022-05-28T13:27:08.302864Z",
     "shell.execute_reply": "2022-05-28T13:27:08.302036Z"
    },
    "papermill": {
     "duration": 0.023142,
     "end_time": "2022-05-28T13:27:08.304882",
     "exception": false,
     "start_time": "2022-05-28T13:27:08.281740",
     "status": "completed"
    },
    "tags": []
   },
   "outputs": [
    {
     "data": {
      "application/javascript": [
       "parent.postMessage({\"jupyterEvent\": \"custom.exercise_interaction\", \"data\": {\"interactionType\": 3, \"questionType\": 1, \"questionId\": \"6_RowColSelect\", \"learnToolsVersion\": \"0.3.4\", \"valueTowardsCompletion\": 0.0, \"failureMessage\": \"\", \"exceptionClass\": \"\", \"trace\": \"\", \"outcomeType\": 4}}, \"*\")"
      ],
      "text/plain": [
       "<IPython.core.display.Javascript object>"
      ]
     },
     "metadata": {},
     "output_type": "display_data"
    },
    {
     "data": {
      "text/markdown": [
       "<span style=\"color:#33cc99\">Solution:</span> \n",
       "```python\n",
       "cols = ['country', 'province', 'region_1', 'region_2']\n",
       "indices = [0, 1, 10, 100]\n",
       "df = reviews.loc[indices, cols]\n",
       "```"
      ],
      "text/plain": [
       "Solution: \n",
       "```python\n",
       "cols = ['country', 'province', 'region_1', 'region_2']\n",
       "indices = [0, 1, 10, 100]\n",
       "df = reviews.loc[indices, cols]\n",
       "```"
      ]
     },
     "metadata": {},
     "output_type": "display_data"
    }
   ],
   "source": [
    "#q6.hint()\n",
    "q6.solution()"
   ]
  },
  {
   "cell_type": "markdown",
   "id": "22b6069e",
   "metadata": {
    "papermill": {
     "duration": 0.012648,
     "end_time": "2022-05-28T13:27:08.330600",
     "exception": false,
     "start_time": "2022-05-28T13:27:08.317952",
     "status": "completed"
    },
    "tags": []
   },
   "source": [
    "## 7.\n",
    "\n",
    "Create a variable `df` containing the `country` and `variety` columns of the first 100 records. \n",
    "\n",
    "Hint: you may use `loc` or `iloc`. When working on the answer this question and the several of the ones that follow, keep the following \"gotcha\" described in the tutorial:\n",
    "\n",
    "> `iloc` uses the Python stdlib indexing scheme, where the first element of the range is included and the last one excluded. \n",
    "`loc`, meanwhile, indexes inclusively. \n",
    "\n",
    "> This is particularly confusing when the DataFrame index is a simple numerical list, e.g. `0,...,1000`. In this case `df.iloc[0:1000]` will return 1000 entries, while `df.loc[0:1000]` return 1001 of them! To get 1000 elements using `loc`, you will need to go one lower and ask for `df.iloc[0:999]`. "
   ]
  },
  {
   "cell_type": "code",
   "execution_count": 16,
   "id": "d6bc41cb",
   "metadata": {
    "execution": {
     "iopub.execute_input": "2022-05-28T13:27:08.358604Z",
     "iopub.status.busy": "2022-05-28T13:27:08.358217Z",
     "iopub.status.idle": "2022-05-28T13:27:08.374410Z",
     "shell.execute_reply": "2022-05-28T13:27:08.373526Z"
    },
    "papermill": {
     "duration": 0.032644,
     "end_time": "2022-05-28T13:27:08.376374",
     "exception": false,
     "start_time": "2022-05-28T13:27:08.343730",
     "status": "completed"
    },
    "tags": []
   },
   "outputs": [
    {
     "data": {
      "application/javascript": [
       "parent.postMessage({\"jupyterEvent\": \"custom.exercise_interaction\", \"data\": {\"outcomeType\": 1, \"valueTowardsCompletion\": 0.1111111111111111, \"interactionType\": 1, \"questionType\": 1, \"questionId\": \"7_RowColSelect2\", \"learnToolsVersion\": \"0.3.4\", \"failureMessage\": \"\", \"exceptionClass\": \"\", \"trace\": \"\"}}, \"*\")"
      ],
      "text/plain": [
       "<IPython.core.display.Javascript object>"
      ]
     },
     "metadata": {},
     "output_type": "display_data"
    },
    {
     "data": {
      "text/markdown": [
       "<span style=\"color:#33cc33\">Correct:</span> \n",
       "\n",
       "\n",
       "```python\n",
       "cols = ['country', 'variety']\n",
       "df = reviews.loc[:99, cols]\n",
       "```\n",
       "or \n",
       "```python\n",
       "cols_idx = [0, 11]\n",
       "df = reviews.iloc[:100, cols_idx]\n",
       "```\n"
      ],
      "text/plain": [
       "Correct: \n",
       "\n",
       "\n",
       "```python\n",
       "cols = ['country', 'variety']\n",
       "df = reviews.loc[:99, cols]\n",
       "```\n",
       "or \n",
       "```python\n",
       "cols_idx = [0, 11]\n",
       "df = reviews.iloc[:100, cols_idx]\n",
       "```"
      ]
     },
     "metadata": {},
     "output_type": "display_data"
    },
    {
     "data": {
      "text/html": [
       "<div>\n",
       "<style scoped>\n",
       "    .dataframe tbody tr th:only-of-type {\n",
       "        vertical-align: middle;\n",
       "    }\n",
       "\n",
       "    .dataframe tbody tr th {\n",
       "        vertical-align: top;\n",
       "    }\n",
       "\n",
       "    .dataframe thead th {\n",
       "        text-align: right;\n",
       "    }\n",
       "</style>\n",
       "<table border=\"1\" class=\"dataframe\">\n",
       "  <thead>\n",
       "    <tr style=\"text-align: right;\">\n",
       "      <th></th>\n",
       "      <th>country</th>\n",
       "      <th>variety</th>\n",
       "    </tr>\n",
       "  </thead>\n",
       "  <tbody>\n",
       "    <tr>\n",
       "      <th>0</th>\n",
       "      <td>Italy</td>\n",
       "      <td>White Blend</td>\n",
       "    </tr>\n",
       "    <tr>\n",
       "      <th>1</th>\n",
       "      <td>Portugal</td>\n",
       "      <td>Portuguese Red</td>\n",
       "    </tr>\n",
       "    <tr>\n",
       "      <th>...</th>\n",
       "      <td>...</td>\n",
       "      <td>...</td>\n",
       "    </tr>\n",
       "    <tr>\n",
       "      <th>98</th>\n",
       "      <td>Italy</td>\n",
       "      <td>Sangiovese</td>\n",
       "    </tr>\n",
       "    <tr>\n",
       "      <th>99</th>\n",
       "      <td>US</td>\n",
       "      <td>Bordeaux-style Red Blend</td>\n",
       "    </tr>\n",
       "  </tbody>\n",
       "</table>\n",
       "<p>100 rows × 2 columns</p>\n",
       "</div>"
      ],
      "text/plain": [
       "     country                   variety\n",
       "0      Italy               White Blend\n",
       "1   Portugal            Portuguese Red\n",
       "..       ...                       ...\n",
       "98     Italy                Sangiovese\n",
       "99        US  Bordeaux-style Red Blend\n",
       "\n",
       "[100 rows x 2 columns]"
      ]
     },
     "execution_count": 16,
     "metadata": {},
     "output_type": "execute_result"
    }
   ],
   "source": [
    "df = reviews.loc[:99, ['country', 'variety']]\n",
    "\n",
    "# Check your answer\n",
    "q7.check()\n",
    "df"
   ]
  },
  {
   "cell_type": "code",
   "execution_count": 17,
   "id": "465f8c8b",
   "metadata": {
    "execution": {
     "iopub.execute_input": "2022-05-28T13:27:08.405411Z",
     "iopub.status.busy": "2022-05-28T13:27:08.404479Z",
     "iopub.status.idle": "2022-05-28T13:27:08.408161Z",
     "shell.execute_reply": "2022-05-28T13:27:08.407515Z"
    },
    "papermill": {
     "duration": 0.019996,
     "end_time": "2022-05-28T13:27:08.409887",
     "exception": false,
     "start_time": "2022-05-28T13:27:08.389891",
     "status": "completed"
    },
    "tags": []
   },
   "outputs": [],
   "source": [
    "#q7.hint()\n",
    "#q7.solution()"
   ]
  },
  {
   "cell_type": "markdown",
   "id": "248a5b2f",
   "metadata": {
    "papermill": {
     "duration": 0.013103,
     "end_time": "2022-05-28T13:27:08.436506",
     "exception": false,
     "start_time": "2022-05-28T13:27:08.423403",
     "status": "completed"
    },
    "tags": []
   },
   "source": [
    "## 8.\n",
    "\n",
    "Create a DataFrame `italian_wines` containing reviews of wines made in `Italy`. Hint: `reviews.country` equals what?"
   ]
  },
  {
   "cell_type": "code",
   "execution_count": 18,
   "id": "85f35de9",
   "metadata": {
    "execution": {
     "iopub.execute_input": "2022-05-28T13:27:08.465270Z",
     "iopub.status.busy": "2022-05-28T13:27:08.464663Z",
     "iopub.status.idle": "2022-05-28T13:27:08.499654Z",
     "shell.execute_reply": "2022-05-28T13:27:08.498877Z"
    },
    "papermill": {
     "duration": 0.051261,
     "end_time": "2022-05-28T13:27:08.501501",
     "exception": false,
     "start_time": "2022-05-28T13:27:08.450240",
     "status": "completed"
    },
    "tags": []
   },
   "outputs": [
    {
     "data": {
      "application/javascript": [
       "parent.postMessage({\"jupyterEvent\": \"custom.exercise_interaction\", \"data\": {\"outcomeType\": 1, \"valueTowardsCompletion\": 0.1111111111111111, \"interactionType\": 1, \"questionType\": 1, \"questionId\": \"8_ItalianWines\", \"learnToolsVersion\": \"0.3.4\", \"failureMessage\": \"\", \"exceptionClass\": \"\", \"trace\": \"\"}}, \"*\")"
      ],
      "text/plain": [
       "<IPython.core.display.Javascript object>"
      ]
     },
     "metadata": {},
     "output_type": "display_data"
    },
    {
     "data": {
      "text/markdown": [
       "<span style=\"color:#33cc33\">Correct</span>"
      ],
      "text/plain": [
       "Correct"
      ]
     },
     "metadata": {},
     "output_type": "display_data"
    }
   ],
   "source": [
    "italian_wines = reviews[reviews.country == 'Italy']\n",
    "\n",
    "# Check your answer\n",
    "q8.check()"
   ]
  },
  {
   "cell_type": "code",
   "execution_count": 19,
   "id": "0366be16",
   "metadata": {
    "execution": {
     "iopub.execute_input": "2022-05-28T13:27:08.531005Z",
     "iopub.status.busy": "2022-05-28T13:27:08.530385Z",
     "iopub.status.idle": "2022-05-28T13:27:08.533536Z",
     "shell.execute_reply": "2022-05-28T13:27:08.532956Z"
    },
    "papermill": {
     "duration": 0.020012,
     "end_time": "2022-05-28T13:27:08.535194",
     "exception": false,
     "start_time": "2022-05-28T13:27:08.515182",
     "status": "completed"
    },
    "tags": []
   },
   "outputs": [],
   "source": [
    "#q8.hint()\n",
    "# q8.solution()"
   ]
  },
  {
   "cell_type": "markdown",
   "id": "3c0b769b",
   "metadata": {
    "papermill": {
     "duration": 0.013366,
     "end_time": "2022-05-28T13:27:08.562745",
     "exception": false,
     "start_time": "2022-05-28T13:27:08.549379",
     "status": "completed"
    },
    "tags": []
   },
   "source": [
    "## 9.\n",
    "\n",
    "Create a DataFrame `top_oceania_wines` containing all reviews with at least 95 points (out of 100) for wines from Australia or New Zealand."
   ]
  },
  {
   "cell_type": "code",
   "execution_count": 20,
   "id": "3d0e641c",
   "metadata": {
    "execution": {
     "iopub.execute_input": "2022-05-28T13:27:08.591705Z",
     "iopub.status.busy": "2022-05-28T13:27:08.591103Z",
     "iopub.status.idle": "2022-05-28T13:27:08.625682Z",
     "shell.execute_reply": "2022-05-28T13:27:08.625055Z"
    },
    "papermill": {
     "duration": 0.051113,
     "end_time": "2022-05-28T13:27:08.627452",
     "exception": false,
     "start_time": "2022-05-28T13:27:08.576339",
     "status": "completed"
    },
    "tags": []
   },
   "outputs": [
    {
     "data": {
      "application/javascript": [
       "parent.postMessage({\"jupyterEvent\": \"custom.exercise_interaction\", \"data\": {\"outcomeType\": 1, \"valueTowardsCompletion\": 0.1111111111111111, \"interactionType\": 1, \"questionType\": 1, \"questionId\": \"9_TopOceanicWines\", \"learnToolsVersion\": \"0.3.4\", \"failureMessage\": \"\", \"exceptionClass\": \"\", \"trace\": \"\"}}, \"*\")"
      ],
      "text/plain": [
       "<IPython.core.display.Javascript object>"
      ]
     },
     "metadata": {},
     "output_type": "display_data"
    },
    {
     "data": {
      "text/markdown": [
       "<span style=\"color:#33cc33\">Correct</span>"
      ],
      "text/plain": [
       "Correct"
      ]
     },
     "metadata": {},
     "output_type": "display_data"
    },
    {
     "data": {
      "text/html": [
       "<div>\n",
       "<style scoped>\n",
       "    .dataframe tbody tr th:only-of-type {\n",
       "        vertical-align: middle;\n",
       "    }\n",
       "\n",
       "    .dataframe tbody tr th {\n",
       "        vertical-align: top;\n",
       "    }\n",
       "\n",
       "    .dataframe thead th {\n",
       "        text-align: right;\n",
       "    }\n",
       "</style>\n",
       "<table border=\"1\" class=\"dataframe\">\n",
       "  <thead>\n",
       "    <tr style=\"text-align: right;\">\n",
       "      <th></th>\n",
       "      <th>country</th>\n",
       "      <th>description</th>\n",
       "      <th>designation</th>\n",
       "      <th>points</th>\n",
       "      <th>price</th>\n",
       "      <th>province</th>\n",
       "      <th>region_1</th>\n",
       "      <th>region_2</th>\n",
       "      <th>taster_name</th>\n",
       "      <th>taster_twitter_handle</th>\n",
       "      <th>title</th>\n",
       "      <th>variety</th>\n",
       "      <th>winery</th>\n",
       "    </tr>\n",
       "  </thead>\n",
       "  <tbody>\n",
       "    <tr>\n",
       "      <th>345</th>\n",
       "      <td>Australia</td>\n",
       "      <td>This wine contains some material over 100 year...</td>\n",
       "      <td>Rare</td>\n",
       "      <td>100</td>\n",
       "      <td>350.0</td>\n",
       "      <td>Victoria</td>\n",
       "      <td>Rutherglen</td>\n",
       "      <td>NaN</td>\n",
       "      <td>Joe Czerwinski</td>\n",
       "      <td>@JoeCz</td>\n",
       "      <td>Chambers Rosewood Vineyards NV Rare Muscat (Ru...</td>\n",
       "      <td>Muscat</td>\n",
       "      <td>Chambers Rosewood Vineyards</td>\n",
       "    </tr>\n",
       "    <tr>\n",
       "      <th>346</th>\n",
       "      <td>Australia</td>\n",
       "      <td>This deep brown wine smells like a damp, mossy...</td>\n",
       "      <td>Rare</td>\n",
       "      <td>98</td>\n",
       "      <td>350.0</td>\n",
       "      <td>Victoria</td>\n",
       "      <td>Rutherglen</td>\n",
       "      <td>NaN</td>\n",
       "      <td>Joe Czerwinski</td>\n",
       "      <td>@JoeCz</td>\n",
       "      <td>Chambers Rosewood Vineyards NV Rare Muscadelle...</td>\n",
       "      <td>Muscadelle</td>\n",
       "      <td>Chambers Rosewood Vineyards</td>\n",
       "    </tr>\n",
       "    <tr>\n",
       "      <th>...</th>\n",
       "      <td>...</td>\n",
       "      <td>...</td>\n",
       "      <td>...</td>\n",
       "      <td>...</td>\n",
       "      <td>...</td>\n",
       "      <td>...</td>\n",
       "      <td>...</td>\n",
       "      <td>...</td>\n",
       "      <td>...</td>\n",
       "      <td>...</td>\n",
       "      <td>...</td>\n",
       "      <td>...</td>\n",
       "      <td>...</td>\n",
       "    </tr>\n",
       "    <tr>\n",
       "      <th>122507</th>\n",
       "      <td>New Zealand</td>\n",
       "      <td>This blend of Cabernet Sauvignon (62.5%), Merl...</td>\n",
       "      <td>SQM Gimblett Gravels Cabernets/Merlot</td>\n",
       "      <td>95</td>\n",
       "      <td>79.0</td>\n",
       "      <td>Hawke's Bay</td>\n",
       "      <td>NaN</td>\n",
       "      <td>NaN</td>\n",
       "      <td>Joe Czerwinski</td>\n",
       "      <td>@JoeCz</td>\n",
       "      <td>Squawking Magpie 2014 SQM Gimblett Gravels Cab...</td>\n",
       "      <td>Bordeaux-style Red Blend</td>\n",
       "      <td>Squawking Magpie</td>\n",
       "    </tr>\n",
       "    <tr>\n",
       "      <th>122939</th>\n",
       "      <td>Australia</td>\n",
       "      <td>Full-bodied and plush yet vibrant and imbued w...</td>\n",
       "      <td>The Factor</td>\n",
       "      <td>98</td>\n",
       "      <td>125.0</td>\n",
       "      <td>South Australia</td>\n",
       "      <td>Barossa Valley</td>\n",
       "      <td>NaN</td>\n",
       "      <td>Joe Czerwinski</td>\n",
       "      <td>@JoeCz</td>\n",
       "      <td>Torbreck 2013 The Factor Shiraz (Barossa Valley)</td>\n",
       "      <td>Shiraz</td>\n",
       "      <td>Torbreck</td>\n",
       "    </tr>\n",
       "  </tbody>\n",
       "</table>\n",
       "<p>49 rows × 13 columns</p>\n",
       "</div>"
      ],
      "text/plain": [
       "            country                                        description  \\\n",
       "345       Australia  This wine contains some material over 100 year...   \n",
       "346       Australia  This deep brown wine smells like a damp, mossy...   \n",
       "...             ...                                                ...   \n",
       "122507  New Zealand  This blend of Cabernet Sauvignon (62.5%), Merl...   \n",
       "122939    Australia  Full-bodied and plush yet vibrant and imbued w...   \n",
       "\n",
       "                                  designation  points  price         province  \\\n",
       "345                                      Rare     100  350.0         Victoria   \n",
       "346                                      Rare      98  350.0         Victoria   \n",
       "...                                       ...     ...    ...              ...   \n",
       "122507  SQM Gimblett Gravels Cabernets/Merlot      95   79.0      Hawke's Bay   \n",
       "122939                             The Factor      98  125.0  South Australia   \n",
       "\n",
       "              region_1 region_2     taster_name taster_twitter_handle  \\\n",
       "345         Rutherglen      NaN  Joe Czerwinski                @JoeCz   \n",
       "346         Rutherglen      NaN  Joe Czerwinski                @JoeCz   \n",
       "...                ...      ...             ...                   ...   \n",
       "122507             NaN      NaN  Joe Czerwinski                @JoeCz   \n",
       "122939  Barossa Valley      NaN  Joe Czerwinski                @JoeCz   \n",
       "\n",
       "                                                    title  \\\n",
       "345     Chambers Rosewood Vineyards NV Rare Muscat (Ru...   \n",
       "346     Chambers Rosewood Vineyards NV Rare Muscadelle...   \n",
       "...                                                   ...   \n",
       "122507  Squawking Magpie 2014 SQM Gimblett Gravels Cab...   \n",
       "122939   Torbreck 2013 The Factor Shiraz (Barossa Valley)   \n",
       "\n",
       "                         variety                       winery  \n",
       "345                       Muscat  Chambers Rosewood Vineyards  \n",
       "346                   Muscadelle  Chambers Rosewood Vineyards  \n",
       "...                          ...                          ...  \n",
       "122507  Bordeaux-style Red Blend             Squawking Magpie  \n",
       "122939                    Shiraz                     Torbreck  \n",
       "\n",
       "[49 rows x 13 columns]"
      ]
     },
     "execution_count": 20,
     "metadata": {},
     "output_type": "execute_result"
    }
   ],
   "source": [
    "top_oceania_wines = reviews[(reviews.points >= 95) & (reviews.country.isin(['Australia', 'New Zealand']))]\n",
    "\n",
    "# Check your answer\n",
    "q9.check()\n",
    "top_oceania_wines"
   ]
  },
  {
   "cell_type": "code",
   "execution_count": 21,
   "id": "01a8f213",
   "metadata": {
    "execution": {
     "iopub.execute_input": "2022-05-28T13:27:08.658031Z",
     "iopub.status.busy": "2022-05-28T13:27:08.657432Z",
     "iopub.status.idle": "2022-05-28T13:27:08.663608Z",
     "shell.execute_reply": "2022-05-28T13:27:08.663035Z"
    },
    "papermill": {
     "duration": 0.022972,
     "end_time": "2022-05-28T13:27:08.665224",
     "exception": false,
     "start_time": "2022-05-28T13:27:08.642252",
     "status": "completed"
    },
    "tags": []
   },
   "outputs": [
    {
     "data": {
      "application/javascript": [
       "parent.postMessage({\"jupyterEvent\": \"custom.exercise_interaction\", \"data\": {\"interactionType\": 3, \"questionType\": 1, \"questionId\": \"9_TopOceanicWines\", \"learnToolsVersion\": \"0.3.4\", \"valueTowardsCompletion\": 0.0, \"failureMessage\": \"\", \"exceptionClass\": \"\", \"trace\": \"\", \"outcomeType\": 4}}, \"*\")"
      ],
      "text/plain": [
       "<IPython.core.display.Javascript object>"
      ]
     },
     "metadata": {},
     "output_type": "display_data"
    },
    {
     "data": {
      "text/markdown": [
       "<span style=\"color:#33cc99\">Solution:</span> \n",
       "```python\n",
       "top_oceania_wines = reviews.loc[\n",
       "    (reviews.country.isin(['Australia', 'New Zealand']))\n",
       "    & (reviews.points >= 95)\n",
       "]\n",
       "```"
      ],
      "text/plain": [
       "Solution: \n",
       "```python\n",
       "top_oceania_wines = reviews.loc[\n",
       "    (reviews.country.isin(['Australia', 'New Zealand']))\n",
       "    & (reviews.points >= 95)\n",
       "]\n",
       "```"
      ]
     },
     "metadata": {},
     "output_type": "display_data"
    }
   ],
   "source": [
    "#q9.hint()\n",
    "q9.solution()"
   ]
  },
  {
   "cell_type": "markdown",
   "id": "0c59188b",
   "metadata": {
    "papermill": {
     "duration": 0.013942,
     "end_time": "2022-05-28T13:27:08.693490",
     "exception": false,
     "start_time": "2022-05-28T13:27:08.679548",
     "status": "completed"
    },
    "tags": []
   },
   "source": [
    "# Keep going\n",
    "\n",
    "Move on to learn about **[summary functions and maps](https://www.kaggle.com/residentmario/summary-functions-and-maps)**."
   ]
  },
  {
   "cell_type": "markdown",
   "id": "278c92e5",
   "metadata": {
    "papermill": {
     "duration": 0.014357,
     "end_time": "2022-05-28T13:27:08.722316",
     "exception": false,
     "start_time": "2022-05-28T13:27:08.707959",
     "status": "completed"
    },
    "tags": []
   },
   "source": [
    "---\n",
    "\n",
    "\n",
    "\n",
    "\n",
    "*Have questions or comments? Visit the [course discussion forum](https://www.kaggle.com/learn/pandas/discussion) to chat with other learners.*"
   ]
  }
 ],
 "metadata": {
  "kernelspec": {
   "display_name": "Python 3",
   "language": "python",
   "name": "python3"
  },
  "language_info": {
   "codemirror_mode": {
    "name": "ipython",
    "version": 3
   },
   "file_extension": ".py",
   "mimetype": "text/x-python",
   "name": "python",
   "nbconvert_exporter": "python",
   "pygments_lexer": "ipython3",
   "version": "3.7.12"
  },
  "papermill": {
   "default_parameters": {},
   "duration": 14.397074,
   "end_time": "2022-05-28T13:27:09.457183",
   "environment_variables": {},
   "exception": null,
   "input_path": "__notebook__.ipynb",
   "output_path": "__notebook__.ipynb",
   "parameters": {},
   "start_time": "2022-05-28T13:26:55.060109",
   "version": "2.3.4"
  }
 },
 "nbformat": 4,
 "nbformat_minor": 5
}
