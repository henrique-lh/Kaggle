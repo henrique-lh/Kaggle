{
 "cells": [
  {
   "cell_type": "markdown",
   "id": "ccb47e70",
   "metadata": {
    "papermill": {
     "duration": 0.00838,
     "end_time": "2022-09-08T23:39:41.604925",
     "exception": false,
     "start_time": "2022-09-08T23:39:41.596545",
     "status": "completed"
    },
    "tags": []
   },
   "source": [
    "**This notebook is an exercise in the [Pandas](https://www.kaggle.com/learn/pandas) course.  You can reference the tutorial at [this link](https://www.kaggle.com/residentmario/grouping-and-sorting).**\n",
    "\n",
    "---\n"
   ]
  },
  {
   "cell_type": "markdown",
   "id": "1bfc6dce",
   "metadata": {
    "papermill": {
     "duration": 0.008251,
     "end_time": "2022-09-08T23:39:41.622408",
     "exception": false,
     "start_time": "2022-09-08T23:39:41.614157",
     "status": "completed"
    },
    "tags": []
   },
   "source": [
    "# Introduction\n",
    "\n",
    "In these exercises we'll apply groupwise analysis to our dataset.\n",
    "\n",
    "Run the code cell below to load the data before running the exercises."
   ]
  },
  {
   "cell_type": "code",
   "execution_count": 1,
   "id": "d4158a60",
   "metadata": {
    "execution": {
     "iopub.execute_input": "2022-09-08T23:39:41.641196Z",
     "iopub.status.busy": "2022-09-08T23:39:41.640600Z",
     "iopub.status.idle": "2022-09-08T23:39:44.561473Z",
     "shell.execute_reply": "2022-09-08T23:39:44.560160Z"
    },
    "papermill": {
     "duration": 2.93325,
     "end_time": "2022-09-08T23:39:44.564234",
     "exception": false,
     "start_time": "2022-09-08T23:39:41.630984",
     "status": "completed"
    },
    "tags": []
   },
   "outputs": [
    {
     "name": "stdout",
     "output_type": "stream",
     "text": [
      "Setup complete.\n"
     ]
    }
   ],
   "source": [
    "import pandas as pd\n",
    "\n",
    "reviews = pd.read_csv(\"../input/wine-reviews/winemag-data-130k-v2.csv\", index_col=0)\n",
    "#pd.set_option(\"display.max_rows\", 5)\n",
    "\n",
    "from learntools.core import binder; binder.bind(globals())\n",
    "from learntools.pandas.grouping_and_sorting import *\n",
    "print(\"Setup complete.\")"
   ]
  },
  {
   "cell_type": "markdown",
   "id": "7fbf951f",
   "metadata": {
    "papermill": {
     "duration": 0.007174,
     "end_time": "2022-09-08T23:39:44.578802",
     "exception": false,
     "start_time": "2022-09-08T23:39:44.571628",
     "status": "completed"
    },
    "tags": []
   },
   "source": [
    "# Exercises"
   ]
  },
  {
   "cell_type": "markdown",
   "id": "e0ce7471",
   "metadata": {
    "papermill": {
     "duration": 0.00708,
     "end_time": "2022-09-08T23:39:44.592822",
     "exception": false,
     "start_time": "2022-09-08T23:39:44.585742",
     "status": "completed"
    },
    "tags": []
   },
   "source": [
    "## 1.\n",
    "Who are the most common wine reviewers in the dataset? Create a `Series` whose index is the `taster_twitter_handle` category from the dataset, and whose values count how many reviews each person wrote."
   ]
  },
  {
   "cell_type": "code",
   "execution_count": 2,
   "id": "408ed7aa",
   "metadata": {
    "execution": {
     "iopub.execute_input": "2022-09-08T23:39:44.609198Z",
     "iopub.status.busy": "2022-09-08T23:39:44.608109Z",
     "iopub.status.idle": "2022-09-08T23:39:44.632301Z",
     "shell.execute_reply": "2022-09-08T23:39:44.631496Z"
    },
    "papermill": {
     "duration": 0.034512,
     "end_time": "2022-09-08T23:39:44.634335",
     "exception": false,
     "start_time": "2022-09-08T23:39:44.599823",
     "status": "completed"
    },
    "tags": []
   },
   "outputs": [
    {
     "data": {
      "text/html": [
       "<div>\n",
       "<style scoped>\n",
       "    .dataframe tbody tr th:only-of-type {\n",
       "        vertical-align: middle;\n",
       "    }\n",
       "\n",
       "    .dataframe tbody tr th {\n",
       "        vertical-align: top;\n",
       "    }\n",
       "\n",
       "    .dataframe thead th {\n",
       "        text-align: right;\n",
       "    }\n",
       "</style>\n",
       "<table border=\"1\" class=\"dataframe\">\n",
       "  <thead>\n",
       "    <tr style=\"text-align: right;\">\n",
       "      <th></th>\n",
       "      <th>country</th>\n",
       "      <th>description</th>\n",
       "      <th>designation</th>\n",
       "      <th>points</th>\n",
       "      <th>price</th>\n",
       "      <th>province</th>\n",
       "      <th>region_1</th>\n",
       "      <th>region_2</th>\n",
       "      <th>taster_name</th>\n",
       "      <th>taster_twitter_handle</th>\n",
       "      <th>title</th>\n",
       "      <th>variety</th>\n",
       "      <th>winery</th>\n",
       "    </tr>\n",
       "  </thead>\n",
       "  <tbody>\n",
       "    <tr>\n",
       "      <th>0</th>\n",
       "      <td>Italy</td>\n",
       "      <td>Aromas include tropical fruit, broom, brimston...</td>\n",
       "      <td>Vulkà Bianco</td>\n",
       "      <td>87</td>\n",
       "      <td>NaN</td>\n",
       "      <td>Sicily &amp; Sardinia</td>\n",
       "      <td>Etna</td>\n",
       "      <td>NaN</td>\n",
       "      <td>Kerin O’Keefe</td>\n",
       "      <td>@kerinokeefe</td>\n",
       "      <td>Nicosia 2013 Vulkà Bianco  (Etna)</td>\n",
       "      <td>White Blend</td>\n",
       "      <td>Nicosia</td>\n",
       "    </tr>\n",
       "    <tr>\n",
       "      <th>1</th>\n",
       "      <td>Portugal</td>\n",
       "      <td>This is ripe and fruity, a wine that is smooth...</td>\n",
       "      <td>Avidagos</td>\n",
       "      <td>87</td>\n",
       "      <td>15.0</td>\n",
       "      <td>Douro</td>\n",
       "      <td>NaN</td>\n",
       "      <td>NaN</td>\n",
       "      <td>Roger Voss</td>\n",
       "      <td>@vossroger</td>\n",
       "      <td>Quinta dos Avidagos 2011 Avidagos Red (Douro)</td>\n",
       "      <td>Portuguese Red</td>\n",
       "      <td>Quinta dos Avidagos</td>\n",
       "    </tr>\n",
       "    <tr>\n",
       "      <th>2</th>\n",
       "      <td>US</td>\n",
       "      <td>Tart and snappy, the flavors of lime flesh and...</td>\n",
       "      <td>NaN</td>\n",
       "      <td>87</td>\n",
       "      <td>14.0</td>\n",
       "      <td>Oregon</td>\n",
       "      <td>Willamette Valley</td>\n",
       "      <td>Willamette Valley</td>\n",
       "      <td>Paul Gregutt</td>\n",
       "      <td>@paulgwine</td>\n",
       "      <td>Rainstorm 2013 Pinot Gris (Willamette Valley)</td>\n",
       "      <td>Pinot Gris</td>\n",
       "      <td>Rainstorm</td>\n",
       "    </tr>\n",
       "    <tr>\n",
       "      <th>3</th>\n",
       "      <td>US</td>\n",
       "      <td>Pineapple rind, lemon pith and orange blossom ...</td>\n",
       "      <td>Reserve Late Harvest</td>\n",
       "      <td>87</td>\n",
       "      <td>13.0</td>\n",
       "      <td>Michigan</td>\n",
       "      <td>Lake Michigan Shore</td>\n",
       "      <td>NaN</td>\n",
       "      <td>Alexander Peartree</td>\n",
       "      <td>NaN</td>\n",
       "      <td>St. Julian 2013 Reserve Late Harvest Riesling ...</td>\n",
       "      <td>Riesling</td>\n",
       "      <td>St. Julian</td>\n",
       "    </tr>\n",
       "    <tr>\n",
       "      <th>4</th>\n",
       "      <td>US</td>\n",
       "      <td>Much like the regular bottling from 2012, this...</td>\n",
       "      <td>Vintner's Reserve Wild Child Block</td>\n",
       "      <td>87</td>\n",
       "      <td>65.0</td>\n",
       "      <td>Oregon</td>\n",
       "      <td>Willamette Valley</td>\n",
       "      <td>Willamette Valley</td>\n",
       "      <td>Paul Gregutt</td>\n",
       "      <td>@paulgwine</td>\n",
       "      <td>Sweet Cheeks 2012 Vintner's Reserve Wild Child...</td>\n",
       "      <td>Pinot Noir</td>\n",
       "      <td>Sweet Cheeks</td>\n",
       "    </tr>\n",
       "  </tbody>\n",
       "</table>\n",
       "</div>"
      ],
      "text/plain": [
       "    country                                        description  \\\n",
       "0     Italy  Aromas include tropical fruit, broom, brimston...   \n",
       "1  Portugal  This is ripe and fruity, a wine that is smooth...   \n",
       "2        US  Tart and snappy, the flavors of lime flesh and...   \n",
       "3        US  Pineapple rind, lemon pith and orange blossom ...   \n",
       "4        US  Much like the regular bottling from 2012, this...   \n",
       "\n",
       "                          designation  points  price           province  \\\n",
       "0                        Vulkà Bianco      87    NaN  Sicily & Sardinia   \n",
       "1                            Avidagos      87   15.0              Douro   \n",
       "2                                 NaN      87   14.0             Oregon   \n",
       "3                Reserve Late Harvest      87   13.0           Michigan   \n",
       "4  Vintner's Reserve Wild Child Block      87   65.0             Oregon   \n",
       "\n",
       "              region_1           region_2         taster_name  \\\n",
       "0                 Etna                NaN       Kerin O’Keefe   \n",
       "1                  NaN                NaN          Roger Voss   \n",
       "2    Willamette Valley  Willamette Valley        Paul Gregutt   \n",
       "3  Lake Michigan Shore                NaN  Alexander Peartree   \n",
       "4    Willamette Valley  Willamette Valley        Paul Gregutt   \n",
       "\n",
       "  taster_twitter_handle                                              title  \\\n",
       "0          @kerinokeefe                  Nicosia 2013 Vulkà Bianco  (Etna)   \n",
       "1            @vossroger      Quinta dos Avidagos 2011 Avidagos Red (Douro)   \n",
       "2           @paulgwine       Rainstorm 2013 Pinot Gris (Willamette Valley)   \n",
       "3                   NaN  St. Julian 2013 Reserve Late Harvest Riesling ...   \n",
       "4           @paulgwine   Sweet Cheeks 2012 Vintner's Reserve Wild Child...   \n",
       "\n",
       "          variety               winery  \n",
       "0     White Blend              Nicosia  \n",
       "1  Portuguese Red  Quinta dos Avidagos  \n",
       "2      Pinot Gris            Rainstorm  \n",
       "3        Riesling           St. Julian  \n",
       "4      Pinot Noir         Sweet Cheeks  "
      ]
     },
     "execution_count": 2,
     "metadata": {},
     "output_type": "execute_result"
    }
   ],
   "source": [
    "reviews.head()"
   ]
  },
  {
   "cell_type": "code",
   "execution_count": 3,
   "id": "08ee8561",
   "metadata": {
    "execution": {
     "iopub.execute_input": "2022-09-08T23:39:44.651040Z",
     "iopub.status.busy": "2022-09-08T23:39:44.650228Z",
     "iopub.status.idle": "2022-09-08T23:39:44.668314Z",
     "shell.execute_reply": "2022-09-08T23:39:44.667306Z"
    },
    "papermill": {
     "duration": 0.028923,
     "end_time": "2022-09-08T23:39:44.670674",
     "exception": false,
     "start_time": "2022-09-08T23:39:44.641751",
     "status": "completed"
    },
    "tags": []
   },
   "outputs": [
    {
     "data": {
      "text/plain": [
       "taster_twitter_handle\n",
       "@AnneInVino          3685\n",
       "@JoeCz               5147\n",
       "@bkfiona               27\n",
       "@gordone_cellars     4177\n",
       "@kerinokeefe        10776\n",
       "@laurbuzz            1835\n",
       "@mattkettmann        6332\n",
       "@paulgwine           9532\n",
       "@suskostrzewa        1085\n",
       "@vboone              9537\n",
       "@vossroger          25514\n",
       "@wawinereport        4966\n",
       "@wineschach         15134\n",
       "@winewchristina         6\n",
       "@worldwineguys       1005\n",
       "Name: taster_twitter_handle, dtype: int64"
      ]
     },
     "execution_count": 3,
     "metadata": {},
     "output_type": "execute_result"
    }
   ],
   "source": [
    "reviews.groupby('taster_twitter_handle').taster_twitter_handle.size()"
   ]
  },
  {
   "cell_type": "code",
   "execution_count": 4,
   "id": "0817e6ae",
   "metadata": {
    "execution": {
     "iopub.execute_input": "2022-09-08T23:39:44.687462Z",
     "iopub.status.busy": "2022-09-08T23:39:44.687014Z",
     "iopub.status.idle": "2022-09-08T23:39:44.706238Z",
     "shell.execute_reply": "2022-09-08T23:39:44.705413Z"
    },
    "papermill": {
     "duration": 0.029963,
     "end_time": "2022-09-08T23:39:44.708206",
     "exception": false,
     "start_time": "2022-09-08T23:39:44.678243",
     "status": "completed"
    },
    "tags": []
   },
   "outputs": [
    {
     "data": {
      "application/javascript": [
       "parent.postMessage({\"jupyterEvent\": \"custom.exercise_interaction\", \"data\": {\"outcomeType\": 1, \"valueTowardsCompletion\": 0.16666666666666666, \"interactionType\": 1, \"questionType\": 1, \"questionId\": \"1_ReviewsWritten\", \"learnToolsVersion\": \"0.3.4\", \"failureMessage\": \"\", \"exceptionClass\": \"\", \"trace\": \"\"}}, \"*\")"
      ],
      "text/plain": [
       "<IPython.core.display.Javascript object>"
      ]
     },
     "metadata": {},
     "output_type": "display_data"
    },
    {
     "data": {
      "text/markdown": [
       "<span style=\"color:#33cc33\">Correct:</span> \n",
       "\n",
       "\n",
       "```python\n",
       "reviews_written = reviews.groupby('taster_twitter_handle').size()\n",
       "```\n",
       "or\n",
       "```python\n",
       "reviews_written = reviews.groupby('taster_twitter_handle').taster_twitter_handle.count()\n",
       "```\n"
      ],
      "text/plain": [
       "Correct: \n",
       "\n",
       "\n",
       "```python\n",
       "reviews_written = reviews.groupby('taster_twitter_handle').size()\n",
       "```\n",
       "or\n",
       "```python\n",
       "reviews_written = reviews.groupby('taster_twitter_handle').taster_twitter_handle.count()\n",
       "```"
      ]
     },
     "metadata": {},
     "output_type": "display_data"
    }
   ],
   "source": [
    "# Your code here\n",
    "reviews_written = reviews.groupby('taster_twitter_handle').taster_twitter_handle.size()\n",
    "\n",
    "# Check your answer\n",
    "q1.check()"
   ]
  },
  {
   "cell_type": "code",
   "execution_count": 5,
   "id": "3a5052cc",
   "metadata": {
    "execution": {
     "iopub.execute_input": "2022-09-08T23:39:44.725723Z",
     "iopub.status.busy": "2022-09-08T23:39:44.724757Z",
     "iopub.status.idle": "2022-09-08T23:39:44.733499Z",
     "shell.execute_reply": "2022-09-08T23:39:44.732423Z"
    },
    "papermill": {
     "duration": 0.019743,
     "end_time": "2022-09-08T23:39:44.735714",
     "exception": false,
     "start_time": "2022-09-08T23:39:44.715971",
     "status": "completed"
    },
    "tags": []
   },
   "outputs": [
    {
     "data": {
      "application/javascript": [
       "parent.postMessage({\"jupyterEvent\": \"custom.exercise_interaction\", \"data\": {\"interactionType\": 2, \"questionType\": 1, \"questionId\": \"1_ReviewsWritten\", \"learnToolsVersion\": \"0.3.4\", \"valueTowardsCompletion\": 0.0, \"failureMessage\": \"\", \"exceptionClass\": \"\", \"trace\": \"\", \"outcomeType\": 4}}, \"*\")"
      ],
      "text/plain": [
       "<IPython.core.display.Javascript object>"
      ]
     },
     "metadata": {},
     "output_type": "display_data"
    },
    {
     "data": {
      "text/markdown": [
       "<span style=\"color:#3366cc\">Hint:</span> Use the `groupby` operation and `size()` (or `count()`)."
      ],
      "text/plain": [
       "Hint: Use the `groupby` operation and `size()` (or `count()`)."
      ]
     },
     "metadata": {},
     "output_type": "display_data"
    }
   ],
   "source": [
    "q1.hint()\n",
    "#q1.solution()"
   ]
  },
  {
   "cell_type": "markdown",
   "id": "845c8b80",
   "metadata": {
    "papermill": {
     "duration": 0.00775,
     "end_time": "2022-09-08T23:39:44.752337",
     "exception": false,
     "start_time": "2022-09-08T23:39:44.744587",
     "status": "completed"
    },
    "tags": []
   },
   "source": [
    "## 2.\n",
    "What is the best wine I can buy for a given amount of money? Create a `Series` whose index is wine prices and whose values is the maximum number of points a wine costing that much was given in a review. Sort the values by price, ascending (so that `4.0` dollars is at the top and `3300.0` dollars is at the bottom)."
   ]
  },
  {
   "cell_type": "code",
   "execution_count": 6,
   "id": "1fd8acf3",
   "metadata": {
    "execution": {
     "iopub.execute_input": "2022-09-08T23:39:44.770707Z",
     "iopub.status.busy": "2022-09-08T23:39:44.769637Z",
     "iopub.status.idle": "2022-09-08T23:39:44.782799Z",
     "shell.execute_reply": "2022-09-08T23:39:44.782011Z"
    },
    "papermill": {
     "duration": 0.024678,
     "end_time": "2022-09-08T23:39:44.785050",
     "exception": false,
     "start_time": "2022-09-08T23:39:44.760372",
     "status": "completed"
    },
    "tags": []
   },
   "outputs": [
    {
     "data": {
      "text/plain": [
       "price\n",
       "4.0       86\n",
       "5.0       87\n",
       "6.0       88\n",
       "7.0       91\n",
       "8.0       91\n",
       "          ..\n",
       "1900.0    98\n",
       "2000.0    97\n",
       "2013.0    91\n",
       "2500.0    96\n",
       "3300.0    88\n",
       "Name: points, Length: 390, dtype: int64"
      ]
     },
     "execution_count": 6,
     "metadata": {},
     "output_type": "execute_result"
    }
   ],
   "source": [
    "reviews.groupby('price').points.max()"
   ]
  },
  {
   "cell_type": "code",
   "execution_count": 7,
   "id": "044dc46b",
   "metadata": {
    "execution": {
     "iopub.execute_input": "2022-09-08T23:39:44.803491Z",
     "iopub.status.busy": "2022-09-08T23:39:44.803096Z",
     "iopub.status.idle": "2022-09-08T23:39:44.815827Z",
     "shell.execute_reply": "2022-09-08T23:39:44.814991Z"
    },
    "papermill": {
     "duration": 0.024402,
     "end_time": "2022-09-08T23:39:44.818097",
     "exception": false,
     "start_time": "2022-09-08T23:39:44.793695",
     "status": "completed"
    },
    "tags": []
   },
   "outputs": [
    {
     "data": {
      "application/javascript": [
       "parent.postMessage({\"jupyterEvent\": \"custom.exercise_interaction\", \"data\": {\"outcomeType\": 1, \"valueTowardsCompletion\": 0.16666666666666666, \"interactionType\": 1, \"questionType\": 1, \"questionId\": \"2_BestRatingPerPrice\", \"learnToolsVersion\": \"0.3.4\", \"failureMessage\": \"\", \"exceptionClass\": \"\", \"trace\": \"\"}}, \"*\")"
      ],
      "text/plain": [
       "<IPython.core.display.Javascript object>"
      ]
     },
     "metadata": {},
     "output_type": "display_data"
    },
    {
     "data": {
      "text/markdown": [
       "<span style=\"color:#33cc33\">Correct</span>"
      ],
      "text/plain": [
       "Correct"
      ]
     },
     "metadata": {},
     "output_type": "display_data"
    }
   ],
   "source": [
    "best_rating_per_price = reviews.groupby('price').points.max()\n",
    "\n",
    "# Check your answer\n",
    "q2.check()"
   ]
  },
  {
   "cell_type": "code",
   "execution_count": 8,
   "id": "6a05b8d1",
   "metadata": {
    "execution": {
     "iopub.execute_input": "2022-09-08T23:39:44.836925Z",
     "iopub.status.busy": "2022-09-08T23:39:44.836259Z",
     "iopub.status.idle": "2022-09-08T23:39:44.839849Z",
     "shell.execute_reply": "2022-09-08T23:39:44.839105Z"
    },
    "papermill": {
     "duration": 0.015259,
     "end_time": "2022-09-08T23:39:44.841860",
     "exception": false,
     "start_time": "2022-09-08T23:39:44.826601",
     "status": "completed"
    },
    "tags": []
   },
   "outputs": [],
   "source": [
    "#q2.hint()\n",
    "# q2.solution()"
   ]
  },
  {
   "cell_type": "markdown",
   "id": "fc1c6a1c",
   "metadata": {
    "papermill": {
     "duration": 0.00843,
     "end_time": "2022-09-08T23:39:44.858676",
     "exception": false,
     "start_time": "2022-09-08T23:39:44.850246",
     "status": "completed"
    },
    "tags": []
   },
   "source": [
    "## 3.\n",
    "What are the minimum and maximum prices for each `variety` of wine? Create a `DataFrame` whose index is the `variety` category from the dataset and whose values are the `min` and `max` values thereof."
   ]
  },
  {
   "cell_type": "code",
   "execution_count": 9,
   "id": "deb2846b",
   "metadata": {
    "execution": {
     "iopub.execute_input": "2022-09-08T23:39:44.878323Z",
     "iopub.status.busy": "2022-09-08T23:39:44.877094Z",
     "iopub.status.idle": "2022-09-08T23:39:44.906680Z",
     "shell.execute_reply": "2022-09-08T23:39:44.905591Z"
    },
    "papermill": {
     "duration": 0.041898,
     "end_time": "2022-09-08T23:39:44.909152",
     "exception": false,
     "start_time": "2022-09-08T23:39:44.867254",
     "status": "completed"
    },
    "tags": []
   },
   "outputs": [
    {
     "data": {
      "text/html": [
       "<div>\n",
       "<style scoped>\n",
       "    .dataframe tbody tr th:only-of-type {\n",
       "        vertical-align: middle;\n",
       "    }\n",
       "\n",
       "    .dataframe tbody tr th {\n",
       "        vertical-align: top;\n",
       "    }\n",
       "\n",
       "    .dataframe thead th {\n",
       "        text-align: right;\n",
       "    }\n",
       "</style>\n",
       "<table border=\"1\" class=\"dataframe\">\n",
       "  <thead>\n",
       "    <tr style=\"text-align: right;\">\n",
       "      <th></th>\n",
       "      <th>min</th>\n",
       "      <th>max</th>\n",
       "    </tr>\n",
       "    <tr>\n",
       "      <th>variety</th>\n",
       "      <th></th>\n",
       "      <th></th>\n",
       "    </tr>\n",
       "  </thead>\n",
       "  <tbody>\n",
       "    <tr>\n",
       "      <th>Abouriou</th>\n",
       "      <td>15.0</td>\n",
       "      <td>75.0</td>\n",
       "    </tr>\n",
       "    <tr>\n",
       "      <th>Agiorgitiko</th>\n",
       "      <td>10.0</td>\n",
       "      <td>66.0</td>\n",
       "    </tr>\n",
       "    <tr>\n",
       "      <th>Aglianico</th>\n",
       "      <td>6.0</td>\n",
       "      <td>180.0</td>\n",
       "    </tr>\n",
       "    <tr>\n",
       "      <th>Aidani</th>\n",
       "      <td>27.0</td>\n",
       "      <td>27.0</td>\n",
       "    </tr>\n",
       "    <tr>\n",
       "      <th>Airen</th>\n",
       "      <td>8.0</td>\n",
       "      <td>10.0</td>\n",
       "    </tr>\n",
       "    <tr>\n",
       "      <th>...</th>\n",
       "      <td>...</td>\n",
       "      <td>...</td>\n",
       "    </tr>\n",
       "    <tr>\n",
       "      <th>Zinfandel</th>\n",
       "      <td>5.0</td>\n",
       "      <td>100.0</td>\n",
       "    </tr>\n",
       "    <tr>\n",
       "      <th>Zlahtina</th>\n",
       "      <td>13.0</td>\n",
       "      <td>16.0</td>\n",
       "    </tr>\n",
       "    <tr>\n",
       "      <th>Zweigelt</th>\n",
       "      <td>9.0</td>\n",
       "      <td>70.0</td>\n",
       "    </tr>\n",
       "    <tr>\n",
       "      <th>Çalkarası</th>\n",
       "      <td>19.0</td>\n",
       "      <td>19.0</td>\n",
       "    </tr>\n",
       "    <tr>\n",
       "      <th>Žilavka</th>\n",
       "      <td>15.0</td>\n",
       "      <td>15.0</td>\n",
       "    </tr>\n",
       "  </tbody>\n",
       "</table>\n",
       "<p>707 rows × 2 columns</p>\n",
       "</div>"
      ],
      "text/plain": [
       "              min    max\n",
       "variety                 \n",
       "Abouriou     15.0   75.0\n",
       "Agiorgitiko  10.0   66.0\n",
       "Aglianico     6.0  180.0\n",
       "Aidani       27.0   27.0\n",
       "Airen         8.0   10.0\n",
       "...           ...    ...\n",
       "Zinfandel     5.0  100.0\n",
       "Zlahtina     13.0   16.0\n",
       "Zweigelt      9.0   70.0\n",
       "Çalkarası    19.0   19.0\n",
       "Žilavka      15.0   15.0\n",
       "\n",
       "[707 rows x 2 columns]"
      ]
     },
     "execution_count": 9,
     "metadata": {},
     "output_type": "execute_result"
    }
   ],
   "source": [
    "reviews.groupby('variety').price.agg([min, max])"
   ]
  },
  {
   "cell_type": "code",
   "execution_count": 10,
   "id": "c6f3f4d9",
   "metadata": {
    "execution": {
     "iopub.execute_input": "2022-09-08T23:39:44.928319Z",
     "iopub.status.busy": "2022-09-08T23:39:44.927670Z",
     "iopub.status.idle": "2022-09-08T23:39:44.953575Z",
     "shell.execute_reply": "2022-09-08T23:39:44.952756Z"
    },
    "papermill": {
     "duration": 0.037939,
     "end_time": "2022-09-08T23:39:44.955755",
     "exception": false,
     "start_time": "2022-09-08T23:39:44.917816",
     "status": "completed"
    },
    "tags": []
   },
   "outputs": [
    {
     "data": {
      "application/javascript": [
       "parent.postMessage({\"jupyterEvent\": \"custom.exercise_interaction\", \"data\": {\"outcomeType\": 1, \"valueTowardsCompletion\": 0.16666666666666666, \"interactionType\": 1, \"questionType\": 1, \"questionId\": \"3_PriceExtremes\", \"learnToolsVersion\": \"0.3.4\", \"failureMessage\": \"\", \"exceptionClass\": \"\", \"trace\": \"\"}}, \"*\")"
      ],
      "text/plain": [
       "<IPython.core.display.Javascript object>"
      ]
     },
     "metadata": {},
     "output_type": "display_data"
    },
    {
     "data": {
      "text/markdown": [
       "<span style=\"color:#33cc33\">Correct</span>"
      ],
      "text/plain": [
       "Correct"
      ]
     },
     "metadata": {},
     "output_type": "display_data"
    }
   ],
   "source": [
    "price_extremes = reviews.groupby('variety').price.agg([min, max])\n",
    "\n",
    "# Check your answer\n",
    "q3.check()"
   ]
  },
  {
   "cell_type": "code",
   "execution_count": 11,
   "id": "795d69d9",
   "metadata": {
    "execution": {
     "iopub.execute_input": "2022-09-08T23:39:44.975966Z",
     "iopub.status.busy": "2022-09-08T23:39:44.975198Z",
     "iopub.status.idle": "2022-09-08T23:39:44.979792Z",
     "shell.execute_reply": "2022-09-08T23:39:44.978969Z"
    },
    "papermill": {
     "duration": 0.017439,
     "end_time": "2022-09-08T23:39:44.981973",
     "exception": false,
     "start_time": "2022-09-08T23:39:44.964534",
     "status": "completed"
    },
    "tags": []
   },
   "outputs": [],
   "source": [
    "#q3.hint()\n",
    "#q3.solution()"
   ]
  },
  {
   "cell_type": "markdown",
   "id": "77a58440",
   "metadata": {
    "papermill": {
     "duration": 0.008625,
     "end_time": "2022-09-08T23:39:44.999508",
     "exception": false,
     "start_time": "2022-09-08T23:39:44.990883",
     "status": "completed"
    },
    "tags": []
   },
   "source": [
    "## 4.\n",
    "What are the most expensive wine varieties? Create a variable `sorted_varieties` containing a copy of the dataframe from the previous question where varieties are sorted in descending order based on minimum price, then on maximum price (to break ties)."
   ]
  },
  {
   "cell_type": "code",
   "execution_count": 12,
   "id": "82dcda1a",
   "metadata": {
    "execution": {
     "iopub.execute_input": "2022-09-08T23:39:45.019076Z",
     "iopub.status.busy": "2022-09-08T23:39:45.018640Z",
     "iopub.status.idle": "2022-09-08T23:39:45.035311Z",
     "shell.execute_reply": "2022-09-08T23:39:45.034022Z"
    },
    "papermill": {
     "duration": 0.02915,
     "end_time": "2022-09-08T23:39:45.037592",
     "exception": false,
     "start_time": "2022-09-08T23:39:45.008442",
     "status": "completed"
    },
    "tags": []
   },
   "outputs": [
    {
     "data": {
      "text/html": [
       "<div>\n",
       "<style scoped>\n",
       "    .dataframe tbody tr th:only-of-type {\n",
       "        vertical-align: middle;\n",
       "    }\n",
       "\n",
       "    .dataframe tbody tr th {\n",
       "        vertical-align: top;\n",
       "    }\n",
       "\n",
       "    .dataframe thead th {\n",
       "        text-align: right;\n",
       "    }\n",
       "</style>\n",
       "<table border=\"1\" class=\"dataframe\">\n",
       "  <thead>\n",
       "    <tr style=\"text-align: right;\">\n",
       "      <th></th>\n",
       "      <th>min</th>\n",
       "      <th>max</th>\n",
       "    </tr>\n",
       "    <tr>\n",
       "      <th>variety</th>\n",
       "      <th></th>\n",
       "      <th></th>\n",
       "    </tr>\n",
       "  </thead>\n",
       "  <tbody>\n",
       "    <tr>\n",
       "      <th>Pinot Grigio</th>\n",
       "      <td>4.0</td>\n",
       "      <td>70.0</td>\n",
       "    </tr>\n",
       "    <tr>\n",
       "      <th>Malbec-Syrah</th>\n",
       "      <td>4.0</td>\n",
       "      <td>78.0</td>\n",
       "    </tr>\n",
       "    <tr>\n",
       "      <th>White Blend</th>\n",
       "      <td>4.0</td>\n",
       "      <td>375.0</td>\n",
       "    </tr>\n",
       "    <tr>\n",
       "      <th>Tempranillo</th>\n",
       "      <td>4.0</td>\n",
       "      <td>600.0</td>\n",
       "    </tr>\n",
       "    <tr>\n",
       "      <th>Cabernet Sauvignon</th>\n",
       "      <td>4.0</td>\n",
       "      <td>625.0</td>\n",
       "    </tr>\n",
       "    <tr>\n",
       "      <th>...</th>\n",
       "      <td>...</td>\n",
       "      <td>...</td>\n",
       "    </tr>\n",
       "    <tr>\n",
       "      <th>Roscetto</th>\n",
       "      <td>NaN</td>\n",
       "      <td>NaN</td>\n",
       "    </tr>\n",
       "    <tr>\n",
       "      <th>Sauvignon Blanc-Sauvignon Gris</th>\n",
       "      <td>NaN</td>\n",
       "      <td>NaN</td>\n",
       "    </tr>\n",
       "    <tr>\n",
       "      <th>Tempranillo-Malbec</th>\n",
       "      <td>NaN</td>\n",
       "      <td>NaN</td>\n",
       "    </tr>\n",
       "    <tr>\n",
       "      <th>Vital</th>\n",
       "      <td>NaN</td>\n",
       "      <td>NaN</td>\n",
       "    </tr>\n",
       "    <tr>\n",
       "      <th>Zelen</th>\n",
       "      <td>NaN</td>\n",
       "      <td>NaN</td>\n",
       "    </tr>\n",
       "  </tbody>\n",
       "</table>\n",
       "<p>707 rows × 2 columns</p>\n",
       "</div>"
      ],
      "text/plain": [
       "                                min    max\n",
       "variety                                   \n",
       "Pinot Grigio                    4.0   70.0\n",
       "Malbec-Syrah                    4.0   78.0\n",
       "White Blend                     4.0  375.0\n",
       "Tempranillo                     4.0  600.0\n",
       "Cabernet Sauvignon              4.0  625.0\n",
       "...                             ...    ...\n",
       "Roscetto                        NaN    NaN\n",
       "Sauvignon Blanc-Sauvignon Gris  NaN    NaN\n",
       "Tempranillo-Malbec              NaN    NaN\n",
       "Vital                           NaN    NaN\n",
       "Zelen                           NaN    NaN\n",
       "\n",
       "[707 rows x 2 columns]"
      ]
     },
     "execution_count": 12,
     "metadata": {},
     "output_type": "execute_result"
    }
   ],
   "source": [
    "price_extremes.sort_values(['min', 'max'])"
   ]
  },
  {
   "cell_type": "code",
   "execution_count": 13,
   "id": "30d82771",
   "metadata": {
    "execution": {
     "iopub.execute_input": "2022-09-08T23:39:45.058892Z",
     "iopub.status.busy": "2022-09-08T23:39:45.058271Z",
     "iopub.status.idle": "2022-09-08T23:39:45.068747Z",
     "shell.execute_reply": "2022-09-08T23:39:45.067886Z"
    },
    "papermill": {
     "duration": 0.023532,
     "end_time": "2022-09-08T23:39:45.070779",
     "exception": false,
     "start_time": "2022-09-08T23:39:45.047247",
     "status": "completed"
    },
    "tags": []
   },
   "outputs": [
    {
     "data": {
      "application/javascript": [
       "parent.postMessage({\"jupyterEvent\": \"custom.exercise_interaction\", \"data\": {\"outcomeType\": 1, \"valueTowardsCompletion\": 0.16666666666666666, \"interactionType\": 1, \"questionType\": 1, \"questionId\": \"4_SortedVarieties\", \"learnToolsVersion\": \"0.3.4\", \"failureMessage\": \"\", \"exceptionClass\": \"\", \"trace\": \"\"}}, \"*\")"
      ],
      "text/plain": [
       "<IPython.core.display.Javascript object>"
      ]
     },
     "metadata": {},
     "output_type": "display_data"
    },
    {
     "data": {
      "text/markdown": [
       "<span style=\"color:#33cc33\">Correct</span>"
      ],
      "text/plain": [
       "Correct"
      ]
     },
     "metadata": {},
     "output_type": "display_data"
    }
   ],
   "source": [
    "sorted_varieties = price_extremes.sort_values(['min', 'max'], ascending=False)\n",
    "\n",
    "# Check your answer\n",
    "q4.check()"
   ]
  },
  {
   "cell_type": "code",
   "execution_count": 14,
   "id": "04f747db",
   "metadata": {
    "execution": {
     "iopub.execute_input": "2022-09-08T23:39:45.091617Z",
     "iopub.status.busy": "2022-09-08T23:39:45.090993Z",
     "iopub.status.idle": "2022-09-08T23:39:45.094463Z",
     "shell.execute_reply": "2022-09-08T23:39:45.093741Z"
    },
    "papermill": {
     "duration": 0.016192,
     "end_time": "2022-09-08T23:39:45.096424",
     "exception": false,
     "start_time": "2022-09-08T23:39:45.080232",
     "status": "completed"
    },
    "tags": []
   },
   "outputs": [],
   "source": [
    "#q4.hint()\n",
    "# q4.solution()"
   ]
  },
  {
   "cell_type": "markdown",
   "id": "0de7fe20",
   "metadata": {
    "papermill": {
     "duration": 0.009257,
     "end_time": "2022-09-08T23:39:45.115115",
     "exception": false,
     "start_time": "2022-09-08T23:39:45.105858",
     "status": "completed"
    },
    "tags": []
   },
   "source": [
    "## 5.\n",
    "Create a `Series` whose index is reviewers and whose values is the average review score given out by that reviewer. Hint: you will need the `taster_name` and `points` columns."
   ]
  },
  {
   "cell_type": "code",
   "execution_count": 15,
   "id": "1cfd6f72",
   "metadata": {
    "execution": {
     "iopub.execute_input": "2022-09-08T23:39:45.136000Z",
     "iopub.status.busy": "2022-09-08T23:39:45.135372Z",
     "iopub.status.idle": "2022-09-08T23:39:45.154527Z",
     "shell.execute_reply": "2022-09-08T23:39:45.153649Z"
    },
    "papermill": {
     "duration": 0.032124,
     "end_time": "2022-09-08T23:39:45.156600",
     "exception": false,
     "start_time": "2022-09-08T23:39:45.124476",
     "status": "completed"
    },
    "tags": []
   },
   "outputs": [
    {
     "data": {
      "text/plain": [
       "taster_name\n",
       "Alexander Peartree    85.855422\n",
       "Anna Lee C. Iijima    88.415629\n",
       "Anne Krebiehl MW      90.562551\n",
       "Carrie Dykes          86.395683\n",
       "Christina Pickard     87.833333\n",
       "Fiona Adams           86.888889\n",
       "Jeff Jenssen          88.319756\n",
       "Jim Gordon            88.626287\n",
       "Joe Czerwinski        88.536235\n",
       "Kerin O’Keefe         88.867947\n",
       "Lauren Buzzeo         87.739510\n",
       "Matt Kettmann         90.008686\n",
       "Michael Schachner     86.907493\n",
       "Mike DeSimone         89.101167\n",
       "Paul Gregutt          89.082564\n",
       "Roger Voss            88.708003\n",
       "Sean P. Sullivan      88.755739\n",
       "Susan Kostrzewa       86.609217\n",
       "Virginie Boone        89.213379\n",
       "Name: points, dtype: float64"
      ]
     },
     "execution_count": 15,
     "metadata": {},
     "output_type": "execute_result"
    }
   ],
   "source": [
    "reviews.groupby('taster_name').points.mean()"
   ]
  },
  {
   "cell_type": "code",
   "execution_count": 16,
   "id": "a33bb75f",
   "metadata": {
    "execution": {
     "iopub.execute_input": "2022-09-08T23:39:45.178122Z",
     "iopub.status.busy": "2022-09-08T23:39:45.177503Z",
     "iopub.status.idle": "2022-09-08T23:39:45.197485Z",
     "shell.execute_reply": "2022-09-08T23:39:45.196630Z"
    },
    "papermill": {
     "duration": 0.03317,
     "end_time": "2022-09-08T23:39:45.199588",
     "exception": false,
     "start_time": "2022-09-08T23:39:45.166418",
     "status": "completed"
    },
    "tags": []
   },
   "outputs": [
    {
     "data": {
      "application/javascript": [
       "parent.postMessage({\"jupyterEvent\": \"custom.exercise_interaction\", \"data\": {\"outcomeType\": 1, \"valueTowardsCompletion\": 0.16666666666666666, \"interactionType\": 1, \"questionType\": 1, \"questionId\": \"5_ReviewerMeanRatings\", \"learnToolsVersion\": \"0.3.4\", \"failureMessage\": \"\", \"exceptionClass\": \"\", \"trace\": \"\"}}, \"*\")"
      ],
      "text/plain": [
       "<IPython.core.display.Javascript object>"
      ]
     },
     "metadata": {},
     "output_type": "display_data"
    },
    {
     "data": {
      "text/markdown": [
       "<span style=\"color:#33cc33\">Correct</span>"
      ],
      "text/plain": [
       "Correct"
      ]
     },
     "metadata": {},
     "output_type": "display_data"
    }
   ],
   "source": [
    "reviewer_mean_ratings = reviews.groupby('taster_name').points.mean()\n",
    "\n",
    "# Check your answer\n",
    "q5.check()"
   ]
  },
  {
   "cell_type": "code",
   "execution_count": 17,
   "id": "9f541aca",
   "metadata": {
    "execution": {
     "iopub.execute_input": "2022-09-08T23:39:45.221245Z",
     "iopub.status.busy": "2022-09-08T23:39:45.220604Z",
     "iopub.status.idle": "2022-09-08T23:39:45.224161Z",
     "shell.execute_reply": "2022-09-08T23:39:45.223419Z"
    },
    "papermill": {
     "duration": 0.016582,
     "end_time": "2022-09-08T23:39:45.226113",
     "exception": false,
     "start_time": "2022-09-08T23:39:45.209531",
     "status": "completed"
    },
    "tags": []
   },
   "outputs": [],
   "source": [
    "#q5.hint()\n",
    "#q5.solution()"
   ]
  },
  {
   "cell_type": "markdown",
   "id": "c601316d",
   "metadata": {
    "papermill": {
     "duration": 0.009476,
     "end_time": "2022-09-08T23:39:45.245574",
     "exception": false,
     "start_time": "2022-09-08T23:39:45.236098",
     "status": "completed"
    },
    "tags": []
   },
   "source": [
    "Are there significant differences in the average scores assigned by the various reviewers? Run the cell below to use the `describe()` method to see a summary of the range of values."
   ]
  },
  {
   "cell_type": "code",
   "execution_count": 18,
   "id": "e5008034",
   "metadata": {
    "execution": {
     "iopub.execute_input": "2022-09-08T23:39:45.267033Z",
     "iopub.status.busy": "2022-09-08T23:39:45.266410Z",
     "iopub.status.idle": "2022-09-08T23:39:45.276908Z",
     "shell.execute_reply": "2022-09-08T23:39:45.276184Z"
    },
    "papermill": {
     "duration": 0.023495,
     "end_time": "2022-09-08T23:39:45.278886",
     "exception": false,
     "start_time": "2022-09-08T23:39:45.255391",
     "status": "completed"
    },
    "tags": []
   },
   "outputs": [
    {
     "data": {
      "text/plain": [
       "count    19.000000\n",
       "mean     88.233026\n",
       "std       1.243610\n",
       "min      85.855422\n",
       "25%      87.323501\n",
       "50%      88.536235\n",
       "75%      88.975256\n",
       "max      90.562551\n",
       "Name: points, dtype: float64"
      ]
     },
     "execution_count": 18,
     "metadata": {},
     "output_type": "execute_result"
    }
   ],
   "source": [
    "reviewer_mean_ratings.describe()"
   ]
  },
  {
   "cell_type": "markdown",
   "id": "d3a6061c",
   "metadata": {
    "papermill": {
     "duration": 0.009566,
     "end_time": "2022-09-08T23:39:45.298365",
     "exception": false,
     "start_time": "2022-09-08T23:39:45.288799",
     "status": "completed"
    },
    "tags": []
   },
   "source": [
    "## 6.\n",
    "What combination of countries and varieties are most common? Create a `Series` whose index is a `MultiIndex`of `{country, variety}` pairs. For example, a pinot noir produced in the US should map to `{\"US\", \"Pinot Noir\"}`. Sort the values in the `Series` in descending order based on wine count."
   ]
  },
  {
   "cell_type": "code",
   "execution_count": 19,
   "id": "de36aaef",
   "metadata": {
    "execution": {
     "iopub.execute_input": "2022-09-08T23:39:45.320132Z",
     "iopub.status.busy": "2022-09-08T23:39:45.319492Z",
     "iopub.status.idle": "2022-09-08T23:39:45.352604Z",
     "shell.execute_reply": "2022-09-08T23:39:45.351806Z"
    },
    "papermill": {
     "duration": 0.046466,
     "end_time": "2022-09-08T23:39:45.354718",
     "exception": false,
     "start_time": "2022-09-08T23:39:45.308252",
     "status": "completed"
    },
    "tags": []
   },
   "outputs": [
    {
     "data": {
      "text/plain": [
       "country  variety                 \n",
       "US       Pinot Noir                  9885\n",
       "         Cabernet Sauvignon          7315\n",
       "         Chardonnay                  6801\n",
       "France   Bordeaux-style Red Blend    4725\n",
       "Italy    Red Blend                   3624\n",
       "                                     ... \n",
       "Mexico   Cinsault                       1\n",
       "         Grenache                       1\n",
       "         Merlot                         1\n",
       "         Rosado                         1\n",
       "Uruguay  White Blend                    1\n",
       "Length: 1612, dtype: int64"
      ]
     },
     "execution_count": 19,
     "metadata": {},
     "output_type": "execute_result"
    }
   ],
   "source": [
    "reviews.groupby(['country', 'variety']).size().sort_values(ascending=False)"
   ]
  },
  {
   "cell_type": "code",
   "execution_count": 20,
   "id": "af734fb6",
   "metadata": {
    "execution": {
     "iopub.execute_input": "2022-09-08T23:39:45.376905Z",
     "iopub.status.busy": "2022-09-08T23:39:45.376303Z",
     "iopub.status.idle": "2022-09-08T23:39:45.407969Z",
     "shell.execute_reply": "2022-09-08T23:39:45.407198Z"
    },
    "papermill": {
     "duration": 0.045114,
     "end_time": "2022-09-08T23:39:45.409961",
     "exception": false,
     "start_time": "2022-09-08T23:39:45.364847",
     "status": "completed"
    },
    "tags": []
   },
   "outputs": [
    {
     "data": {
      "application/javascript": [
       "parent.postMessage({\"jupyterEvent\": \"custom.exercise_interaction\", \"data\": {\"outcomeType\": 1, \"valueTowardsCompletion\": 0.16666666666666666, \"interactionType\": 1, \"questionType\": 1, \"questionId\": \"6_GroupbyCountryVariety\", \"learnToolsVersion\": \"0.3.4\", \"failureMessage\": \"\", \"exceptionClass\": \"\", \"trace\": \"\"}}, \"*\")"
      ],
      "text/plain": [
       "<IPython.core.display.Javascript object>"
      ]
     },
     "metadata": {},
     "output_type": "display_data"
    },
    {
     "data": {
      "text/markdown": [
       "<span style=\"color:#33cc33\">Correct</span>"
      ],
      "text/plain": [
       "Correct"
      ]
     },
     "metadata": {},
     "output_type": "display_data"
    }
   ],
   "source": [
    "country_variety_counts = reviews.groupby(['country', 'variety']).size().sort_values(ascending=False)\n",
    "\n",
    "# Check your answer\n",
    "q6.check()"
   ]
  },
  {
   "cell_type": "code",
   "execution_count": 21,
   "id": "da61b994",
   "metadata": {
    "execution": {
     "iopub.execute_input": "2022-09-08T23:39:45.432868Z",
     "iopub.status.busy": "2022-09-08T23:39:45.432219Z",
     "iopub.status.idle": "2022-09-08T23:39:45.436777Z",
     "shell.execute_reply": "2022-09-08T23:39:45.435475Z"
    },
    "papermill": {
     "duration": 0.018476,
     "end_time": "2022-09-08T23:39:45.438879",
     "exception": false,
     "start_time": "2022-09-08T23:39:45.420403",
     "status": "completed"
    },
    "tags": []
   },
   "outputs": [],
   "source": [
    "#q6.hint()\n",
    "#q6.solution()"
   ]
  },
  {
   "cell_type": "markdown",
   "id": "2b14e23d",
   "metadata": {
    "papermill": {
     "duration": 0.010016,
     "end_time": "2022-09-08T23:39:45.459459",
     "exception": false,
     "start_time": "2022-09-08T23:39:45.449443",
     "status": "completed"
    },
    "tags": []
   },
   "source": [
    "# Keep going\n",
    "\n",
    "Move on to the [**data types and missing data**](https://www.kaggle.com/residentmario/data-types-and-missing-values)."
   ]
  },
  {
   "cell_type": "markdown",
   "id": "ef751104",
   "metadata": {
    "papermill": {
     "duration": 0.010066,
     "end_time": "2022-09-08T23:39:45.479941",
     "exception": false,
     "start_time": "2022-09-08T23:39:45.469875",
     "status": "completed"
    },
    "tags": []
   },
   "source": [
    "---\n",
    "\n",
    "\n",
    "\n",
    "\n",
    "*Have questions or comments? Visit the [course discussion forum](https://www.kaggle.com/learn/pandas/discussion) to chat with other learners.*"
   ]
  }
 ],
 "metadata": {
  "kernelspec": {
   "display_name": "Python 3",
   "language": "python",
   "name": "python3"
  },
  "language_info": {
   "codemirror_mode": {
    "name": "ipython",
    "version": 3
   },
   "file_extension": ".py",
   "mimetype": "text/x-python",
   "name": "python",
   "nbconvert_exporter": "python",
   "pygments_lexer": "ipython3",
   "version": "3.7.12"
  },
  "papermill": {
   "default_parameters": {},
   "duration": 13.416665,
   "end_time": "2022-09-08T23:39:46.111221",
   "environment_variables": {},
   "exception": null,
   "input_path": "__notebook__.ipynb",
   "output_path": "__notebook__.ipynb",
   "parameters": {},
   "start_time": "2022-09-08T23:39:32.694556",
   "version": "2.3.4"
  }
 },
 "nbformat": 4,
 "nbformat_minor": 5
}
