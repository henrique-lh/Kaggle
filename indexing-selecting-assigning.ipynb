{
 "cells": [
  {
   "cell_type": "code",
   "execution_count": 1,
   "id": "087ec5b4",
   "metadata": {
    "_cell_guid": "b1076dfc-b9ad-4769-8c92-a6c4dae69d19",
    "_uuid": "8f2839f25d086af736a60e9eeb907d3b93b6e0e5",
    "execution": {
     "iopub.execute_input": "2022-05-26T01:47:15.927159Z",
     "iopub.status.busy": "2022-05-26T01:47:15.926530Z",
     "iopub.status.idle": "2022-05-26T01:47:17.722629Z",
     "shell.execute_reply": "2022-05-26T01:47:17.721435Z"
    },
    "papermill": {
     "duration": 1.809986,
     "end_time": "2022-05-26T01:47:17.725798",
     "exception": false,
     "start_time": "2022-05-26T01:47:15.915812",
     "status": "completed"
    },
    "tags": []
   },
   "outputs": [],
   "source": [
    "import pandas as pd\n",
    "reviews = pd.read_csv('../input/wine-reviews/winemag-data-130k-v2.csv', index_col=0)\n",
    "pd.set_option('max_rows', 5)"
   ]
  },
  {
   "cell_type": "markdown",
   "id": "ab5bdca7",
   "metadata": {
    "papermill": {
     "duration": 0.00579,
     "end_time": "2022-05-26T01:47:17.737942",
     "exception": false,
     "start_time": "2022-05-26T01:47:17.732152",
     "status": "completed"
    },
    "tags": []
   },
   "source": [
    "## Native accessors\n",
    "\n",
    "* Access property of an atribute accessing it as an attribute $\\to$ example: `book.title`"
   ]
  },
  {
   "cell_type": "code",
   "execution_count": 2,
   "id": "262179a8",
   "metadata": {
    "execution": {
     "iopub.execute_input": "2022-05-26T01:47:17.752623Z",
     "iopub.status.busy": "2022-05-26T01:47:17.752170Z",
     "iopub.status.idle": "2022-05-26T01:47:17.783015Z",
     "shell.execute_reply": "2022-05-26T01:47:17.781801Z"
    },
    "papermill": {
     "duration": 0.042297,
     "end_time": "2022-05-26T01:47:17.786631",
     "exception": false,
     "start_time": "2022-05-26T01:47:17.744334",
     "status": "completed"
    },
    "tags": []
   },
   "outputs": [
    {
     "data": {
      "text/html": [
       "<div>\n",
       "<style scoped>\n",
       "    .dataframe tbody tr th:only-of-type {\n",
       "        vertical-align: middle;\n",
       "    }\n",
       "\n",
       "    .dataframe tbody tr th {\n",
       "        vertical-align: top;\n",
       "    }\n",
       "\n",
       "    .dataframe thead th {\n",
       "        text-align: right;\n",
       "    }\n",
       "</style>\n",
       "<table border=\"1\" class=\"dataframe\">\n",
       "  <thead>\n",
       "    <tr style=\"text-align: right;\">\n",
       "      <th></th>\n",
       "      <th>country</th>\n",
       "      <th>description</th>\n",
       "      <th>designation</th>\n",
       "      <th>points</th>\n",
       "      <th>price</th>\n",
       "      <th>province</th>\n",
       "      <th>region_1</th>\n",
       "      <th>region_2</th>\n",
       "      <th>taster_name</th>\n",
       "      <th>taster_twitter_handle</th>\n",
       "      <th>title</th>\n",
       "      <th>variety</th>\n",
       "      <th>winery</th>\n",
       "    </tr>\n",
       "  </thead>\n",
       "  <tbody>\n",
       "    <tr>\n",
       "      <th>0</th>\n",
       "      <td>Italy</td>\n",
       "      <td>Aromas include tropical fruit, broom, brimston...</td>\n",
       "      <td>Vulkà Bianco</td>\n",
       "      <td>87</td>\n",
       "      <td>NaN</td>\n",
       "      <td>Sicily &amp; Sardinia</td>\n",
       "      <td>Etna</td>\n",
       "      <td>NaN</td>\n",
       "      <td>Kerin O’Keefe</td>\n",
       "      <td>@kerinokeefe</td>\n",
       "      <td>Nicosia 2013 Vulkà Bianco  (Etna)</td>\n",
       "      <td>White Blend</td>\n",
       "      <td>Nicosia</td>\n",
       "    </tr>\n",
       "    <tr>\n",
       "      <th>1</th>\n",
       "      <td>Portugal</td>\n",
       "      <td>This is ripe and fruity, a wine that is smooth...</td>\n",
       "      <td>Avidagos</td>\n",
       "      <td>87</td>\n",
       "      <td>15.0</td>\n",
       "      <td>Douro</td>\n",
       "      <td>NaN</td>\n",
       "      <td>NaN</td>\n",
       "      <td>Roger Voss</td>\n",
       "      <td>@vossroger</td>\n",
       "      <td>Quinta dos Avidagos 2011 Avidagos Red (Douro)</td>\n",
       "      <td>Portuguese Red</td>\n",
       "      <td>Quinta dos Avidagos</td>\n",
       "    </tr>\n",
       "    <tr>\n",
       "      <th>...</th>\n",
       "      <td>...</td>\n",
       "      <td>...</td>\n",
       "      <td>...</td>\n",
       "      <td>...</td>\n",
       "      <td>...</td>\n",
       "      <td>...</td>\n",
       "      <td>...</td>\n",
       "      <td>...</td>\n",
       "      <td>...</td>\n",
       "      <td>...</td>\n",
       "      <td>...</td>\n",
       "      <td>...</td>\n",
       "      <td>...</td>\n",
       "    </tr>\n",
       "    <tr>\n",
       "      <th>129969</th>\n",
       "      <td>France</td>\n",
       "      <td>A dry style of Pinot Gris, this is crisp with ...</td>\n",
       "      <td>NaN</td>\n",
       "      <td>90</td>\n",
       "      <td>32.0</td>\n",
       "      <td>Alsace</td>\n",
       "      <td>Alsace</td>\n",
       "      <td>NaN</td>\n",
       "      <td>Roger Voss</td>\n",
       "      <td>@vossroger</td>\n",
       "      <td>Domaine Marcel Deiss 2012 Pinot Gris (Alsace)</td>\n",
       "      <td>Pinot Gris</td>\n",
       "      <td>Domaine Marcel Deiss</td>\n",
       "    </tr>\n",
       "    <tr>\n",
       "      <th>129970</th>\n",
       "      <td>France</td>\n",
       "      <td>Big, rich and off-dry, this is powered by inte...</td>\n",
       "      <td>Lieu-dit Harth Cuvée Caroline</td>\n",
       "      <td>90</td>\n",
       "      <td>21.0</td>\n",
       "      <td>Alsace</td>\n",
       "      <td>Alsace</td>\n",
       "      <td>NaN</td>\n",
       "      <td>Roger Voss</td>\n",
       "      <td>@vossroger</td>\n",
       "      <td>Domaine Schoffit 2012 Lieu-dit Harth Cuvée Car...</td>\n",
       "      <td>Gewürztraminer</td>\n",
       "      <td>Domaine Schoffit</td>\n",
       "    </tr>\n",
       "  </tbody>\n",
       "</table>\n",
       "<p>129971 rows × 13 columns</p>\n",
       "</div>"
      ],
      "text/plain": [
       "         country                                        description  \\\n",
       "0          Italy  Aromas include tropical fruit, broom, brimston...   \n",
       "1       Portugal  This is ripe and fruity, a wine that is smooth...   \n",
       "...          ...                                                ...   \n",
       "129969    France  A dry style of Pinot Gris, this is crisp with ...   \n",
       "129970    France  Big, rich and off-dry, this is powered by inte...   \n",
       "\n",
       "                          designation  points  price           province  \\\n",
       "0                        Vulkà Bianco      87    NaN  Sicily & Sardinia   \n",
       "1                            Avidagos      87   15.0              Douro   \n",
       "...                               ...     ...    ...                ...   \n",
       "129969                            NaN      90   32.0             Alsace   \n",
       "129970  Lieu-dit Harth Cuvée Caroline      90   21.0             Alsace   \n",
       "\n",
       "       region_1 region_2    taster_name taster_twitter_handle  \\\n",
       "0          Etna      NaN  Kerin O’Keefe          @kerinokeefe   \n",
       "1           NaN      NaN     Roger Voss            @vossroger   \n",
       "...         ...      ...            ...                   ...   \n",
       "129969   Alsace      NaN     Roger Voss            @vossroger   \n",
       "129970   Alsace      NaN     Roger Voss            @vossroger   \n",
       "\n",
       "                                                    title         variety  \\\n",
       "0                       Nicosia 2013 Vulkà Bianco  (Etna)     White Blend   \n",
       "1           Quinta dos Avidagos 2011 Avidagos Red (Douro)  Portuguese Red   \n",
       "...                                                   ...             ...   \n",
       "129969      Domaine Marcel Deiss 2012 Pinot Gris (Alsace)      Pinot Gris   \n",
       "129970  Domaine Schoffit 2012 Lieu-dit Harth Cuvée Car...  Gewürztraminer   \n",
       "\n",
       "                      winery  \n",
       "0                    Nicosia  \n",
       "1        Quinta dos Avidagos  \n",
       "...                      ...  \n",
       "129969  Domaine Marcel Deiss  \n",
       "129970      Domaine Schoffit  \n",
       "\n",
       "[129971 rows x 13 columns]"
      ]
     },
     "execution_count": 2,
     "metadata": {},
     "output_type": "execute_result"
    }
   ],
   "source": [
    "reviews"
   ]
  },
  {
   "cell_type": "code",
   "execution_count": 3,
   "id": "f677da47",
   "metadata": {
    "execution": {
     "iopub.execute_input": "2022-05-26T01:47:17.801055Z",
     "iopub.status.busy": "2022-05-26T01:47:17.800565Z",
     "iopub.status.idle": "2022-05-26T01:47:17.812785Z",
     "shell.execute_reply": "2022-05-26T01:47:17.811648Z"
    },
    "papermill": {
     "duration": 0.022345,
     "end_time": "2022-05-26T01:47:17.815209",
     "exception": false,
     "start_time": "2022-05-26T01:47:17.792864",
     "status": "completed"
    },
    "tags": []
   },
   "outputs": [
    {
     "data": {
      "text/plain": [
       "0            Italy\n",
       "1         Portugal\n",
       "            ...   \n",
       "129969      France\n",
       "129970      France\n",
       "Name: country, Length: 129971, dtype: object"
      ]
     },
     "execution_count": 3,
     "metadata": {},
     "output_type": "execute_result"
    }
   ],
   "source": [
    "reviews.country"
   ]
  },
  {
   "cell_type": "markdown",
   "id": "73264c12",
   "metadata": {
    "papermill": {
     "duration": 0.006298,
     "end_time": "2022-05-26T01:47:17.827836",
     "exception": false,
     "start_time": "2022-05-26T01:47:17.821538",
     "status": "completed"
    },
    "tags": []
   },
   "source": [
    "* It's also possible to use dictionaries indexing\n",
    "* It's more flexible than accesing using `.attribute`"
   ]
  },
  {
   "cell_type": "code",
   "execution_count": 4,
   "id": "361f9ad4",
   "metadata": {
    "execution": {
     "iopub.execute_input": "2022-05-26T01:47:17.843013Z",
     "iopub.status.busy": "2022-05-26T01:47:17.842516Z",
     "iopub.status.idle": "2022-05-26T01:47:17.853320Z",
     "shell.execute_reply": "2022-05-26T01:47:17.851745Z"
    },
    "papermill": {
     "duration": 0.021509,
     "end_time": "2022-05-26T01:47:17.855789",
     "exception": false,
     "start_time": "2022-05-26T01:47:17.834280",
     "status": "completed"
    },
    "tags": []
   },
   "outputs": [
    {
     "data": {
      "text/plain": [
       "0            Italy\n",
       "1         Portugal\n",
       "            ...   \n",
       "129969      France\n",
       "129970      France\n",
       "Name: country, Length: 129971, dtype: object"
      ]
     },
     "execution_count": 4,
     "metadata": {},
     "output_type": "execute_result"
    }
   ],
   "source": [
    "reviews['country']"
   ]
  },
  {
   "cell_type": "code",
   "execution_count": 5,
   "id": "53238bdb",
   "metadata": {
    "execution": {
     "iopub.execute_input": "2022-05-26T01:47:17.870852Z",
     "iopub.status.busy": "2022-05-26T01:47:17.870428Z",
     "iopub.status.idle": "2022-05-26T01:47:17.878026Z",
     "shell.execute_reply": "2022-05-26T01:47:17.876658Z"
    },
    "papermill": {
     "duration": 0.018052,
     "end_time": "2022-05-26T01:47:17.880214",
     "exception": false,
     "start_time": "2022-05-26T01:47:17.862162",
     "status": "completed"
    },
    "tags": []
   },
   "outputs": [
    {
     "data": {
      "text/plain": [
       "pandas.core.series.Series"
      ]
     },
     "execution_count": 5,
     "metadata": {},
     "output_type": "execute_result"
    }
   ],
   "source": [
    "type(reviews['country'])"
   ]
  },
  {
   "cell_type": "code",
   "execution_count": 6,
   "id": "f9240497",
   "metadata": {
    "execution": {
     "iopub.execute_input": "2022-05-26T01:47:17.895647Z",
     "iopub.status.busy": "2022-05-26T01:47:17.895273Z",
     "iopub.status.idle": "2022-05-26T01:47:17.902897Z",
     "shell.execute_reply": "2022-05-26T01:47:17.902131Z"
    },
    "papermill": {
     "duration": 0.018092,
     "end_time": "2022-05-26T01:47:17.904949",
     "exception": false,
     "start_time": "2022-05-26T01:47:17.886857",
     "status": "completed"
    },
    "tags": []
   },
   "outputs": [
    {
     "data": {
      "text/plain": [
       "0       Italy\n",
       "1    Portugal\n",
       "2          US\n",
       "3          US\n",
       "Name: country, dtype: object"
      ]
     },
     "execution_count": 6,
     "metadata": {},
     "output_type": "execute_result"
    }
   ],
   "source": [
    "reviews['country'][0:4]"
   ]
  },
  {
   "cell_type": "markdown",
   "id": "4fb21e35",
   "metadata": {
    "papermill": {
     "duration": 0.006295,
     "end_time": "2022-05-26T01:47:17.917931",
     "exception": false,
     "start_time": "2022-05-26T01:47:17.911636",
     "status": "completed"
    },
    "tags": []
   },
   "source": [
    "## Indexing in pandas\n",
    "\n",
    "* Pandas already has it's own way to make indexing. We use `loc` and `iloc`\n",
    "* Row first, column second\n",
    "\n",
    "### Index-based selection\n",
    "\n",
    "* Selecting data on it's numerical position using `iloc`"
   ]
  },
  {
   "cell_type": "code",
   "execution_count": 7,
   "id": "e3acf289",
   "metadata": {
    "execution": {
     "iopub.execute_input": "2022-05-26T01:47:17.932956Z",
     "iopub.status.busy": "2022-05-26T01:47:17.932474Z",
     "iopub.status.idle": "2022-05-26T01:47:17.942493Z",
     "shell.execute_reply": "2022-05-26T01:47:17.941528Z"
    },
    "papermill": {
     "duration": 0.02022,
     "end_time": "2022-05-26T01:47:17.944670",
     "exception": false,
     "start_time": "2022-05-26T01:47:17.924450",
     "status": "completed"
    },
    "tags": []
   },
   "outputs": [
    {
     "data": {
      "text/plain": [
       "country                                                    Italy\n",
       "description    Aromas include tropical fruit, broom, brimston...\n",
       "                                     ...                        \n",
       "variety                                              White Blend\n",
       "winery                                                   Nicosia\n",
       "Name: 0, Length: 13, dtype: object"
      ]
     },
     "execution_count": 7,
     "metadata": {},
     "output_type": "execute_result"
    }
   ],
   "source": [
    "reviews.iloc[0]"
   ]
  },
  {
   "cell_type": "markdown",
   "id": "be7552ef",
   "metadata": {
    "papermill": {
     "duration": 0.006734,
     "end_time": "2022-05-26T01:47:17.958246",
     "exception": false,
     "start_time": "2022-05-26T01:47:17.951512",
     "status": "completed"
    },
    "tags": []
   },
   "source": [
    "Getting the first all lines of the first column"
   ]
  },
  {
   "cell_type": "code",
   "execution_count": 8,
   "id": "b6ffd68a",
   "metadata": {
    "execution": {
     "iopub.execute_input": "2022-05-26T01:47:17.974044Z",
     "iopub.status.busy": "2022-05-26T01:47:17.973553Z",
     "iopub.status.idle": "2022-05-26T01:47:17.984188Z",
     "shell.execute_reply": "2022-05-26T01:47:17.983072Z"
    },
    "papermill": {
     "duration": 0.021152,
     "end_time": "2022-05-26T01:47:17.986294",
     "exception": false,
     "start_time": "2022-05-26T01:47:17.965142",
     "status": "completed"
    },
    "tags": []
   },
   "outputs": [
    {
     "data": {
      "text/plain": [
       "0            Italy\n",
       "1         Portugal\n",
       "            ...   \n",
       "129969      France\n",
       "129970      France\n",
       "Name: country, Length: 129971, dtype: object"
      ]
     },
     "execution_count": 8,
     "metadata": {},
     "output_type": "execute_result"
    }
   ],
   "source": [
    "reviews.iloc[:, 0]"
   ]
  },
  {
   "cell_type": "markdown",
   "id": "26bc9aea",
   "metadata": {
    "papermill": {
     "duration": 0.006546,
     "end_time": "2022-05-26T01:47:17.999781",
     "exception": false,
     "start_time": "2022-05-26T01:47:17.993235",
     "status": "completed"
    },
    "tags": []
   },
   "source": [
    "Indexing the first three rows of the first column"
   ]
  },
  {
   "cell_type": "code",
   "execution_count": 9,
   "id": "94617142",
   "metadata": {
    "execution": {
     "iopub.execute_input": "2022-05-26T01:47:18.016094Z",
     "iopub.status.busy": "2022-05-26T01:47:18.015649Z",
     "iopub.status.idle": "2022-05-26T01:47:18.024585Z",
     "shell.execute_reply": "2022-05-26T01:47:18.023861Z"
    },
    "papermill": {
     "duration": 0.019271,
     "end_time": "2022-05-26T01:47:18.026447",
     "exception": false,
     "start_time": "2022-05-26T01:47:18.007176",
     "status": "completed"
    },
    "tags": []
   },
   "outputs": [
    {
     "data": {
      "text/plain": [
       "0       Italy\n",
       "1    Portugal\n",
       "2          US\n",
       "Name: country, dtype: object"
      ]
     },
     "execution_count": 9,
     "metadata": {},
     "output_type": "execute_result"
    }
   ],
   "source": [
    "reviews.iloc[:3, 0]"
   ]
  },
  {
   "cell_type": "markdown",
   "id": "0ba0cd30",
   "metadata": {
    "papermill": {
     "duration": 0.006822,
     "end_time": "2022-05-26T01:47:18.040194",
     "exception": false,
     "start_time": "2022-05-26T01:47:18.033372",
     "status": "completed"
    },
    "tags": []
   },
   "source": [
    "Using ranges"
   ]
  },
  {
   "cell_type": "code",
   "execution_count": 10,
   "id": "66705608",
   "metadata": {
    "execution": {
     "iopub.execute_input": "2022-05-26T01:47:18.056028Z",
     "iopub.status.busy": "2022-05-26T01:47:18.055594Z",
     "iopub.status.idle": "2022-05-26T01:47:18.063267Z",
     "shell.execute_reply": "2022-05-26T01:47:18.062430Z"
    },
    "papermill": {
     "duration": 0.018046,
     "end_time": "2022-05-26T01:47:18.065290",
     "exception": false,
     "start_time": "2022-05-26T01:47:18.047244",
     "status": "completed"
    },
    "tags": []
   },
   "outputs": [
    {
     "data": {
      "text/plain": [
       "1    Portugal\n",
       "2          US\n",
       "Name: country, dtype: object"
      ]
     },
     "execution_count": 10,
     "metadata": {},
     "output_type": "execute_result"
    }
   ],
   "source": [
    "reviews.iloc[1:3, 0]"
   ]
  },
  {
   "cell_type": "markdown",
   "id": "1a596f16",
   "metadata": {
    "papermill": {
     "duration": 0.006759,
     "end_time": "2022-05-26T01:47:18.079095",
     "exception": false,
     "start_time": "2022-05-26T01:47:18.072336",
     "status": "completed"
    },
    "tags": []
   },
   "source": [
    "Passing a list as argument to `.iloc`"
   ]
  },
  {
   "cell_type": "code",
   "execution_count": 11,
   "id": "d62619ab",
   "metadata": {
    "execution": {
     "iopub.execute_input": "2022-05-26T01:47:18.096831Z",
     "iopub.status.busy": "2022-05-26T01:47:18.096324Z",
     "iopub.status.idle": "2022-05-26T01:47:18.106527Z",
     "shell.execute_reply": "2022-05-26T01:47:18.105385Z"
    },
    "papermill": {
     "duration": 0.02177,
     "end_time": "2022-05-26T01:47:18.109134",
     "exception": false,
     "start_time": "2022-05-26T01:47:18.087364",
     "status": "completed"
    },
    "tags": []
   },
   "outputs": [
    {
     "data": {
      "text/plain": [
       "0       Italy\n",
       "1    Portugal\n",
       "2          US\n",
       "Name: country, dtype: object"
      ]
     },
     "execution_count": 11,
     "metadata": {},
     "output_type": "execute_result"
    }
   ],
   "source": [
    "reviews.iloc[[0, 1, 2], 0]"
   ]
  },
  {
   "cell_type": "markdown",
   "id": "03cfb2e1",
   "metadata": {
    "papermill": {
     "duration": 0.007226,
     "end_time": "2022-05-26T01:47:18.124118",
     "exception": false,
     "start_time": "2022-05-26T01:47:18.116892",
     "status": "completed"
    },
    "tags": []
   },
   "source": [
    "Working with negative numbers"
   ]
  },
  {
   "cell_type": "code",
   "execution_count": 12,
   "id": "b2f60a2e",
   "metadata": {
    "execution": {
     "iopub.execute_input": "2022-05-26T01:47:18.140996Z",
     "iopub.status.busy": "2022-05-26T01:47:18.140575Z",
     "iopub.status.idle": "2022-05-26T01:47:18.161033Z",
     "shell.execute_reply": "2022-05-26T01:47:18.160140Z"
    },
    "papermill": {
     "duration": 0.03142,
     "end_time": "2022-05-26T01:47:18.163064",
     "exception": false,
     "start_time": "2022-05-26T01:47:18.131644",
     "status": "completed"
    },
    "tags": []
   },
   "outputs": [
    {
     "data": {
      "text/html": [
       "<div>\n",
       "<style scoped>\n",
       "    .dataframe tbody tr th:only-of-type {\n",
       "        vertical-align: middle;\n",
       "    }\n",
       "\n",
       "    .dataframe tbody tr th {\n",
       "        vertical-align: top;\n",
       "    }\n",
       "\n",
       "    .dataframe thead th {\n",
       "        text-align: right;\n",
       "    }\n",
       "</style>\n",
       "<table border=\"1\" class=\"dataframe\">\n",
       "  <thead>\n",
       "    <tr style=\"text-align: right;\">\n",
       "      <th></th>\n",
       "      <th>country</th>\n",
       "      <th>description</th>\n",
       "      <th>designation</th>\n",
       "      <th>points</th>\n",
       "      <th>price</th>\n",
       "      <th>province</th>\n",
       "      <th>region_1</th>\n",
       "      <th>region_2</th>\n",
       "      <th>taster_name</th>\n",
       "      <th>taster_twitter_handle</th>\n",
       "      <th>title</th>\n",
       "      <th>variety</th>\n",
       "      <th>winery</th>\n",
       "    </tr>\n",
       "  </thead>\n",
       "  <tbody>\n",
       "    <tr>\n",
       "      <th>129966</th>\n",
       "      <td>Germany</td>\n",
       "      <td>Notes of honeysuckle and cantaloupe sweeten th...</td>\n",
       "      <td>Brauneberger Juffer-Sonnenuhr Spätlese</td>\n",
       "      <td>90</td>\n",
       "      <td>28.0</td>\n",
       "      <td>Mosel</td>\n",
       "      <td>NaN</td>\n",
       "      <td>NaN</td>\n",
       "      <td>Anna Lee C. Iijima</td>\n",
       "      <td>NaN</td>\n",
       "      <td>Dr. H. Thanisch (Erben Müller-Burggraef) 2013 ...</td>\n",
       "      <td>Riesling</td>\n",
       "      <td>Dr. H. Thanisch (Erben Müller-Burggraef)</td>\n",
       "    </tr>\n",
       "    <tr>\n",
       "      <th>129967</th>\n",
       "      <td>US</td>\n",
       "      <td>Citation is given as much as a decade of bottl...</td>\n",
       "      <td>NaN</td>\n",
       "      <td>90</td>\n",
       "      <td>75.0</td>\n",
       "      <td>Oregon</td>\n",
       "      <td>Oregon</td>\n",
       "      <td>Oregon Other</td>\n",
       "      <td>Paul Gregutt</td>\n",
       "      <td>@paulgwine</td>\n",
       "      <td>Citation 2004 Pinot Noir (Oregon)</td>\n",
       "      <td>Pinot Noir</td>\n",
       "      <td>Citation</td>\n",
       "    </tr>\n",
       "    <tr>\n",
       "      <th>129968</th>\n",
       "      <td>France</td>\n",
       "      <td>Well-drained gravel soil gives this wine its c...</td>\n",
       "      <td>Kritt</td>\n",
       "      <td>90</td>\n",
       "      <td>30.0</td>\n",
       "      <td>Alsace</td>\n",
       "      <td>Alsace</td>\n",
       "      <td>NaN</td>\n",
       "      <td>Roger Voss</td>\n",
       "      <td>@vossroger</td>\n",
       "      <td>Domaine Gresser 2013 Kritt Gewurztraminer (Als...</td>\n",
       "      <td>Gewürztraminer</td>\n",
       "      <td>Domaine Gresser</td>\n",
       "    </tr>\n",
       "    <tr>\n",
       "      <th>129969</th>\n",
       "      <td>France</td>\n",
       "      <td>A dry style of Pinot Gris, this is crisp with ...</td>\n",
       "      <td>NaN</td>\n",
       "      <td>90</td>\n",
       "      <td>32.0</td>\n",
       "      <td>Alsace</td>\n",
       "      <td>Alsace</td>\n",
       "      <td>NaN</td>\n",
       "      <td>Roger Voss</td>\n",
       "      <td>@vossroger</td>\n",
       "      <td>Domaine Marcel Deiss 2012 Pinot Gris (Alsace)</td>\n",
       "      <td>Pinot Gris</td>\n",
       "      <td>Domaine Marcel Deiss</td>\n",
       "    </tr>\n",
       "    <tr>\n",
       "      <th>129970</th>\n",
       "      <td>France</td>\n",
       "      <td>Big, rich and off-dry, this is powered by inte...</td>\n",
       "      <td>Lieu-dit Harth Cuvée Caroline</td>\n",
       "      <td>90</td>\n",
       "      <td>21.0</td>\n",
       "      <td>Alsace</td>\n",
       "      <td>Alsace</td>\n",
       "      <td>NaN</td>\n",
       "      <td>Roger Voss</td>\n",
       "      <td>@vossroger</td>\n",
       "      <td>Domaine Schoffit 2012 Lieu-dit Harth Cuvée Car...</td>\n",
       "      <td>Gewürztraminer</td>\n",
       "      <td>Domaine Schoffit</td>\n",
       "    </tr>\n",
       "  </tbody>\n",
       "</table>\n",
       "</div>"
      ],
      "text/plain": [
       "        country                                        description  \\\n",
       "129966  Germany  Notes of honeysuckle and cantaloupe sweeten th...   \n",
       "129967       US  Citation is given as much as a decade of bottl...   \n",
       "129968   France  Well-drained gravel soil gives this wine its c...   \n",
       "129969   France  A dry style of Pinot Gris, this is crisp with ...   \n",
       "129970   France  Big, rich and off-dry, this is powered by inte...   \n",
       "\n",
       "                                   designation  points  price province  \\\n",
       "129966  Brauneberger Juffer-Sonnenuhr Spätlese      90   28.0    Mosel   \n",
       "129967                                     NaN      90   75.0   Oregon   \n",
       "129968                                   Kritt      90   30.0   Alsace   \n",
       "129969                                     NaN      90   32.0   Alsace   \n",
       "129970           Lieu-dit Harth Cuvée Caroline      90   21.0   Alsace   \n",
       "\n",
       "       region_1      region_2         taster_name taster_twitter_handle  \\\n",
       "129966      NaN           NaN  Anna Lee C. Iijima                   NaN   \n",
       "129967   Oregon  Oregon Other        Paul Gregutt           @paulgwine    \n",
       "129968   Alsace           NaN          Roger Voss            @vossroger   \n",
       "129969   Alsace           NaN          Roger Voss            @vossroger   \n",
       "129970   Alsace           NaN          Roger Voss            @vossroger   \n",
       "\n",
       "                                                    title         variety  \\\n",
       "129966  Dr. H. Thanisch (Erben Müller-Burggraef) 2013 ...        Riesling   \n",
       "129967                  Citation 2004 Pinot Noir (Oregon)      Pinot Noir   \n",
       "129968  Domaine Gresser 2013 Kritt Gewurztraminer (Als...  Gewürztraminer   \n",
       "129969      Domaine Marcel Deiss 2012 Pinot Gris (Alsace)      Pinot Gris   \n",
       "129970  Domaine Schoffit 2012 Lieu-dit Harth Cuvée Car...  Gewürztraminer   \n",
       "\n",
       "                                          winery  \n",
       "129966  Dr. H. Thanisch (Erben Müller-Burggraef)  \n",
       "129967                                  Citation  \n",
       "129968                           Domaine Gresser  \n",
       "129969                      Domaine Marcel Deiss  \n",
       "129970                          Domaine Schoffit  "
      ]
     },
     "execution_count": 12,
     "metadata": {},
     "output_type": "execute_result"
    }
   ],
   "source": [
    "reviews.iloc[-5:]"
   ]
  },
  {
   "cell_type": "code",
   "execution_count": null,
   "id": "e995a389",
   "metadata": {
    "papermill": {
     "duration": 0.007194,
     "end_time": "2022-05-26T01:47:18.177808",
     "exception": false,
     "start_time": "2022-05-26T01:47:18.170614",
     "status": "completed"
    },
    "tags": []
   },
   "outputs": [],
   "source": []
  }
 ],
 "metadata": {
  "kernelspec": {
   "display_name": "Python 3",
   "language": "python",
   "name": "python3"
  },
  "language_info": {
   "codemirror_mode": {
    "name": "ipython",
    "version": 3
   },
   "file_extension": ".py",
   "mimetype": "text/x-python",
   "name": "python",
   "nbconvert_exporter": "python",
   "pygments_lexer": "ipython3",
   "version": "3.7.12"
  },
  "papermill": {
   "default_parameters": {},
   "duration": 14.46676,
   "end_time": "2022-05-26T01:47:18.907672",
   "environment_variables": {},
   "exception": null,
   "input_path": "__notebook__.ipynb",
   "output_path": "__notebook__.ipynb",
   "parameters": {},
   "start_time": "2022-05-26T01:47:04.440912",
   "version": "2.3.4"
  }
 },
 "nbformat": 4,
 "nbformat_minor": 5
}
