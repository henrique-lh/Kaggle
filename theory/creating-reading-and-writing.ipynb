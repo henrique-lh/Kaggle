{
 "cells": [
  {
   "cell_type": "markdown",
   "id": "576dbcea",
   "metadata": {
    "_cell_guid": "5b5845e6-6782-4c19-a69b-1cdf8e2ea086",
    "_uuid": "3e01c830-480e-40eb-85c3-f636a964960e",
    "papermill": {
     "duration": 0.020533,
     "end_time": "2022-05-24T19:02:30.443439",
     "exception": false,
     "start_time": "2022-05-24T19:02:30.422906",
     "status": "completed"
    },
    "tags": []
   },
   "source": [
    "# Theory"
   ]
  },
  {
   "cell_type": "markdown",
   "id": "87842167",
   "metadata": {
    "_cell_guid": "a0304d25-611a-4fac-95ef-77d9ffac6d3d",
    "_uuid": "8931677e-688c-4ec5-9ae0-0afa94e1e152",
    "papermill": {
     "duration": 0.019079,
     "end_time": "2022-05-24T19:02:30.481131",
     "exception": false,
     "start_time": "2022-05-24T19:02:30.462052",
     "status": "completed"
    },
    "tags": []
   },
   "source": [
    "## Getting started\n",
    "\n",
    "* Importing Pandas library"
   ]
  },
  {
   "cell_type": "code",
   "execution_count": 1,
   "id": "708d0160",
   "metadata": {
    "_cell_guid": "ec118adf-376c-4bce-931c-ec7b9792f04d",
    "_uuid": "7bc9467e-aa26-4e63-a14a-84ab090e2573",
    "collapsed": false,
    "execution": {
     "iopub.execute_input": "2022-05-24T19:02:30.523868Z",
     "iopub.status.busy": "2022-05-24T19:02:30.523335Z",
     "iopub.status.idle": "2022-05-24T19:02:30.533611Z",
     "shell.execute_reply": "2022-05-24T19:02:30.532694Z"
    },
    "jupyter": {
     "outputs_hidden": false
    },
    "papermill": {
     "duration": 0.034941,
     "end_time": "2022-05-24T19:02:30.536103",
     "exception": false,
     "start_time": "2022-05-24T19:02:30.501162",
     "status": "completed"
    },
    "tags": []
   },
   "outputs": [],
   "source": [
    "import pandas as pd"
   ]
  },
  {
   "cell_type": "markdown",
   "id": "4e532be2",
   "metadata": {
    "_cell_guid": "307a9ff9-f469-4567-8a3b-40d512412611",
    "_uuid": "8a44061c-c282-4a88-98b8-20289c3b0f2f",
    "papermill": {
     "duration": 0.018283,
     "end_time": "2022-05-24T19:02:30.572782",
     "exception": false,
     "start_time": "2022-05-24T19:02:30.554499",
     "status": "completed"
    },
    "tags": []
   },
   "source": [
    "## Creating data\n",
    "\n",
    "### Data Frame: \n",
    "* Array of individual entries, each of which has a certain value\n",
    "* To build up a dataframe, we use Python dictionaries and lists\n",
    "* Examples:"
   ]
  },
  {
   "cell_type": "code",
   "execution_count": 2,
   "id": "7b352279",
   "metadata": {
    "_cell_guid": "a08cb8a9-b0db-440b-afb5-37afc440a06f",
    "_uuid": "0000ab64-fb4c-49e6-b49a-b78640c0144c",
    "collapsed": false,
    "execution": {
     "iopub.execute_input": "2022-05-24T19:02:30.615061Z",
     "iopub.status.busy": "2022-05-24T19:02:30.614771Z",
     "iopub.status.idle": "2022-05-24T19:02:30.638028Z",
     "shell.execute_reply": "2022-05-24T19:02:30.637189Z"
    },
    "jupyter": {
     "outputs_hidden": false
    },
    "papermill": {
     "duration": 0.046657,
     "end_time": "2022-05-24T19:02:30.640486",
     "exception": false,
     "start_time": "2022-05-24T19:02:30.593829",
     "status": "completed"
    },
    "tags": []
   },
   "outputs": [
    {
     "data": {
      "text/html": [
       "<div>\n",
       "<style scoped>\n",
       "    .dataframe tbody tr th:only-of-type {\n",
       "        vertical-align: middle;\n",
       "    }\n",
       "\n",
       "    .dataframe tbody tr th {\n",
       "        vertical-align: top;\n",
       "    }\n",
       "\n",
       "    .dataframe thead th {\n",
       "        text-align: right;\n",
       "    }\n",
       "</style>\n",
       "<table border=\"1\" class=\"dataframe\">\n",
       "  <thead>\n",
       "    <tr style=\"text-align: right;\">\n",
       "      <th></th>\n",
       "      <th>Yes</th>\n",
       "      <th>No</th>\n",
       "    </tr>\n",
       "  </thead>\n",
       "  <tbody>\n",
       "    <tr>\n",
       "      <th>0</th>\n",
       "      <td>50</td>\n",
       "      <td>131</td>\n",
       "    </tr>\n",
       "    <tr>\n",
       "      <th>1</th>\n",
       "      <td>21</td>\n",
       "      <td>2</td>\n",
       "    </tr>\n",
       "  </tbody>\n",
       "</table>\n",
       "</div>"
      ],
      "text/plain": [
       "   Yes   No\n",
       "0   50  131\n",
       "1   21    2"
      ]
     },
     "execution_count": 2,
     "metadata": {},
     "output_type": "execute_result"
    }
   ],
   "source": [
    "pd.DataFrame({'Yes': [50, 21], 'No': [131, 2]})"
   ]
  },
  {
   "cell_type": "code",
   "execution_count": 3,
   "id": "5d03fa77",
   "metadata": {
    "_cell_guid": "90b471f2-b222-4b4a-9934-6d663954d13f",
    "_uuid": "3300991c-688d-4e37-a1ce-9e2e25cc7c02",
    "collapsed": false,
    "execution": {
     "iopub.execute_input": "2022-05-24T19:02:30.684146Z",
     "iopub.status.busy": "2022-05-24T19:02:30.683587Z",
     "iopub.status.idle": "2022-05-24T19:02:30.693769Z",
     "shell.execute_reply": "2022-05-24T19:02:30.692962Z"
    },
    "jupyter": {
     "outputs_hidden": false
    },
    "papermill": {
     "duration": 0.036482,
     "end_time": "2022-05-24T19:02:30.697061",
     "exception": false,
     "start_time": "2022-05-24T19:02:30.660579",
     "status": "completed"
    },
    "tags": []
   },
   "outputs": [
    {
     "data": {
      "text/html": [
       "<div>\n",
       "<style scoped>\n",
       "    .dataframe tbody tr th:only-of-type {\n",
       "        vertical-align: middle;\n",
       "    }\n",
       "\n",
       "    .dataframe tbody tr th {\n",
       "        vertical-align: top;\n",
       "    }\n",
       "\n",
       "    .dataframe thead th {\n",
       "        text-align: right;\n",
       "    }\n",
       "</style>\n",
       "<table border=\"1\" class=\"dataframe\">\n",
       "  <thead>\n",
       "    <tr style=\"text-align: right;\">\n",
       "      <th></th>\n",
       "      <th>Bob</th>\n",
       "      <th>Sue</th>\n",
       "    </tr>\n",
       "  </thead>\n",
       "  <tbody>\n",
       "    <tr>\n",
       "      <th>0</th>\n",
       "      <td>I liked it.</td>\n",
       "      <td>Pretty good.</td>\n",
       "    </tr>\n",
       "    <tr>\n",
       "      <th>1</th>\n",
       "      <td>It was awful.</td>\n",
       "      <td>Bland.</td>\n",
       "    </tr>\n",
       "  </tbody>\n",
       "</table>\n",
       "</div>"
      ],
      "text/plain": [
       "             Bob           Sue\n",
       "0    I liked it.  Pretty good.\n",
       "1  It was awful.        Bland."
      ]
     },
     "execution_count": 3,
     "metadata": {},
     "output_type": "execute_result"
    }
   ],
   "source": [
    "pd.DataFrame({\n",
    "    'Bob': ['I liked it.', 'It was awful.'], \n",
    "    'Sue': ['Pretty good.', 'Bland.']\n",
    "})"
   ]
  },
  {
   "cell_type": "markdown",
   "id": "bf0a98c2",
   "metadata": {
    "_cell_guid": "3e8410a6-0ae3-456a-a8b3-ddc63659d728",
    "_uuid": "f92245b6-1ad6-452c-9494-40c89eb00ade",
    "papermill": {
     "duration": 0.021963,
     "end_time": "2022-05-24T19:02:30.739179",
     "exception": false,
     "start_time": "2022-05-24T19:02:30.717216",
     "status": "completed"
    },
    "tags": []
   },
   "source": [
    "Default index are numbers (0, 1, 2, 3). It can be modified using `index=['First roll', 'Second roll']` parameter in the constructor"
   ]
  },
  {
   "cell_type": "code",
   "execution_count": 4,
   "id": "c55f8bef",
   "metadata": {
    "_cell_guid": "c532667b-5fd1-4f82-9b7d-1b20ec78b90c",
    "_uuid": "8384ef3c-ad6e-4d67-a4ca-34ec0c2aa756",
    "collapsed": false,
    "execution": {
     "iopub.execute_input": "2022-05-24T19:02:30.780497Z",
     "iopub.status.busy": "2022-05-24T19:02:30.779570Z",
     "iopub.status.idle": "2022-05-24T19:02:30.790893Z",
     "shell.execute_reply": "2022-05-24T19:02:30.790053Z"
    },
    "jupyter": {
     "outputs_hidden": false
    },
    "papermill": {
     "duration": 0.03415,
     "end_time": "2022-05-24T19:02:30.793327",
     "exception": false,
     "start_time": "2022-05-24T19:02:30.759177",
     "status": "completed"
    },
    "tags": []
   },
   "outputs": [
    {
     "data": {
      "text/html": [
       "<div>\n",
       "<style scoped>\n",
       "    .dataframe tbody tr th:only-of-type {\n",
       "        vertical-align: middle;\n",
       "    }\n",
       "\n",
       "    .dataframe tbody tr th {\n",
       "        vertical-align: top;\n",
       "    }\n",
       "\n",
       "    .dataframe thead th {\n",
       "        text-align: right;\n",
       "    }\n",
       "</style>\n",
       "<table border=\"1\" class=\"dataframe\">\n",
       "  <thead>\n",
       "    <tr style=\"text-align: right;\">\n",
       "      <th></th>\n",
       "      <th>Bob</th>\n",
       "      <th>Sue</th>\n",
       "    </tr>\n",
       "  </thead>\n",
       "  <tbody>\n",
       "    <tr>\n",
       "      <th>Product A</th>\n",
       "      <td>I like it.</td>\n",
       "      <td>Pretty good.</td>\n",
       "    </tr>\n",
       "    <tr>\n",
       "      <th>Product B</th>\n",
       "      <td>It was awful.</td>\n",
       "      <td>Bland.</td>\n",
       "    </tr>\n",
       "  </tbody>\n",
       "</table>\n",
       "</div>"
      ],
      "text/plain": [
       "                     Bob           Sue\n",
       "Product A     I like it.  Pretty good.\n",
       "Product B  It was awful.        Bland."
      ]
     },
     "execution_count": 4,
     "metadata": {},
     "output_type": "execute_result"
    }
   ],
   "source": [
    "pd.DataFrame({\n",
    "    'Bob': ['I like it.', 'It was awful.'],\n",
    "    'Sue': ['Pretty good.', 'Bland.'],\n",
    "}, index=['Product A', 'Product B'])"
   ]
  },
  {
   "cell_type": "markdown",
   "id": "e8bfec6f",
   "metadata": {
    "_cell_guid": "9595bc9c-d884-4eef-ae6f-fbab20b26cce",
    "_uuid": "0048eb9f-1edc-4431-b034-cc8fd75df416",
    "papermill": {
     "duration": 0.023244,
     "end_time": "2022-05-24T19:02:30.836821",
     "exception": false,
     "start_time": "2022-05-24T19:02:30.813577",
     "status": "completed"
    },
    "tags": []
   },
   "source": [
    "### Series\n",
    "* It's a sequence of data values\n",
    "* Just have a single column"
   ]
  },
  {
   "cell_type": "code",
   "execution_count": 5,
   "id": "7ff19745",
   "metadata": {
    "_cell_guid": "ba2bc4a9-7212-4db6-a4dc-8e9d5744aebb",
    "_uuid": "ca849c58-0981-4635-a105-827a9e2881d8",
    "collapsed": false,
    "execution": {
     "iopub.execute_input": "2022-05-24T19:02:30.879348Z",
     "iopub.status.busy": "2022-05-24T19:02:30.879040Z",
     "iopub.status.idle": "2022-05-24T19:02:30.886155Z",
     "shell.execute_reply": "2022-05-24T19:02:30.885276Z"
    },
    "jupyter": {
     "outputs_hidden": false
    },
    "papermill": {
     "duration": 0.030375,
     "end_time": "2022-05-24T19:02:30.888358",
     "exception": false,
     "start_time": "2022-05-24T19:02:30.857983",
     "status": "completed"
    },
    "tags": []
   },
   "outputs": [
    {
     "data": {
      "text/plain": [
       "0    1\n",
       "1    2\n",
       "2    3\n",
       "3    4\n",
       "4    5\n",
       "dtype: int64"
      ]
     },
     "execution_count": 5,
     "metadata": {},
     "output_type": "execute_result"
    }
   ],
   "source": [
    "pd.Series([i for i in range(1, 6)])"
   ]
  },
  {
   "cell_type": "markdown",
   "id": "d3fca5b0",
   "metadata": {
    "_cell_guid": "45dba734-13a5-42f0-9213-7e224c111289",
    "_uuid": "5d007404-9ed8-4084-aa79-5223069c5067",
    "papermill": {
     "duration": 0.019796,
     "end_time": "2022-05-24T19:02:30.929581",
     "exception": false,
     "start_time": "2022-05-24T19:02:30.909785",
     "status": "completed"
    },
    "tags": []
   },
   "source": [
    "Adding more parameters to a pandas series"
   ]
  },
  {
   "cell_type": "code",
   "execution_count": 6,
   "id": "50927dc1",
   "metadata": {
    "_cell_guid": "4134aace-5f42-4fe4-9913-03f064c5d290",
    "_uuid": "0fc213cb-8d72-417b-944c-850b58f86fe3",
    "collapsed": false,
    "execution": {
     "iopub.execute_input": "2022-05-24T19:02:30.973412Z",
     "iopub.status.busy": "2022-05-24T19:02:30.973116Z",
     "iopub.status.idle": "2022-05-24T19:02:30.981296Z",
     "shell.execute_reply": "2022-05-24T19:02:30.980613Z"
    },
    "jupyter": {
     "outputs_hidden": false
    },
    "papermill": {
     "duration": 0.033403,
     "end_time": "2022-05-24T19:02:30.983648",
     "exception": false,
     "start_time": "2022-05-24T19:02:30.950245",
     "status": "completed"
    },
    "tags": []
   },
   "outputs": [
    {
     "data": {
      "text/plain": [
       "2015 Sales    30\n",
       "2016 Sales    35\n",
       "2017 Sales    40\n",
       "Name: Product A, dtype: int64"
      ]
     },
     "execution_count": 6,
     "metadata": {},
     "output_type": "execute_result"
    }
   ],
   "source": [
    "pd.Series(\n",
    "    [30, 35, 40], \n",
    "    index=['2015 Sales', '2016 Sales', '2017 Sales'],\n",
    "    name='Product A'\n",
    ")"
   ]
  },
  {
   "cell_type": "markdown",
   "id": "f32950b2",
   "metadata": {
    "_cell_guid": "fa38217d-4337-4a38-bff3-94b2f1e898b0",
    "_uuid": "fb65405f-9d38-42d4-8adb-778ca58ce359",
    "papermill": {
     "duration": 0.020398,
     "end_time": "2022-05-24T19:02:31.024656",
     "exception": false,
     "start_time": "2022-05-24T19:02:31.004258",
     "status": "completed"
    },
    "tags": []
   },
   "source": [
    "* Data Frames and Series are related\n",
    "* Think of a DataFrame as actually being just a bunch of Series \"glued together\""
   ]
  },
  {
   "cell_type": "markdown",
   "id": "cb1f7c97",
   "metadata": {
    "_cell_guid": "ec5255ce-4353-49c4-b0a4-26d35f9b5d17",
    "_uuid": "7cf7a7de-1957-483e-84c3-160527a4c7f5",
    "papermill": {
     "duration": 0.02273,
     "end_time": "2022-05-24T19:02:31.068238",
     "exception": false,
     "start_time": "2022-05-24T19:02:31.045508",
     "status": "completed"
    },
    "tags": []
   },
   "source": [
    "## Reading files"
   ]
  },
  {
   "cell_type": "code",
   "execution_count": 7,
   "id": "a00065a0",
   "metadata": {
    "_cell_guid": "8cc712b0-c68b-4714-8bdd-0999d3fa45ab",
    "_uuid": "dc983e36-30d3-498b-8f71-a1b8e088509d",
    "collapsed": false,
    "execution": {
     "iopub.execute_input": "2022-05-24T19:02:31.114492Z",
     "iopub.status.busy": "2022-05-24T19:02:31.113946Z",
     "iopub.status.idle": "2022-05-24T19:02:32.930864Z",
     "shell.execute_reply": "2022-05-24T19:02:32.929741Z"
    },
    "jupyter": {
     "outputs_hidden": false
    },
    "papermill": {
     "duration": 1.843749,
     "end_time": "2022-05-24T19:02:32.934178",
     "exception": false,
     "start_time": "2022-05-24T19:02:31.090429",
     "status": "completed"
    },
    "tags": []
   },
   "outputs": [],
   "source": [
    "wine_reviews = pd.read_csv('../input/wine-reviews/winemag-data-130k-v2.csv')"
   ]
  },
  {
   "cell_type": "markdown",
   "id": "82eef705",
   "metadata": {
    "_cell_guid": "9641080c-24dc-425a-9225-3239d97a055d",
    "_uuid": "4670cc13-fe2b-4c69-ae64-70a9d66d3f53",
    "papermill": {
     "duration": 0.021144,
     "end_time": "2022-05-24T19:02:32.976299",
     "exception": false,
     "start_time": "2022-05-24T19:02:32.955155",
     "status": "completed"
    },
    "tags": []
   },
   "source": [
    "Looking at the first 5 rows"
   ]
  },
  {
   "cell_type": "code",
   "execution_count": 8,
   "id": "fe1e7d71",
   "metadata": {
    "_cell_guid": "437ebae1-4c71-414b-8cf8-7f6def8df652",
    "_uuid": "da33a922-7f3a-449a-a148-4a55feaf6d33",
    "collapsed": false,
    "execution": {
     "iopub.execute_input": "2022-05-24T19:02:33.021607Z",
     "iopub.status.busy": "2022-05-24T19:02:33.021291Z",
     "iopub.status.idle": "2022-05-24T19:02:33.041977Z",
     "shell.execute_reply": "2022-05-24T19:02:33.041118Z"
    },
    "jupyter": {
     "outputs_hidden": false
    },
    "papermill": {
     "duration": 0.045691,
     "end_time": "2022-05-24T19:02:33.044215",
     "exception": false,
     "start_time": "2022-05-24T19:02:32.998524",
     "status": "completed"
    },
    "tags": []
   },
   "outputs": [
    {
     "data": {
      "text/html": [
       "<div>\n",
       "<style scoped>\n",
       "    .dataframe tbody tr th:only-of-type {\n",
       "        vertical-align: middle;\n",
       "    }\n",
       "\n",
       "    .dataframe tbody tr th {\n",
       "        vertical-align: top;\n",
       "    }\n",
       "\n",
       "    .dataframe thead th {\n",
       "        text-align: right;\n",
       "    }\n",
       "</style>\n",
       "<table border=\"1\" class=\"dataframe\">\n",
       "  <thead>\n",
       "    <tr style=\"text-align: right;\">\n",
       "      <th></th>\n",
       "      <th>Unnamed: 0</th>\n",
       "      <th>country</th>\n",
       "      <th>description</th>\n",
       "      <th>designation</th>\n",
       "      <th>points</th>\n",
       "      <th>price</th>\n",
       "      <th>province</th>\n",
       "      <th>region_1</th>\n",
       "      <th>region_2</th>\n",
       "      <th>taster_name</th>\n",
       "      <th>taster_twitter_handle</th>\n",
       "      <th>title</th>\n",
       "      <th>variety</th>\n",
       "      <th>winery</th>\n",
       "    </tr>\n",
       "  </thead>\n",
       "  <tbody>\n",
       "    <tr>\n",
       "      <th>0</th>\n",
       "      <td>0</td>\n",
       "      <td>Italy</td>\n",
       "      <td>Aromas include tropical fruit, broom, brimston...</td>\n",
       "      <td>Vulkà Bianco</td>\n",
       "      <td>87</td>\n",
       "      <td>NaN</td>\n",
       "      <td>Sicily &amp; Sardinia</td>\n",
       "      <td>Etna</td>\n",
       "      <td>NaN</td>\n",
       "      <td>Kerin O’Keefe</td>\n",
       "      <td>@kerinokeefe</td>\n",
       "      <td>Nicosia 2013 Vulkà Bianco  (Etna)</td>\n",
       "      <td>White Blend</td>\n",
       "      <td>Nicosia</td>\n",
       "    </tr>\n",
       "    <tr>\n",
       "      <th>1</th>\n",
       "      <td>1</td>\n",
       "      <td>Portugal</td>\n",
       "      <td>This is ripe and fruity, a wine that is smooth...</td>\n",
       "      <td>Avidagos</td>\n",
       "      <td>87</td>\n",
       "      <td>15.0</td>\n",
       "      <td>Douro</td>\n",
       "      <td>NaN</td>\n",
       "      <td>NaN</td>\n",
       "      <td>Roger Voss</td>\n",
       "      <td>@vossroger</td>\n",
       "      <td>Quinta dos Avidagos 2011 Avidagos Red (Douro)</td>\n",
       "      <td>Portuguese Red</td>\n",
       "      <td>Quinta dos Avidagos</td>\n",
       "    </tr>\n",
       "    <tr>\n",
       "      <th>2</th>\n",
       "      <td>2</td>\n",
       "      <td>US</td>\n",
       "      <td>Tart and snappy, the flavors of lime flesh and...</td>\n",
       "      <td>NaN</td>\n",
       "      <td>87</td>\n",
       "      <td>14.0</td>\n",
       "      <td>Oregon</td>\n",
       "      <td>Willamette Valley</td>\n",
       "      <td>Willamette Valley</td>\n",
       "      <td>Paul Gregutt</td>\n",
       "      <td>@paulgwine</td>\n",
       "      <td>Rainstorm 2013 Pinot Gris (Willamette Valley)</td>\n",
       "      <td>Pinot Gris</td>\n",
       "      <td>Rainstorm</td>\n",
       "    </tr>\n",
       "    <tr>\n",
       "      <th>3</th>\n",
       "      <td>3</td>\n",
       "      <td>US</td>\n",
       "      <td>Pineapple rind, lemon pith and orange blossom ...</td>\n",
       "      <td>Reserve Late Harvest</td>\n",
       "      <td>87</td>\n",
       "      <td>13.0</td>\n",
       "      <td>Michigan</td>\n",
       "      <td>Lake Michigan Shore</td>\n",
       "      <td>NaN</td>\n",
       "      <td>Alexander Peartree</td>\n",
       "      <td>NaN</td>\n",
       "      <td>St. Julian 2013 Reserve Late Harvest Riesling ...</td>\n",
       "      <td>Riesling</td>\n",
       "      <td>St. Julian</td>\n",
       "    </tr>\n",
       "    <tr>\n",
       "      <th>4</th>\n",
       "      <td>4</td>\n",
       "      <td>US</td>\n",
       "      <td>Much like the regular bottling from 2012, this...</td>\n",
       "      <td>Vintner's Reserve Wild Child Block</td>\n",
       "      <td>87</td>\n",
       "      <td>65.0</td>\n",
       "      <td>Oregon</td>\n",
       "      <td>Willamette Valley</td>\n",
       "      <td>Willamette Valley</td>\n",
       "      <td>Paul Gregutt</td>\n",
       "      <td>@paulgwine</td>\n",
       "      <td>Sweet Cheeks 2012 Vintner's Reserve Wild Child...</td>\n",
       "      <td>Pinot Noir</td>\n",
       "      <td>Sweet Cheeks</td>\n",
       "    </tr>\n",
       "  </tbody>\n",
       "</table>\n",
       "</div>"
      ],
      "text/plain": [
       "   Unnamed: 0   country                                        description  \\\n",
       "0           0     Italy  Aromas include tropical fruit, broom, brimston...   \n",
       "1           1  Portugal  This is ripe and fruity, a wine that is smooth...   \n",
       "2           2        US  Tart and snappy, the flavors of lime flesh and...   \n",
       "3           3        US  Pineapple rind, lemon pith and orange blossom ...   \n",
       "4           4        US  Much like the regular bottling from 2012, this...   \n",
       "\n",
       "                          designation  points  price           province  \\\n",
       "0                        Vulkà Bianco      87    NaN  Sicily & Sardinia   \n",
       "1                            Avidagos      87   15.0              Douro   \n",
       "2                                 NaN      87   14.0             Oregon   \n",
       "3                Reserve Late Harvest      87   13.0           Michigan   \n",
       "4  Vintner's Reserve Wild Child Block      87   65.0             Oregon   \n",
       "\n",
       "              region_1           region_2         taster_name  \\\n",
       "0                 Etna                NaN       Kerin O’Keefe   \n",
       "1                  NaN                NaN          Roger Voss   \n",
       "2    Willamette Valley  Willamette Valley        Paul Gregutt   \n",
       "3  Lake Michigan Shore                NaN  Alexander Peartree   \n",
       "4    Willamette Valley  Willamette Valley        Paul Gregutt   \n",
       "\n",
       "  taster_twitter_handle                                              title  \\\n",
       "0          @kerinokeefe                  Nicosia 2013 Vulkà Bianco  (Etna)   \n",
       "1            @vossroger      Quinta dos Avidagos 2011 Avidagos Red (Douro)   \n",
       "2           @paulgwine       Rainstorm 2013 Pinot Gris (Willamette Valley)   \n",
       "3                   NaN  St. Julian 2013 Reserve Late Harvest Riesling ...   \n",
       "4           @paulgwine   Sweet Cheeks 2012 Vintner's Reserve Wild Child...   \n",
       "\n",
       "          variety               winery  \n",
       "0     White Blend              Nicosia  \n",
       "1  Portuguese Red  Quinta dos Avidagos  \n",
       "2      Pinot Gris            Rainstorm  \n",
       "3        Riesling           St. Julian  \n",
       "4      Pinot Noir         Sweet Cheeks  "
      ]
     },
     "execution_count": 8,
     "metadata": {},
     "output_type": "execute_result"
    }
   ],
   "source": [
    "wine_reviews.head()"
   ]
  },
  {
   "cell_type": "markdown",
   "id": "9154ceb6",
   "metadata": {
    "papermill": {
     "duration": 0.021977,
     "end_time": "2022-05-24T19:02:33.091314",
     "exception": false,
     "start_time": "2022-05-24T19:02:33.069337",
     "status": "completed"
    },
    "tags": []
   },
   "source": [
    "Check how many columns and lines there are in the dataset"
   ]
  },
  {
   "cell_type": "code",
   "execution_count": 9,
   "id": "b0329759",
   "metadata": {
    "_cell_guid": "a6c269f8-a8a5-4911-b75b-294cd5b770ba",
    "_uuid": "2f91ac88-9ea7-4370-829d-f3eb146f7d1d",
    "collapsed": false,
    "execution": {
     "iopub.execute_input": "2022-05-24T19:02:33.141226Z",
     "iopub.status.busy": "2022-05-24T19:02:33.140412Z",
     "iopub.status.idle": "2022-05-24T19:02:33.146982Z",
     "shell.execute_reply": "2022-05-24T19:02:33.145764Z"
    },
    "jupyter": {
     "outputs_hidden": false
    },
    "papermill": {
     "duration": 0.034052,
     "end_time": "2022-05-24T19:02:33.149534",
     "exception": false,
     "start_time": "2022-05-24T19:02:33.115482",
     "status": "completed"
    },
    "tags": []
   },
   "outputs": [
    {
     "data": {
      "text/plain": [
       "(129971, 14)"
      ]
     },
     "execution_count": 9,
     "metadata": {},
     "output_type": "execute_result"
    }
   ],
   "source": [
    "wine_reviews.shape"
   ]
  },
  {
   "cell_type": "code",
   "execution_count": 10,
   "id": "061fa17e",
   "metadata": {
    "execution": {
     "iopub.execute_input": "2022-05-24T19:02:33.197588Z",
     "iopub.status.busy": "2022-05-24T19:02:33.197315Z",
     "iopub.status.idle": "2022-05-24T19:02:34.337907Z",
     "shell.execute_reply": "2022-05-24T19:02:34.337260Z"
    },
    "papermill": {
     "duration": 1.167932,
     "end_time": "2022-05-24T19:02:34.340150",
     "exception": false,
     "start_time": "2022-05-24T19:02:33.172218",
     "status": "completed"
    },
    "tags": []
   },
   "outputs": [
    {
     "data": {
      "text/html": [
       "<div>\n",
       "<style scoped>\n",
       "    .dataframe tbody tr th:only-of-type {\n",
       "        vertical-align: middle;\n",
       "    }\n",
       "\n",
       "    .dataframe tbody tr th {\n",
       "        vertical-align: top;\n",
       "    }\n",
       "\n",
       "    .dataframe thead th {\n",
       "        text-align: right;\n",
       "    }\n",
       "</style>\n",
       "<table border=\"1\" class=\"dataframe\">\n",
       "  <thead>\n",
       "    <tr style=\"text-align: right;\">\n",
       "      <th></th>\n",
       "      <th>country</th>\n",
       "      <th>description</th>\n",
       "      <th>designation</th>\n",
       "      <th>points</th>\n",
       "      <th>price</th>\n",
       "      <th>province</th>\n",
       "      <th>region_1</th>\n",
       "      <th>region_2</th>\n",
       "      <th>taster_name</th>\n",
       "      <th>taster_twitter_handle</th>\n",
       "      <th>title</th>\n",
       "      <th>variety</th>\n",
       "      <th>winery</th>\n",
       "    </tr>\n",
       "  </thead>\n",
       "  <tbody>\n",
       "    <tr>\n",
       "      <th>0</th>\n",
       "      <td>Italy</td>\n",
       "      <td>Aromas include tropical fruit, broom, brimston...</td>\n",
       "      <td>Vulkà Bianco</td>\n",
       "      <td>87</td>\n",
       "      <td>NaN</td>\n",
       "      <td>Sicily &amp; Sardinia</td>\n",
       "      <td>Etna</td>\n",
       "      <td>NaN</td>\n",
       "      <td>Kerin O’Keefe</td>\n",
       "      <td>@kerinokeefe</td>\n",
       "      <td>Nicosia 2013 Vulkà Bianco  (Etna)</td>\n",
       "      <td>White Blend</td>\n",
       "      <td>Nicosia</td>\n",
       "    </tr>\n",
       "    <tr>\n",
       "      <th>1</th>\n",
       "      <td>Portugal</td>\n",
       "      <td>This is ripe and fruity, a wine that is smooth...</td>\n",
       "      <td>Avidagos</td>\n",
       "      <td>87</td>\n",
       "      <td>15.0</td>\n",
       "      <td>Douro</td>\n",
       "      <td>NaN</td>\n",
       "      <td>NaN</td>\n",
       "      <td>Roger Voss</td>\n",
       "      <td>@vossroger</td>\n",
       "      <td>Quinta dos Avidagos 2011 Avidagos Red (Douro)</td>\n",
       "      <td>Portuguese Red</td>\n",
       "      <td>Quinta dos Avidagos</td>\n",
       "    </tr>\n",
       "    <tr>\n",
       "      <th>2</th>\n",
       "      <td>US</td>\n",
       "      <td>Tart and snappy, the flavors of lime flesh and...</td>\n",
       "      <td>NaN</td>\n",
       "      <td>87</td>\n",
       "      <td>14.0</td>\n",
       "      <td>Oregon</td>\n",
       "      <td>Willamette Valley</td>\n",
       "      <td>Willamette Valley</td>\n",
       "      <td>Paul Gregutt</td>\n",
       "      <td>@paulgwine</td>\n",
       "      <td>Rainstorm 2013 Pinot Gris (Willamette Valley)</td>\n",
       "      <td>Pinot Gris</td>\n",
       "      <td>Rainstorm</td>\n",
       "    </tr>\n",
       "    <tr>\n",
       "      <th>3</th>\n",
       "      <td>US</td>\n",
       "      <td>Pineapple rind, lemon pith and orange blossom ...</td>\n",
       "      <td>Reserve Late Harvest</td>\n",
       "      <td>87</td>\n",
       "      <td>13.0</td>\n",
       "      <td>Michigan</td>\n",
       "      <td>Lake Michigan Shore</td>\n",
       "      <td>NaN</td>\n",
       "      <td>Alexander Peartree</td>\n",
       "      <td>NaN</td>\n",
       "      <td>St. Julian 2013 Reserve Late Harvest Riesling ...</td>\n",
       "      <td>Riesling</td>\n",
       "      <td>St. Julian</td>\n",
       "    </tr>\n",
       "    <tr>\n",
       "      <th>4</th>\n",
       "      <td>US</td>\n",
       "      <td>Much like the regular bottling from 2012, this...</td>\n",
       "      <td>Vintner's Reserve Wild Child Block</td>\n",
       "      <td>87</td>\n",
       "      <td>65.0</td>\n",
       "      <td>Oregon</td>\n",
       "      <td>Willamette Valley</td>\n",
       "      <td>Willamette Valley</td>\n",
       "      <td>Paul Gregutt</td>\n",
       "      <td>@paulgwine</td>\n",
       "      <td>Sweet Cheeks 2012 Vintner's Reserve Wild Child...</td>\n",
       "      <td>Pinot Noir</td>\n",
       "      <td>Sweet Cheeks</td>\n",
       "    </tr>\n",
       "  </tbody>\n",
       "</table>\n",
       "</div>"
      ],
      "text/plain": [
       "    country                                        description  \\\n",
       "0     Italy  Aromas include tropical fruit, broom, brimston...   \n",
       "1  Portugal  This is ripe and fruity, a wine that is smooth...   \n",
       "2        US  Tart and snappy, the flavors of lime flesh and...   \n",
       "3        US  Pineapple rind, lemon pith and orange blossom ...   \n",
       "4        US  Much like the regular bottling from 2012, this...   \n",
       "\n",
       "                          designation  points  price           province  \\\n",
       "0                        Vulkà Bianco      87    NaN  Sicily & Sardinia   \n",
       "1                            Avidagos      87   15.0              Douro   \n",
       "2                                 NaN      87   14.0             Oregon   \n",
       "3                Reserve Late Harvest      87   13.0           Michigan   \n",
       "4  Vintner's Reserve Wild Child Block      87   65.0             Oregon   \n",
       "\n",
       "              region_1           region_2         taster_name  \\\n",
       "0                 Etna                NaN       Kerin O’Keefe   \n",
       "1                  NaN                NaN          Roger Voss   \n",
       "2    Willamette Valley  Willamette Valley        Paul Gregutt   \n",
       "3  Lake Michigan Shore                NaN  Alexander Peartree   \n",
       "4    Willamette Valley  Willamette Valley        Paul Gregutt   \n",
       "\n",
       "  taster_twitter_handle                                              title  \\\n",
       "0          @kerinokeefe                  Nicosia 2013 Vulkà Bianco  (Etna)   \n",
       "1            @vossroger      Quinta dos Avidagos 2011 Avidagos Red (Douro)   \n",
       "2           @paulgwine       Rainstorm 2013 Pinot Gris (Willamette Valley)   \n",
       "3                   NaN  St. Julian 2013 Reserve Late Harvest Riesling ...   \n",
       "4           @paulgwine   Sweet Cheeks 2012 Vintner's Reserve Wild Child...   \n",
       "\n",
       "          variety               winery  \n",
       "0     White Blend              Nicosia  \n",
       "1  Portuguese Red  Quinta dos Avidagos  \n",
       "2      Pinot Gris            Rainstorm  \n",
       "3        Riesling           St. Julian  \n",
       "4      Pinot Noir         Sweet Cheeks  "
      ]
     },
     "execution_count": 10,
     "metadata": {},
     "output_type": "execute_result"
    }
   ],
   "source": [
    "wine_reviews = pd.read_csv('../input/wine-reviews/winemag-data-130k-v2.csv', index_col=0)\n",
    "wine_reviews.head()"
   ]
  }
 ],
 "metadata": {
  "kernelspec": {
   "display_name": "Python 3",
   "language": "python",
   "name": "python3"
  },
  "language_info": {
   "codemirror_mode": {
    "name": "ipython",
    "version": 3
   },
   "file_extension": ".py",
   "mimetype": "text/x-python",
   "name": "python",
   "nbconvert_exporter": "python",
   "pygments_lexer": "ipython3",
   "version": "3.7.12"
  },
  "papermill": {
   "default_parameters": {},
   "duration": 16.581054,
   "end_time": "2022-05-24T19:02:35.084592",
   "environment_variables": {},
   "exception": null,
   "input_path": "__notebook__.ipynb",
   "output_path": "__notebook__.ipynb",
   "parameters": {},
   "start_time": "2022-05-24T19:02:18.503538",
   "version": "2.3.4"
  }
 },
 "nbformat": 4,
 "nbformat_minor": 5
}
