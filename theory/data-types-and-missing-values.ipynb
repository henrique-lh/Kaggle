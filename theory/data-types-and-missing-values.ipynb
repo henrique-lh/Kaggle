{
 "cells": [
  {
   "cell_type": "markdown",
   "id": "ba26aa90",
   "metadata": {
    "papermill": {
     "duration": 0.005908,
     "end_time": "2022-09-13T00:01:01.240686",
     "exception": false,
     "start_time": "2022-09-13T00:01:01.234778",
     "status": "completed"
    },
    "tags": []
   },
   "source": [
    "# Introduction\n",
    "\n",
    "As studied before, there are a lot of data types in column. Let's explore it!\n",
    "\n",
    "The type of a column in a Serie or DataFrame is called **dtype**. To visualize the dtype, we can use the `dtype` property"
   ]
  },
  {
   "cell_type": "code",
   "execution_count": 1,
   "id": "9b25803c",
   "metadata": {
    "execution": {
     "iopub.execute_input": "2022-09-13T00:01:01.258355Z",
     "iopub.status.busy": "2022-09-13T00:01:01.257512Z",
     "iopub.status.idle": "2022-09-13T00:01:03.447705Z",
     "shell.execute_reply": "2022-09-13T00:01:03.445705Z"
    },
    "papermill": {
     "duration": 2.204521,
     "end_time": "2022-09-13T00:01:03.451463",
     "exception": false,
     "start_time": "2022-09-13T00:01:01.246942",
     "status": "completed"
    },
    "tags": []
   },
   "outputs": [],
   "source": [
    "import pandas as pd\n",
    "reviews = pd.read_csv('../input/wine-reviews/winemag-data-130k-v2.csv', index_col=0)\n",
    "pd.set_option('max_rows', 5)"
   ]
  },
  {
   "cell_type": "code",
   "execution_count": 2,
   "id": "41a9726e",
   "metadata": {
    "execution": {
     "iopub.execute_input": "2022-09-13T00:01:03.463809Z",
     "iopub.status.busy": "2022-09-13T00:01:03.461686Z",
     "iopub.status.idle": "2022-09-13T00:01:03.495551Z",
     "shell.execute_reply": "2022-09-13T00:01:03.493315Z"
    },
    "papermill": {
     "duration": 0.043114,
     "end_time": "2022-09-13T00:01:03.499016",
     "exception": false,
     "start_time": "2022-09-13T00:01:03.455902",
     "status": "completed"
    },
    "tags": []
   },
   "outputs": [
    {
     "data": {
      "text/html": [
       "<div>\n",
       "<style scoped>\n",
       "    .dataframe tbody tr th:only-of-type {\n",
       "        vertical-align: middle;\n",
       "    }\n",
       "\n",
       "    .dataframe tbody tr th {\n",
       "        vertical-align: top;\n",
       "    }\n",
       "\n",
       "    .dataframe thead th {\n",
       "        text-align: right;\n",
       "    }\n",
       "</style>\n",
       "<table border=\"1\" class=\"dataframe\">\n",
       "  <thead>\n",
       "    <tr style=\"text-align: right;\">\n",
       "      <th></th>\n",
       "      <th>country</th>\n",
       "      <th>description</th>\n",
       "      <th>designation</th>\n",
       "      <th>points</th>\n",
       "      <th>price</th>\n",
       "      <th>province</th>\n",
       "      <th>region_1</th>\n",
       "      <th>region_2</th>\n",
       "      <th>taster_name</th>\n",
       "      <th>taster_twitter_handle</th>\n",
       "      <th>title</th>\n",
       "      <th>variety</th>\n",
       "      <th>winery</th>\n",
       "    </tr>\n",
       "  </thead>\n",
       "  <tbody>\n",
       "    <tr>\n",
       "      <th>0</th>\n",
       "      <td>Italy</td>\n",
       "      <td>Aromas include tropical fruit, broom, brimston...</td>\n",
       "      <td>Vulkà Bianco</td>\n",
       "      <td>87</td>\n",
       "      <td>NaN</td>\n",
       "      <td>Sicily &amp; Sardinia</td>\n",
       "      <td>Etna</td>\n",
       "      <td>NaN</td>\n",
       "      <td>Kerin O’Keefe</td>\n",
       "      <td>@kerinokeefe</td>\n",
       "      <td>Nicosia 2013 Vulkà Bianco  (Etna)</td>\n",
       "      <td>White Blend</td>\n",
       "      <td>Nicosia</td>\n",
       "    </tr>\n",
       "    <tr>\n",
       "      <th>1</th>\n",
       "      <td>Portugal</td>\n",
       "      <td>This is ripe and fruity, a wine that is smooth...</td>\n",
       "      <td>Avidagos</td>\n",
       "      <td>87</td>\n",
       "      <td>15.0</td>\n",
       "      <td>Douro</td>\n",
       "      <td>NaN</td>\n",
       "      <td>NaN</td>\n",
       "      <td>Roger Voss</td>\n",
       "      <td>@vossroger</td>\n",
       "      <td>Quinta dos Avidagos 2011 Avidagos Red (Douro)</td>\n",
       "      <td>Portuguese Red</td>\n",
       "      <td>Quinta dos Avidagos</td>\n",
       "    </tr>\n",
       "    <tr>\n",
       "      <th>...</th>\n",
       "      <td>...</td>\n",
       "      <td>...</td>\n",
       "      <td>...</td>\n",
       "      <td>...</td>\n",
       "      <td>...</td>\n",
       "      <td>...</td>\n",
       "      <td>...</td>\n",
       "      <td>...</td>\n",
       "      <td>...</td>\n",
       "      <td>...</td>\n",
       "      <td>...</td>\n",
       "      <td>...</td>\n",
       "      <td>...</td>\n",
       "    </tr>\n",
       "    <tr>\n",
       "      <th>129969</th>\n",
       "      <td>France</td>\n",
       "      <td>A dry style of Pinot Gris, this is crisp with ...</td>\n",
       "      <td>NaN</td>\n",
       "      <td>90</td>\n",
       "      <td>32.0</td>\n",
       "      <td>Alsace</td>\n",
       "      <td>Alsace</td>\n",
       "      <td>NaN</td>\n",
       "      <td>Roger Voss</td>\n",
       "      <td>@vossroger</td>\n",
       "      <td>Domaine Marcel Deiss 2012 Pinot Gris (Alsace)</td>\n",
       "      <td>Pinot Gris</td>\n",
       "      <td>Domaine Marcel Deiss</td>\n",
       "    </tr>\n",
       "    <tr>\n",
       "      <th>129970</th>\n",
       "      <td>France</td>\n",
       "      <td>Big, rich and off-dry, this is powered by inte...</td>\n",
       "      <td>Lieu-dit Harth Cuvée Caroline</td>\n",
       "      <td>90</td>\n",
       "      <td>21.0</td>\n",
       "      <td>Alsace</td>\n",
       "      <td>Alsace</td>\n",
       "      <td>NaN</td>\n",
       "      <td>Roger Voss</td>\n",
       "      <td>@vossroger</td>\n",
       "      <td>Domaine Schoffit 2012 Lieu-dit Harth Cuvée Car...</td>\n",
       "      <td>Gewürztraminer</td>\n",
       "      <td>Domaine Schoffit</td>\n",
       "    </tr>\n",
       "  </tbody>\n",
       "</table>\n",
       "<p>129971 rows × 13 columns</p>\n",
       "</div>"
      ],
      "text/plain": [
       "         country                                        description  \\\n",
       "0          Italy  Aromas include tropical fruit, broom, brimston...   \n",
       "1       Portugal  This is ripe and fruity, a wine that is smooth...   \n",
       "...          ...                                                ...   \n",
       "129969    France  A dry style of Pinot Gris, this is crisp with ...   \n",
       "129970    France  Big, rich and off-dry, this is powered by inte...   \n",
       "\n",
       "                          designation  points  price           province  \\\n",
       "0                        Vulkà Bianco      87    NaN  Sicily & Sardinia   \n",
       "1                            Avidagos      87   15.0              Douro   \n",
       "...                               ...     ...    ...                ...   \n",
       "129969                            NaN      90   32.0             Alsace   \n",
       "129970  Lieu-dit Harth Cuvée Caroline      90   21.0             Alsace   \n",
       "\n",
       "       region_1 region_2    taster_name taster_twitter_handle  \\\n",
       "0          Etna      NaN  Kerin O’Keefe          @kerinokeefe   \n",
       "1           NaN      NaN     Roger Voss            @vossroger   \n",
       "...         ...      ...            ...                   ...   \n",
       "129969   Alsace      NaN     Roger Voss            @vossroger   \n",
       "129970   Alsace      NaN     Roger Voss            @vossroger   \n",
       "\n",
       "                                                    title         variety  \\\n",
       "0                       Nicosia 2013 Vulkà Bianco  (Etna)     White Blend   \n",
       "1           Quinta dos Avidagos 2011 Avidagos Red (Douro)  Portuguese Red   \n",
       "...                                                   ...             ...   \n",
       "129969      Domaine Marcel Deiss 2012 Pinot Gris (Alsace)      Pinot Gris   \n",
       "129970  Domaine Schoffit 2012 Lieu-dit Harth Cuvée Car...  Gewürztraminer   \n",
       "\n",
       "                      winery  \n",
       "0                    Nicosia  \n",
       "1        Quinta dos Avidagos  \n",
       "...                      ...  \n",
       "129969  Domaine Marcel Deiss  \n",
       "129970      Domaine Schoffit  \n",
       "\n",
       "[129971 rows x 13 columns]"
      ]
     },
     "execution_count": 2,
     "metadata": {},
     "output_type": "execute_result"
    }
   ],
   "source": [
    "reviews"
   ]
  },
  {
   "cell_type": "code",
   "execution_count": 3,
   "id": "f08d14ce",
   "metadata": {
    "execution": {
     "iopub.execute_input": "2022-09-13T00:01:03.510895Z",
     "iopub.status.busy": "2022-09-13T00:01:03.510361Z",
     "iopub.status.idle": "2022-09-13T00:01:03.520750Z",
     "shell.execute_reply": "2022-09-13T00:01:03.519945Z"
    },
    "papermill": {
     "duration": 0.018378,
     "end_time": "2022-09-13T00:01:03.522508",
     "exception": false,
     "start_time": "2022-09-13T00:01:03.504130",
     "status": "completed"
    },
    "tags": []
   },
   "outputs": [
    {
     "data": {
      "text/plain": [
       "dtype('float64')"
      ]
     },
     "execution_count": 3,
     "metadata": {},
     "output_type": "execute_result"
    }
   ],
   "source": [
    "reviews.price.dtype"
   ]
  },
  {
   "cell_type": "markdown",
   "id": "11ca443c",
   "metadata": {
    "papermill": {
     "duration": 0.004465,
     "end_time": "2022-09-13T00:01:03.531975",
     "exception": false,
     "start_time": "2022-09-13T00:01:03.527510",
     "status": "completed"
    },
    "tags": []
   },
   "source": [
    "We can see the dtype of all columns"
   ]
  },
  {
   "cell_type": "code",
   "execution_count": 4,
   "id": "0a5868b4",
   "metadata": {
    "execution": {
     "iopub.execute_input": "2022-09-13T00:01:03.544196Z",
     "iopub.status.busy": "2022-09-13T00:01:03.543647Z",
     "iopub.status.idle": "2022-09-13T00:01:03.554072Z",
     "shell.execute_reply": "2022-09-13T00:01:03.551824Z"
    },
    "papermill": {
     "duration": 0.020055,
     "end_time": "2022-09-13T00:01:03.556740",
     "exception": false,
     "start_time": "2022-09-13T00:01:03.536685",
     "status": "completed"
    },
    "tags": []
   },
   "outputs": [
    {
     "data": {
      "text/plain": [
       "country        object\n",
       "description    object\n",
       "                ...  \n",
       "variety        object\n",
       "winery         object\n",
       "Length: 13, dtype: object"
      ]
     },
     "execution_count": 4,
     "metadata": {},
     "output_type": "execute_result"
    }
   ],
   "source": [
    "reviews.dtypes"
   ]
  },
  {
   "cell_type": "markdown",
   "id": "e34b3e86",
   "metadata": {
    "papermill": {
     "duration": 0.004262,
     "end_time": "2022-09-13T00:01:03.565825",
     "exception": false,
     "start_time": "2022-09-13T00:01:03.561563",
     "status": "completed"
    },
    "tags": []
   },
   "source": [
    "The indexes also have dtype $\\downarrow$"
   ]
  },
  {
   "cell_type": "code",
   "execution_count": 5,
   "id": "47edb43f",
   "metadata": {
    "execution": {
     "iopub.execute_input": "2022-09-13T00:01:03.577401Z",
     "iopub.status.busy": "2022-09-13T00:01:03.576836Z",
     "iopub.status.idle": "2022-09-13T00:01:03.585059Z",
     "shell.execute_reply": "2022-09-13T00:01:03.583333Z"
    },
    "papermill": {
     "duration": 0.01802,
     "end_time": "2022-09-13T00:01:03.588252",
     "exception": false,
     "start_time": "2022-09-13T00:01:03.570232",
     "status": "completed"
    },
    "tags": []
   },
   "outputs": [
    {
     "data": {
      "text/plain": [
       "dtype('int64')"
      ]
     },
     "execution_count": 5,
     "metadata": {},
     "output_type": "execute_result"
    }
   ],
   "source": [
    "reviews.index.dtype"
   ]
  },
  {
   "cell_type": "markdown",
   "id": "6712fc13",
   "metadata": {
    "papermill": {
     "duration": 0.004628,
     "end_time": "2022-09-13T00:01:03.598219",
     "exception": false,
     "start_time": "2022-09-13T00:01:03.593591",
     "status": "completed"
    },
    "tags": []
   },
   "source": [
    "The `dtype` tell us the type and how pandas is storing the data internally. For example, `int64` means we have a column filled with 64-bits integers!\n",
    "\n",
    "Realize that there's `object` dtype. It means a columns filled of strings\n",
    "\n",
    "### But if we want to convert dtypes?\n",
    "\n",
    "It's possible to do it using the `astype()` method. This method take the new dtype as argument and converts the dtype, if it's possible"
   ]
  },
  {
   "cell_type": "code",
   "execution_count": 6,
   "id": "4593db3f",
   "metadata": {
    "execution": {
     "iopub.execute_input": "2022-09-13T00:01:03.610432Z",
     "iopub.status.busy": "2022-09-13T00:01:03.609910Z",
     "iopub.status.idle": "2022-09-13T00:01:03.620298Z",
     "shell.execute_reply": "2022-09-13T00:01:03.619105Z"
    },
    "papermill": {
     "duration": 0.019438,
     "end_time": "2022-09-13T00:01:03.622531",
     "exception": false,
     "start_time": "2022-09-13T00:01:03.603093",
     "status": "completed"
    },
    "tags": []
   },
   "outputs": [
    {
     "data": {
      "text/plain": [
       "0         87.0\n",
       "1         87.0\n",
       "          ... \n",
       "129969    90.0\n",
       "129970    90.0\n",
       "Name: points, Length: 129971, dtype: float64"
      ]
     },
     "execution_count": 6,
     "metadata": {},
     "output_type": "execute_result"
    }
   ],
   "source": [
    "reviews.points.astype('float64')"
   ]
  },
  {
   "cell_type": "markdown",
   "id": "4509414f",
   "metadata": {
    "papermill": {
     "duration": 0.004487,
     "end_time": "2022-09-13T00:01:03.632093",
     "exception": false,
     "start_time": "2022-09-13T00:01:03.627606",
     "status": "completed"
    },
    "tags": []
   },
   "source": [
    "<p style='color:red'>Obs:</p>\n",
    "\n",
    "The `astype` method doesn't change the data!"
   ]
  },
  {
   "cell_type": "code",
   "execution_count": 7,
   "id": "8adc84b8",
   "metadata": {
    "execution": {
     "iopub.execute_input": "2022-09-13T00:01:03.646920Z",
     "iopub.status.busy": "2022-09-13T00:01:03.646437Z",
     "iopub.status.idle": "2022-09-13T00:01:03.653953Z",
     "shell.execute_reply": "2022-09-13T00:01:03.653157Z"
    },
    "papermill": {
     "duration": 0.018442,
     "end_time": "2022-09-13T00:01:03.656589",
     "exception": false,
     "start_time": "2022-09-13T00:01:03.638147",
     "status": "completed"
    },
    "tags": []
   },
   "outputs": [
    {
     "data": {
      "text/plain": [
       "0         87\n",
       "1         87\n",
       "          ..\n",
       "129969    90\n",
       "129970    90\n",
       "Name: points, Length: 129971, dtype: int64"
      ]
     },
     "execution_count": 7,
     "metadata": {},
     "output_type": "execute_result"
    }
   ],
   "source": [
    "reviews.points"
   ]
  },
  {
   "cell_type": "markdown",
   "id": "f2ce5703",
   "metadata": {
    "papermill": {
     "duration": 0.005125,
     "end_time": "2022-09-13T00:01:03.667095",
     "exception": false,
     "start_time": "2022-09-13T00:01:03.661970",
     "status": "completed"
    },
    "tags": []
   },
   "source": [
    "## Dealing with missing data\n",
    "\n",
    "Missing values are represented as `NaN` (Not a Number). To select the `NaN` valuse, we can use the `pd.isnull()` "
   ]
  },
  {
   "cell_type": "code",
   "execution_count": 8,
   "id": "ca06175d",
   "metadata": {
    "execution": {
     "iopub.execute_input": "2022-09-13T00:01:03.679785Z",
     "iopub.status.busy": "2022-09-13T00:01:03.679259Z",
     "iopub.status.idle": "2022-09-13T00:01:03.708838Z",
     "shell.execute_reply": "2022-09-13T00:01:03.707840Z"
    },
    "papermill": {
     "duration": 0.038675,
     "end_time": "2022-09-13T00:01:03.711077",
     "exception": false,
     "start_time": "2022-09-13T00:01:03.672402",
     "status": "completed"
    },
    "tags": []
   },
   "outputs": [
    {
     "data": {
      "text/html": [
       "<div>\n",
       "<style scoped>\n",
       "    .dataframe tbody tr th:only-of-type {\n",
       "        vertical-align: middle;\n",
       "    }\n",
       "\n",
       "    .dataframe tbody tr th {\n",
       "        vertical-align: top;\n",
       "    }\n",
       "\n",
       "    .dataframe thead th {\n",
       "        text-align: right;\n",
       "    }\n",
       "</style>\n",
       "<table border=\"1\" class=\"dataframe\">\n",
       "  <thead>\n",
       "    <tr style=\"text-align: right;\">\n",
       "      <th></th>\n",
       "      <th>country</th>\n",
       "      <th>description</th>\n",
       "      <th>designation</th>\n",
       "      <th>points</th>\n",
       "      <th>price</th>\n",
       "      <th>province</th>\n",
       "      <th>region_1</th>\n",
       "      <th>region_2</th>\n",
       "      <th>taster_name</th>\n",
       "      <th>taster_twitter_handle</th>\n",
       "      <th>title</th>\n",
       "      <th>variety</th>\n",
       "      <th>winery</th>\n",
       "    </tr>\n",
       "  </thead>\n",
       "  <tbody>\n",
       "    <tr>\n",
       "      <th>913</th>\n",
       "      <td>NaN</td>\n",
       "      <td>Amber in color, this wine has aromas of peach ...</td>\n",
       "      <td>Asureti Valley</td>\n",
       "      <td>87</td>\n",
       "      <td>30.0</td>\n",
       "      <td>NaN</td>\n",
       "      <td>NaN</td>\n",
       "      <td>NaN</td>\n",
       "      <td>Mike DeSimone</td>\n",
       "      <td>@worldwineguys</td>\n",
       "      <td>Gotsa Family Wines 2014 Asureti Valley Chinuri</td>\n",
       "      <td>Chinuri</td>\n",
       "      <td>Gotsa Family Wines</td>\n",
       "    </tr>\n",
       "    <tr>\n",
       "      <th>3131</th>\n",
       "      <td>NaN</td>\n",
       "      <td>Soft, fruity and juicy, this is a pleasant, si...</td>\n",
       "      <td>Partager</td>\n",
       "      <td>83</td>\n",
       "      <td>NaN</td>\n",
       "      <td>NaN</td>\n",
       "      <td>NaN</td>\n",
       "      <td>NaN</td>\n",
       "      <td>Roger Voss</td>\n",
       "      <td>@vossroger</td>\n",
       "      <td>Barton &amp; Guestier NV Partager Red</td>\n",
       "      <td>Red Blend</td>\n",
       "      <td>Barton &amp; Guestier</td>\n",
       "    </tr>\n",
       "    <tr>\n",
       "      <th>...</th>\n",
       "      <td>...</td>\n",
       "      <td>...</td>\n",
       "      <td>...</td>\n",
       "      <td>...</td>\n",
       "      <td>...</td>\n",
       "      <td>...</td>\n",
       "      <td>...</td>\n",
       "      <td>...</td>\n",
       "      <td>...</td>\n",
       "      <td>...</td>\n",
       "      <td>...</td>\n",
       "      <td>...</td>\n",
       "      <td>...</td>\n",
       "    </tr>\n",
       "    <tr>\n",
       "      <th>129590</th>\n",
       "      <td>NaN</td>\n",
       "      <td>A blend of 60% Syrah, 30% Cabernet Sauvignon a...</td>\n",
       "      <td>Shah</td>\n",
       "      <td>90</td>\n",
       "      <td>30.0</td>\n",
       "      <td>NaN</td>\n",
       "      <td>NaN</td>\n",
       "      <td>NaN</td>\n",
       "      <td>Mike DeSimone</td>\n",
       "      <td>@worldwineguys</td>\n",
       "      <td>Büyülübağ 2012 Shah Red</td>\n",
       "      <td>Red Blend</td>\n",
       "      <td>Büyülübağ</td>\n",
       "    </tr>\n",
       "    <tr>\n",
       "      <th>129900</th>\n",
       "      <td>NaN</td>\n",
       "      <td>This wine offers a delightful bouquet of black...</td>\n",
       "      <td>NaN</td>\n",
       "      <td>91</td>\n",
       "      <td>32.0</td>\n",
       "      <td>NaN</td>\n",
       "      <td>NaN</td>\n",
       "      <td>NaN</td>\n",
       "      <td>Mike DeSimone</td>\n",
       "      <td>@worldwineguys</td>\n",
       "      <td>Psagot 2014 Merlot</td>\n",
       "      <td>Merlot</td>\n",
       "      <td>Psagot</td>\n",
       "    </tr>\n",
       "  </tbody>\n",
       "</table>\n",
       "<p>63 rows × 13 columns</p>\n",
       "</div>"
      ],
      "text/plain": [
       "       country                                        description  \\\n",
       "913        NaN  Amber in color, this wine has aromas of peach ...   \n",
       "3131       NaN  Soft, fruity and juicy, this is a pleasant, si...   \n",
       "...        ...                                                ...   \n",
       "129590     NaN  A blend of 60% Syrah, 30% Cabernet Sauvignon a...   \n",
       "129900     NaN  This wine offers a delightful bouquet of black...   \n",
       "\n",
       "           designation  points  price province region_1 region_2  \\\n",
       "913     Asureti Valley      87   30.0      NaN      NaN      NaN   \n",
       "3131          Partager      83    NaN      NaN      NaN      NaN   \n",
       "...                ...     ...    ...      ...      ...      ...   \n",
       "129590            Shah      90   30.0      NaN      NaN      NaN   \n",
       "129900             NaN      91   32.0      NaN      NaN      NaN   \n",
       "\n",
       "          taster_name taster_twitter_handle  \\\n",
       "913     Mike DeSimone        @worldwineguys   \n",
       "3131       Roger Voss            @vossroger   \n",
       "...               ...                   ...   \n",
       "129590  Mike DeSimone        @worldwineguys   \n",
       "129900  Mike DeSimone        @worldwineguys   \n",
       "\n",
       "                                                 title    variety  \\\n",
       "913     Gotsa Family Wines 2014 Asureti Valley Chinuri    Chinuri   \n",
       "3131                 Barton & Guestier NV Partager Red  Red Blend   \n",
       "...                                                ...        ...   \n",
       "129590                         Büyülübağ 2012 Shah Red  Red Blend   \n",
       "129900                              Psagot 2014 Merlot     Merlot   \n",
       "\n",
       "                    winery  \n",
       "913     Gotsa Family Wines  \n",
       "3131     Barton & Guestier  \n",
       "...                    ...  \n",
       "129590           Büyülübağ  \n",
       "129900              Psagot  \n",
       "\n",
       "[63 rows x 13 columns]"
      ]
     },
     "execution_count": 8,
     "metadata": {},
     "output_type": "execute_result"
    }
   ],
   "source": [
    "reviews[pd.isnull(reviews.country)]"
   ]
  },
  {
   "cell_type": "markdown",
   "id": "48e75096",
   "metadata": {
    "papermill": {
     "duration": 0.004804,
     "end_time": "2022-09-13T00:01:03.721353",
     "exception": false,
     "start_time": "2022-09-13T00:01:03.716549",
     "status": "completed"
    },
    "tags": []
   },
   "source": [
    "To replace the values, there's a method for this. Just use the `fillna()`"
   ]
  },
  {
   "cell_type": "code",
   "execution_count": 9,
   "id": "f9adb926",
   "metadata": {
    "execution": {
     "iopub.execute_input": "2022-09-13T00:01:03.735814Z",
     "iopub.status.busy": "2022-09-13T00:01:03.735277Z",
     "iopub.status.idle": "2022-09-13T00:01:03.756218Z",
     "shell.execute_reply": "2022-09-13T00:01:03.754056Z"
    },
    "papermill": {
     "duration": 0.031642,
     "end_time": "2022-09-13T00:01:03.759336",
     "exception": false,
     "start_time": "2022-09-13T00:01:03.727694",
     "status": "completed"
    },
    "tags": []
   },
   "outputs": [
    {
     "data": {
      "text/plain": [
       "0         Unkown\n",
       "1         Unkown\n",
       "           ...  \n",
       "129969    Unkown\n",
       "129970    Unkown\n",
       "Name: region_2, Length: 129971, dtype: object"
      ]
     },
     "execution_count": 9,
     "metadata": {},
     "output_type": "execute_result"
    }
   ],
   "source": [
    "reviews.region_2.fillna('Unkown')"
   ]
  },
  {
   "cell_type": "code",
   "execution_count": 10,
   "id": "cf2d2bf1",
   "metadata": {
    "execution": {
     "iopub.execute_input": "2022-09-13T00:01:03.773395Z",
     "iopub.status.busy": "2022-09-13T00:01:03.772894Z",
     "iopub.status.idle": "2022-09-13T00:01:03.788484Z",
     "shell.execute_reply": "2022-09-13T00:01:03.786527Z"
    },
    "papermill": {
     "duration": 0.025682,
     "end_time": "2022-09-13T00:01:03.791022",
     "exception": false,
     "start_time": "2022-09-13T00:01:03.765340",
     "status": "completed"
    },
    "tags": []
   },
   "outputs": [
    {
     "data": {
      "text/plain": [
       "0            @kerino\n",
       "1         @vossroger\n",
       "             ...    \n",
       "129969    @vossroger\n",
       "129970    @vossroger\n",
       "Name: taster_twitter_handle, Length: 129971, dtype: object"
      ]
     },
     "execution_count": 10,
     "metadata": {},
     "output_type": "execute_result"
    }
   ],
   "source": [
    "reviews.taster_twitter_handle.replace(\"@kerinokeefe\", \"@kerino\")"
   ]
  },
  {
   "cell_type": "code",
   "execution_count": null,
   "id": "af4b2d78",
   "metadata": {
    "papermill": {
     "duration": 0.005081,
     "end_time": "2022-09-13T00:01:03.801975",
     "exception": false,
     "start_time": "2022-09-13T00:01:03.796894",
     "status": "completed"
    },
    "tags": []
   },
   "outputs": [],
   "source": []
  }
 ],
 "metadata": {
  "kernelspec": {
   "display_name": "Python 3",
   "language": "python",
   "name": "python3"
  },
  "language_info": {
   "codemirror_mode": {
    "name": "ipython",
    "version": 3
   },
   "file_extension": ".py",
   "mimetype": "text/x-python",
   "name": "python",
   "nbconvert_exporter": "python",
   "pygments_lexer": "ipython3",
   "version": "3.7.12"
  },
  "papermill": {
   "default_parameters": {},
   "duration": 13.524368,
   "end_time": "2022-09-13T00:01:04.833382",
   "environment_variables": {},
   "exception": null,
   "input_path": "__notebook__.ipynb",
   "output_path": "__notebook__.ipynb",
   "parameters": {},
   "start_time": "2022-09-13T00:00:51.309014",
   "version": "2.3.4"
  }
 },
 "nbformat": 4,
 "nbformat_minor": 5
}
